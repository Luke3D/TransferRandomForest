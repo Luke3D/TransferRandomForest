{
 "cells": [
  {
   "cell_type": "markdown",
   "metadata": {
    "collapsed": false
   },
   "source": [
    "# Application of Transfer Learning Activity Recognition\n",
    "This notebook shows an application of the SER+STRUT (Mix) approach on a problem of Activity Recognition from accelerometer data. The source dataset comes from Healthy subjects, and the target dataset corresponds to Patients' data"
   ]
  },
  {
   "cell_type": "code",
   "execution_count": 1,
   "metadata": {
    "collapsed": false
   },
   "outputs": [],
   "source": [
    "from __future__ import division\n",
    "import numpy as np\n",
    "from sklearn.datasets import make_classification\n",
    "from sklearn.cross_validation import train_test_split\n",
    "from sklearn.metrics import confusion_matrix\n",
    "from sklearn.ensemble import RandomForestClassifier\n",
    "from sklearn.tree import DecisionTreeClassifier\n",
    "import matplotlib.pyplot as plt\n",
    "%matplotlib inline\n",
    "import graphlab\n",
    "\n",
    "import sys\n",
    "sys.path.append('./Doc/')\n",
    "import TRF #Functions for Transfer Random Forest"
   ]
  },
  {
   "cell_type": "markdown",
   "metadata": {},
   "source": [
    "### Helper fcns"
   ]
  },
  {
   "cell_type": "code",
   "execution_count": 2,
   "metadata": {
    "collapsed": false
   },
   "outputs": [],
   "source": [
    "def plot_confusion_matrix(cm, title='Confusion matrix', cmap=plt.cm.Blues):\n",
    "    plt.imshow(cm, interpolation='nearest', cmap=cmap)\n",
    "    plt.title(title)\n",
    "    plt.colorbar()\n",
    "    tick_marks = np.arange(5)\n",
    "    plt.xticks(tick_marks, ['Sit','StairsUp','StairsDw','Stand','Walk'], rotation=45)\n",
    "    plt.yticks(tick_marks, ['Sit','StairsUp','StairsDw','Stand','Walk'])\n",
    "    plt.tight_layout()\n",
    "    plt.ylabel('True label')\n",
    "    plt.xlabel('Predicted label')\n",
    "    \n",
    "    #balanced accuracy\n",
    "def Balanced_acc(ypred,ytest):\n",
    "    acc_c = 0\n",
    "    acc_class = np.zeros(5) #the accuracy per class\n",
    "    for c in np.unique(ytest):\n",
    "        i = ytest == c\n",
    "        correct = ypred[i] == ytest[i]\n",
    "        acc_c += sum(correct)/len(correct)\n",
    "        acc_class[c] = sum(correct)/len(correct)\n",
    "\n",
    "    Bacc = acc_c/len(np.unique(ytest))\n",
    "    return Bacc,acc_class"
   ]
  },
  {
   "cell_type": "markdown",
   "metadata": {},
   "source": [
    "## Importing Data\n",
    "you need Graphlab installed to load this dataset"
   ]
  },
  {
   "cell_type": "code",
   "execution_count": 3,
   "metadata": {
    "collapsed": false
   },
   "outputs": [
    {
     "name": "stderr",
     "output_type": "stream",
     "text": [
      "[INFO] graphlab.cython.cy_server: GraphLab Create v2.1 started. Logging: /tmp/graphlab_server_1479946794.log\n"
     ]
    },
    {
     "name": "stdout",
     "output_type": "stream",
     "text": [
      "This non-commercial license of GraphLab Create for academic use is assigned to llonini@ricres.org and will expire on October 14, 2017.\n"
     ]
    }
   ],
   "source": [
    "HealthyData = graphlab.SFrame.read_csv('../Datasets/Cbrace/HealthyData.csv',verbose=False)\n",
    "CBRData = graphlab.SFrame.read_csv('../Datasets/Cbrace/CBRDataTRF.csv',verbose=False)\n",
    "#SCOData = graphlab.SFrame.read_csv('../Datasets/Cbrace/PatientSCOData.csv',verbose=False)"
   ]
  },
  {
   "cell_type": "code",
   "execution_count": 4,
   "metadata": {
    "collapsed": false
   },
   "outputs": [
    {
     "data": {
      "text/html": [
       "<div style=\"max-height:1000px;max-width:1500px;overflow:auto;\"><table frame=\"box\" rules=\"cols\">\n",
       "    <tr>\n",
       "        <th style=\"padding-left: 1em; padding-right: 1em; text-align: center\">SubjID</th>\n",
       "        <th style=\"padding-left: 1em; padding-right: 1em; text-align: center\">Session</th>\n",
       "        <th style=\"padding-left: 1em; padding-right: 1em; text-align: center\">Features_  1</th>\n",
       "        <th style=\"padding-left: 1em; padding-right: 1em; text-align: center\">Features_  2</th>\n",
       "        <th style=\"padding-left: 1em; padding-right: 1em; text-align: center\">Features_  3</th>\n",
       "        <th style=\"padding-left: 1em; padding-right: 1em; text-align: center\">Features_  4</th>\n",
       "        <th style=\"padding-left: 1em; padding-right: 1em; text-align: center\">Features_  5</th>\n",
       "        <th style=\"padding-left: 1em; padding-right: 1em; text-align: center\">Features_  6</th>\n",
       "        <th style=\"padding-left: 1em; padding-right: 1em; text-align: center\">Features_  7</th>\n",
       "    </tr>\n",
       "    <tr>\n",
       "        <td style=\"padding-left: 1em; padding-right: 1em; text-align: center; vertical-align: top\">1</td>\n",
       "        <td style=\"padding-left: 1em; padding-right: 1em; text-align: center; vertical-align: top\">1</td>\n",
       "        <td style=\"padding-left: 1em; padding-right: 1em; text-align: center; vertical-align: top\">0.0513823</td>\n",
       "        <td style=\"padding-left: 1em; padding-right: 1em; text-align: center; vertical-align: top\">0.6076</td>\n",
       "        <td style=\"padding-left: 1em; padding-right: 1em; text-align: center; vertical-align: top\">0.196</td>\n",
       "        <td style=\"padding-left: 1em; padding-right: 1em; text-align: center; vertical-align: top\">0</td>\n",
       "        <td style=\"padding-left: 1em; padding-right: 1em; text-align: center; vertical-align: top\">181</td>\n",
       "        <td style=\"padding-left: 1em; padding-right: 1em; text-align: center; vertical-align: top\">0</td>\n",
       "        <td style=\"padding-left: 1em; padding-right: 1em; text-align: center; vertical-align: top\">0</td>\n",
       "    </tr>\n",
       "    <tr>\n",
       "        <td style=\"padding-left: 1em; padding-right: 1em; text-align: center; vertical-align: top\">1</td>\n",
       "        <td style=\"padding-left: 1em; padding-right: 1em; text-align: center; vertical-align: top\">1</td>\n",
       "        <td style=\"padding-left: 1em; padding-right: 1em; text-align: center; vertical-align: top\">0.0253934</td>\n",
       "        <td style=\"padding-left: 1em; padding-right: 1em; text-align: center; vertical-align: top\">0.6076</td>\n",
       "        <td style=\"padding-left: 1em; padding-right: 1em; text-align: center; vertical-align: top\">0.1176</td>\n",
       "        <td style=\"padding-left: 1em; padding-right: 1em; text-align: center; vertical-align: top\">0</td>\n",
       "        <td style=\"padding-left: 1em; padding-right: 1em; text-align: center; vertical-align: top\">178</td>\n",
       "        <td style=\"padding-left: 1em; padding-right: 1em; text-align: center; vertical-align: top\">3</td>\n",
       "        <td style=\"padding-left: 1em; padding-right: 1em; text-align: center; vertical-align: top\">0</td>\n",
       "    </tr>\n",
       "    <tr>\n",
       "        <td style=\"padding-left: 1em; padding-right: 1em; text-align: center; vertical-align: top\">1</td>\n",
       "        <td style=\"padding-left: 1em; padding-right: 1em; text-align: center; vertical-align: top\">1</td>\n",
       "        <td style=\"padding-left: 1em; padding-right: 1em; text-align: center; vertical-align: top\">0.0248519</td>\n",
       "        <td style=\"padding-left: 1em; padding-right: 1em; text-align: center; vertical-align: top\">0.49</td>\n",
       "        <td style=\"padding-left: 1em; padding-right: 1em; text-align: center; vertical-align: top\">0.1176</td>\n",
       "        <td style=\"padding-left: 1em; padding-right: 1em; text-align: center; vertical-align: top\">0</td>\n",
       "        <td style=\"padding-left: 1em; padding-right: 1em; text-align: center; vertical-align: top\">181</td>\n",
       "        <td style=\"padding-left: 1em; padding-right: 1em; text-align: center; vertical-align: top\">0</td>\n",
       "        <td style=\"padding-left: 1em; padding-right: 1em; text-align: center; vertical-align: top\">0</td>\n",
       "    </tr>\n",
       "</table>\n",
       "<table frame=\"box\" rules=\"cols\">\n",
       "    <tr>\n",
       "        <th style=\"padding-left: 1em; padding-right: 1em; text-align: center\">Features_  8</th>\n",
       "        <th style=\"padding-left: 1em; padding-right: 1em; text-align: center\">Features_  9</th>\n",
       "        <th style=\"padding-left: 1em; padding-right: 1em; text-align: center\">Features_ 10</th>\n",
       "        <th style=\"padding-left: 1em; padding-right: 1em; text-align: center\">Features_ 11</th>\n",
       "        <th style=\"padding-left: 1em; padding-right: 1em; text-align: center\">Features_ 12</th>\n",
       "        <th style=\"padding-left: 1em; padding-right: 1em; text-align: center\">Features_ 13</th>\n",
       "        <th style=\"padding-left: 1em; padding-right: 1em; text-align: center\">Features_ 14</th>\n",
       "        <th style=\"padding-left: 1em; padding-right: 1em; text-align: center\">Features_ 15</th>\n",
       "    </tr>\n",
       "    <tr>\n",
       "        <td style=\"padding-left: 1em; padding-right: 1em; text-align: center; vertical-align: top\">0.112454</td>\n",
       "        <td style=\"padding-left: 1em; padding-right: 1em; text-align: center; vertical-align: top\">-0.294669</td>\n",
       "        <td style=\"padding-left: 1em; padding-right: 1em; text-align: center; vertical-align: top\">2.38557</td>\n",
       "        <td style=\"padding-left: 1em; padding-right: 1em; text-align: center; vertical-align: top\">-0.000653333</td>\n",
       "        <td style=\"padding-left: 1em; padding-right: 1em; text-align: center; vertical-align: top\">0.0726573</td>\n",
       "        <td style=\"padding-left: 1em; padding-right: 1em; text-align: center; vertical-align: top\">0.181289</td>\n",
       "        <td style=\"padding-left: 1em; padding-right: 1em; text-align: center; vertical-align: top\">4.84971</td>\n",
       "        <td style=\"padding-left: 1em; padding-right: 1em; text-align: center; vertical-align: top\">7.0893</td>\n",
       "    </tr>\n",
       "    <tr>\n",
       "        <td style=\"padding-left: 1em; padding-right: 1em; text-align: center; vertical-align: top\">0.09832</td>\n",
       "        <td style=\"padding-left: 1em; padding-right: 1em; text-align: center; vertical-align: top\">0.0523105</td>\n",
       "        <td style=\"padding-left: 1em; padding-right: 1em; text-align: center; vertical-align: top\">3.41101</td>\n",
       "        <td style=\"padding-left: 1em; padding-right: 1em; text-align: center; vertical-align: top\">-0.000435556</td>\n",
       "        <td style=\"padding-left: 1em; padding-right: 1em; text-align: center; vertical-align: top\">0.0780696</td>\n",
       "        <td style=\"padding-left: 1em; padding-right: 1em; text-align: center; vertical-align: top\">0.180122</td>\n",
       "        <td style=\"padding-left: 1em; padding-right: 1em; text-align: center; vertical-align: top\">3.89013</td>\n",
       "        <td style=\"padding-left: 1em; padding-right: 1em; text-align: center; vertical-align: top\">6.99233</td>\n",
       "    </tr>\n",
       "    <tr>\n",
       "        <td style=\"padding-left: 1em; padding-right: 1em; text-align: center; vertical-align: top\">0.0841223</td>\n",
       "        <td style=\"padding-left: 1em; padding-right: 1em; text-align: center; vertical-align: top\">-0.59255</td>\n",
       "        <td style=\"padding-left: 1em; padding-right: 1em; text-align: center; vertical-align: top\">3.41422</td>\n",
       "        <td style=\"padding-left: 1em; padding-right: 1em; text-align: center; vertical-align: top\">0.000653333</td>\n",
       "        <td style=\"padding-left: 1em; padding-right: 1em; text-align: center; vertical-align: top\">0.0698794</td>\n",
       "        <td style=\"padding-left: 1em; padding-right: 1em; text-align: center; vertical-align: top\">0.246488</td>\n",
       "        <td style=\"padding-left: 1em; padding-right: 1em; text-align: center; vertical-align: top\">4.91346</td>\n",
       "        <td style=\"padding-left: 1em; padding-right: 1em; text-align: center; vertical-align: top\">6.98496</td>\n",
       "    </tr>\n",
       "</table>\n",
       "<table frame=\"box\" rules=\"cols\">\n",
       "    <tr>\n",
       "        <th style=\"padding-left: 1em; padding-right: 1em; text-align: center\">Features_ 16</th>\n",
       "        <th style=\"padding-left: 1em; padding-right: 1em; text-align: center\">Features_ 17</th>\n",
       "        <th style=\"padding-left: 1em; padding-right: 1em; text-align: center\">Features_ 18</th>\n",
       "        <th style=\"padding-left: 1em; padding-right: 1em; text-align: center\">Features_ 19</th>\n",
       "        <th style=\"padding-left: 1em; padding-right: 1em; text-align: center\">Features_ 20</th>\n",
       "        <th style=\"padding-left: 1em; padding-right: 1em; text-align: center\">Features_ 21</th>\n",
       "        <th style=\"padding-left: 1em; padding-right: 1em; text-align: center\">Features_ 22</th>\n",
       "        <th style=\"padding-left: 1em; padding-right: 1em; text-align: center\">Features_ 23</th>\n",
       "    </tr>\n",
       "    <tr>\n",
       "        <td style=\"padding-left: 1em; padding-right: 1em; text-align: center; vertical-align: top\">0.7644</td>\n",
       "        <td style=\"padding-left: 1em; padding-right: 1em; text-align: center; vertical-align: top\">0.539</td>\n",
       "        <td style=\"padding-left: 1em; padding-right: 1em; text-align: center; vertical-align: top\">0</td>\n",
       "        <td style=\"padding-left: 1em; padding-right: 1em; text-align: center; vertical-align: top\">0</td>\n",
       "        <td style=\"padding-left: 1em; padding-right: 1em; text-align: center; vertical-align: top\">0</td>\n",
       "        <td style=\"padding-left: 1em; padding-right: 1em; text-align: center; vertical-align: top\">0</td>\n",
       "        <td style=\"padding-left: 1em; padding-right: 1em; text-align: center; vertical-align: top\">0.252559</td>\n",
       "        <td style=\"padding-left: 1em; padding-right: 1em; text-align: center; vertical-align: top\">0.441806</td>\n",
       "    </tr>\n",
       "    <tr>\n",
       "        <td style=\"padding-left: 1em; padding-right: 1em; text-align: center; vertical-align: top\">0.7644</td>\n",
       "        <td style=\"padding-left: 1em; padding-right: 1em; text-align: center; vertical-align: top\">0.1568</td>\n",
       "        <td style=\"padding-left: 1em; padding-right: 1em; text-align: center; vertical-align: top\">0</td>\n",
       "        <td style=\"padding-left: 1em; padding-right: 1em; text-align: center; vertical-align: top\">0</td>\n",
       "        <td style=\"padding-left: 1em; padding-right: 1em; text-align: center; vertical-align: top\">0</td>\n",
       "        <td style=\"padding-left: 1em; padding-right: 1em; text-align: center; vertical-align: top\">0</td>\n",
       "        <td style=\"padding-left: 1em; padding-right: 1em; text-align: center; vertical-align: top\">0.163776</td>\n",
       "        <td style=\"padding-left: 1em; padding-right: 1em; text-align: center; vertical-align: top\">1.35067</td>\n",
       "    </tr>\n",
       "    <tr>\n",
       "        <td style=\"padding-left: 1em; padding-right: 1em; text-align: center; vertical-align: top\">0.49</td>\n",
       "        <td style=\"padding-left: 1em; padding-right: 1em; text-align: center; vertical-align: top\">0.1176</td>\n",
       "        <td style=\"padding-left: 1em; padding-right: 1em; text-align: center; vertical-align: top\">0</td>\n",
       "        <td style=\"padding-left: 1em; padding-right: 1em; text-align: center; vertical-align: top\">0</td>\n",
       "        <td style=\"padding-left: 1em; padding-right: 1em; text-align: center; vertical-align: top\">0</td>\n",
       "        <td style=\"padding-left: 1em; padding-right: 1em; text-align: center; vertical-align: top\">0</td>\n",
       "        <td style=\"padding-left: 1em; padding-right: 1em; text-align: center; vertical-align: top\">0.0861119</td>\n",
       "        <td style=\"padding-left: 1em; padding-right: 1em; text-align: center; vertical-align: top\">-0.935386</td>\n",
       "    </tr>\n",
       "</table>\n",
       "<table frame=\"box\" rules=\"cols\">\n",
       "    <tr>\n",
       "        <th style=\"padding-left: 1em; padding-right: 1em; text-align: center\">Features_ 24</th>\n",
       "        <th style=\"padding-left: 1em; padding-right: 1em; text-align: center\">Features_ 25</th>\n",
       "        <th style=\"padding-left: 1em; padding-right: 1em; text-align: center\">Features_ 26</th>\n",
       "        <th style=\"padding-left: 1em; padding-right: 1em; text-align: center\">Features_ 27</th>\n",
       "        <th style=\"padding-left: 1em; padding-right: 1em; text-align: center\">Features_ 28</th>\n",
       "        <th style=\"padding-left: 1em; padding-right: 1em; text-align: center\">Features_ 29</th>\n",
       "        <th style=\"padding-left: 1em; padding-right: 1em; text-align: center\">Features_ 30</th>\n",
       "        <th style=\"padding-left: 1em; padding-right: 1em; text-align: center\">Features_ 31</th>\n",
       "    </tr>\n",
       "    <tr>\n",
       "        <td style=\"padding-left: 1em; padding-right: 1em; text-align: center; vertical-align: top\">1.50225</td>\n",
       "        <td style=\"padding-left: 1em; padding-right: 1em; text-align: center; vertical-align: top\">-0.00234111</td>\n",
       "        <td style=\"padding-left: 1em; padding-right: 1em; text-align: center; vertical-align: top\">0.061436</td>\n",
       "        <td style=\"padding-left: 1em; padding-right: 1em; text-align: center; vertical-align: top\">-0.350426</td>\n",
       "        <td style=\"padding-left: 1em; padding-right: 1em; text-align: center; vertical-align: top\">5.98909</td>\n",
       "        <td style=\"padding-left: 1em; padding-right: 1em; text-align: center; vertical-align: top\">8.27023</td>\n",
       "        <td style=\"padding-left: 1em; padding-right: 1em; text-align: center; vertical-align: top\">0.8428</td>\n",
       "        <td style=\"padding-left: 1em; padding-right: 1em; text-align: center; vertical-align: top\">0.4606</td>\n",
       "    </tr>\n",
       "    <tr>\n",
       "        <td style=\"padding-left: 1em; padding-right: 1em; text-align: center; vertical-align: top\">4.8749</td>\n",
       "        <td style=\"padding-left: 1em; padding-right: 1em; text-align: center; vertical-align: top\">-0.00190556</td>\n",
       "        <td style=\"padding-left: 1em; padding-right: 1em; text-align: center; vertical-align: top\">0.0682046</td>\n",
       "        <td style=\"padding-left: 1em; padding-right: 1em; text-align: center; vertical-align: top\">-0.272878</td>\n",
       "        <td style=\"padding-left: 1em; padding-right: 1em; text-align: center; vertical-align: top\">4.35673</td>\n",
       "        <td style=\"padding-left: 1em; padding-right: 1em; text-align: center; vertical-align: top\">8.34928</td>\n",
       "        <td style=\"padding-left: 1em; padding-right: 1em; text-align: center; vertical-align: top\">0.8428</td>\n",
       "        <td style=\"padding-left: 1em; padding-right: 1em; text-align: center; vertical-align: top\">0.147</td>\n",
       "    </tr>\n",
       "    <tr>\n",
       "        <td style=\"padding-left: 1em; padding-right: 1em; text-align: center; vertical-align: top\">4.09907</td>\n",
       "        <td style=\"padding-left: 1em; padding-right: 1em; text-align: center; vertical-align: top\">0.0</td>\n",
       "        <td style=\"padding-left: 1em; padding-right: 1em; text-align: center; vertical-align: top\">0.0616508</td>\n",
       "        <td style=\"padding-left: 1em; padding-right: 1em; text-align: center; vertical-align: top\">0.00567047</td>\n",
       "        <td style=\"padding-left: 1em; padding-right: 1em; text-align: center; vertical-align: top\">4.06132</td>\n",
       "        <td style=\"padding-left: 1em; padding-right: 1em; text-align: center; vertical-align: top\">8.35821</td>\n",
       "        <td style=\"padding-left: 1em; padding-right: 1em; text-align: center; vertical-align: top\">0.735</td>\n",
       "        <td style=\"padding-left: 1em; padding-right: 1em; text-align: center; vertical-align: top\">0.0784</td>\n",
       "    </tr>\n",
       "</table>\n",
       "<table frame=\"box\" rules=\"cols\">\n",
       "    <tr>\n",
       "        <th style=\"padding-left: 1em; padding-right: 1em; text-align: center\">Features_ 32</th>\n",
       "        <th style=\"padding-left: 1em; padding-right: 1em; text-align: center\">Features_ 33</th>\n",
       "        <th style=\"padding-left: 1em; padding-right: 1em; text-align: center\">Features_ 34</th>\n",
       "        <th style=\"padding-left: 1em; padding-right: 1em; text-align: center\">Features_ 35</th>\n",
       "        <th style=\"padding-left: 1em; padding-right: 1em; text-align: center\">Features_ 36</th>\n",
       "        <th style=\"padding-left: 1em; padding-right: 1em; text-align: center\">Features_ 37</th>\n",
       "        <th style=\"padding-left: 1em; padding-right: 1em; text-align: center\">Features_ 38</th>\n",
       "        <th style=\"padding-left: 1em; padding-right: 1em; text-align: center\">...</th>\n",
       "    </tr>\n",
       "    <tr>\n",
       "        <td style=\"padding-left: 1em; padding-right: 1em; text-align: center; vertical-align: top\">0</td>\n",
       "        <td style=\"padding-left: 1em; padding-right: 1em; text-align: center; vertical-align: top\">0</td>\n",
       "        <td style=\"padding-left: 1em; padding-right: 1em; text-align: center; vertical-align: top\">0</td>\n",
       "        <td style=\"padding-left: 1em; padding-right: 1em; text-align: center; vertical-align: top\">0</td>\n",
       "        <td style=\"padding-left: 1em; padding-right: 1em; text-align: center; vertical-align: top\">0.219706</td>\n",
       "        <td style=\"padding-left: 1em; padding-right: 1em; text-align: center; vertical-align: top\">-0.12799</td>\n",
       "        <td style=\"padding-left: 1em; padding-right: 1em; text-align: center; vertical-align: top\">1.71928</td>\n",
       "        <td style=\"padding-left: 1em; padding-right: 1em; text-align: center; vertical-align: top\">...</td>\n",
       "    </tr>\n",
       "    <tr>\n",
       "        <td style=\"padding-left: 1em; padding-right: 1em; text-align: center; vertical-align: top\">0</td>\n",
       "        <td style=\"padding-left: 1em; padding-right: 1em; text-align: center; vertical-align: top\">0</td>\n",
       "        <td style=\"padding-left: 1em; padding-right: 1em; text-align: center; vertical-align: top\">0</td>\n",
       "        <td style=\"padding-left: 1em; padding-right: 1em; text-align: center; vertical-align: top\">0</td>\n",
       "        <td style=\"padding-left: 1em; padding-right: 1em; text-align: center; vertical-align: top\">0.15559</td>\n",
       "        <td style=\"padding-left: 1em; padding-right: 1em; text-align: center; vertical-align: top\">-0.639652</td>\n",
       "        <td style=\"padding-left: 1em; padding-right: 1em; text-align: center; vertical-align: top\">4.13275</td>\n",
       "        <td style=\"padding-left: 1em; padding-right: 1em; text-align: center; vertical-align: top\">...</td>\n",
       "    </tr>\n",
       "    <tr>\n",
       "        <td style=\"padding-left: 1em; padding-right: 1em; text-align: center; vertical-align: top\">0</td>\n",
       "        <td style=\"padding-left: 1em; padding-right: 1em; text-align: center; vertical-align: top\">0</td>\n",
       "        <td style=\"padding-left: 1em; padding-right: 1em; text-align: center; vertical-align: top\">0</td>\n",
       "        <td style=\"padding-left: 1em; padding-right: 1em; text-align: center; vertical-align: top\">0</td>\n",
       "        <td style=\"padding-left: 1em; padding-right: 1em; text-align: center; vertical-align: top\">0.0925837</td>\n",
       "        <td style=\"padding-left: 1em; padding-right: 1em; text-align: center; vertical-align: top\">1.03393</td>\n",
       "        <td style=\"padding-left: 1em; padding-right: 1em; text-align: center; vertical-align: top\">7.73593</td>\n",
       "        <td style=\"padding-left: 1em; padding-right: 1em; text-align: center; vertical-align: top\">...</td>\n",
       "    </tr>\n",
       "</table>\n",
       "[3 rows x 134 columns]<br/>\n",
       "</div>"
      ],
      "text/plain": [
       "Columns:\n",
       "\tSubjID\tint\n",
       "\tSession\tint\n",
       "\tFeatures_  1\tfloat\n",
       "\tFeatures_  2\tfloat\n",
       "\tFeatures_  3\tfloat\n",
       "\tFeatures_  4\tint\n",
       "\tFeatures_  5\tint\n",
       "\tFeatures_  6\tint\n",
       "\tFeatures_  7\tint\n",
       "\tFeatures_  8\tfloat\n",
       "\tFeatures_  9\tfloat\n",
       "\tFeatures_ 10\tfloat\n",
       "\tFeatures_ 11\tfloat\n",
       "\tFeatures_ 12\tfloat\n",
       "\tFeatures_ 13\tfloat\n",
       "\tFeatures_ 14\tfloat\n",
       "\tFeatures_ 15\tfloat\n",
       "\tFeatures_ 16\tfloat\n",
       "\tFeatures_ 17\tfloat\n",
       "\tFeatures_ 18\tint\n",
       "\tFeatures_ 19\tint\n",
       "\tFeatures_ 20\tint\n",
       "\tFeatures_ 21\tint\n",
       "\tFeatures_ 22\tfloat\n",
       "\tFeatures_ 23\tfloat\n",
       "\tFeatures_ 24\tfloat\n",
       "\tFeatures_ 25\tfloat\n",
       "\tFeatures_ 26\tfloat\n",
       "\tFeatures_ 27\tfloat\n",
       "\tFeatures_ 28\tfloat\n",
       "\tFeatures_ 29\tfloat\n",
       "\tFeatures_ 30\tfloat\n",
       "\tFeatures_ 31\tfloat\n",
       "\tFeatures_ 32\tint\n",
       "\tFeatures_ 33\tint\n",
       "\tFeatures_ 34\tint\n",
       "\tFeatures_ 35\tint\n",
       "\tFeatures_ 36\tfloat\n",
       "\tFeatures_ 37\tfloat\n",
       "\tFeatures_ 38\tfloat\n",
       "\tFeatures_ 39\tfloat\n",
       "\tFeatures_ 40\tfloat\n",
       "\tFeatures_ 41\tfloat\n",
       "\tFeatures_ 42\tfloat\n",
       "\tFeatures_ 43\tfloat\n",
       "\tFeatures_ 44\tfloat\n",
       "\tFeatures_ 45\tfloat\n",
       "\tFeatures_ 46\tfloat\n",
       "\tFeatures_ 47\tfloat\n",
       "\tFeatures_ 48\tfloat\n",
       "\tFeatures_ 49\tfloat\n",
       "\tFeatures_ 50\tfloat\n",
       "\tFeatures_ 51\tfloat\n",
       "\tFeatures_ 52\tfloat\n",
       "\tFeatures_ 53\tfloat\n",
       "\tFeatures_ 54\tfloat\n",
       "\tFeatures_ 55\tfloat\n",
       "\tFeatures_ 56\tfloat\n",
       "\tFeatures_ 57\tfloat\n",
       "\tFeatures_ 58\tfloat\n",
       "\tFeatures_ 59\tfloat\n",
       "\tFeatures_ 60\tfloat\n",
       "\tFeatures_ 61\tfloat\n",
       "\tFeatures_ 62\tfloat\n",
       "\tFeatures_ 63\tfloat\n",
       "\tFeatures_ 64\tfloat\n",
       "\tFeatures_ 65\tfloat\n",
       "\tFeatures_ 66\tfloat\n",
       "\tFeatures_ 67\tfloat\n",
       "\tFeatures_ 68\tfloat\n",
       "\tFeatures_ 69\tfloat\n",
       "\tFeatures_ 70\tfloat\n",
       "\tFeatures_ 71\tfloat\n",
       "\tFeatures_ 72\tfloat\n",
       "\tFeatures_ 73\tfloat\n",
       "\tFeatures_ 74\tfloat\n",
       "\tFeatures_ 75\tfloat\n",
       "\tFeatures_ 76\tfloat\n",
       "\tFeatures_ 77\tfloat\n",
       "\tFeatures_ 78\tfloat\n",
       "\tFeatures_ 79\tfloat\n",
       "\tFeatures_ 80\tfloat\n",
       "\tFeatures_ 81\tfloat\n",
       "\tFeatures_ 82\tfloat\n",
       "\tFeatures_ 83\tfloat\n",
       "\tFeatures_ 84\tfloat\n",
       "\tFeatures_ 85\tfloat\n",
       "\tFeatures_ 86\tfloat\n",
       "\tFeatures_ 87\tfloat\n",
       "\tFeatures_ 88\tfloat\n",
       "\tFeatures_ 89\tfloat\n",
       "\tFeatures_ 90\tfloat\n",
       "\tFeatures_ 91\tfloat\n",
       "\tFeatures_ 92\tfloat\n",
       "\tFeatures_ 93\tfloat\n",
       "\tFeatures_ 94\tfloat\n",
       "\tFeatures_ 95\tfloat\n",
       "\tFeatures_ 96\tfloat\n",
       "\tFeatures_ 97\tfloat\n",
       "\tFeatures_ 98\tfloat\n",
       "\tFeatures_ 99\tfloat\n",
       "\tFeatures_100\tfloat\n",
       "\tFeatures_101\tfloat\n",
       "\tFeatures_102\tfloat\n",
       "\tFeatures_103\tfloat\n",
       "\tFeatures_104\tfloat\n",
       "\tFeatures_105\tfloat\n",
       "\tFeatures_106\tfloat\n",
       "\tFeatures_107\tfloat\n",
       "\tFeatures_108\tfloat\n",
       "\tFeatures_109\tfloat\n",
       "\tFeatures_110\tfloat\n",
       "\tFeatures_111\tfloat\n",
       "\tFeatures_112\tfloat\n",
       "\tFeatures_113\tfloat\n",
       "\tFeatures_114\tfloat\n",
       "\tFeatures_115\tfloat\n",
       "\tFeatures_116\tfloat\n",
       "\tFeatures_117\tfloat\n",
       "\tFeatures_118\tfloat\n",
       "\tFeatures_119\tfloat\n",
       "\tFeatures_120\tfloat\n",
       "\tFeatures_121\tfloat\n",
       "\tFeatures_122\tfloat\n",
       "\tFeatures_123\tfloat\n",
       "\tFeatures_124\tfloat\n",
       "\tFeatures_125\tfloat\n",
       "\tFeatures_126\tfloat\n",
       "\tFeatures_127\tfloat\n",
       "\tFeatures_128\tfloat\n",
       "\tFeatures_129\tfloat\n",
       "\tFeatures_130\tfloat\n",
       "\tFeatures_131\tfloat\n",
       "\tLabel\tint\n",
       "\n",
       "Rows: 3\n",
       "\n",
       "Data:\n",
       "+--------+---------+--------------+--------------+--------------+--------------+\n",
       "| SubjID | Session | Features_  1 | Features_  2 | Features_  3 | Features_  4 |\n",
       "+--------+---------+--------------+--------------+--------------+--------------+\n",
       "|   1    |    1    |  0.0513823   |    0.6076    |    0.196     |      0       |\n",
       "|   1    |    1    |  0.0253934   |    0.6076    |    0.1176    |      0       |\n",
       "|   1    |    1    |  0.0248519   |     0.49     |    0.1176    |      0       |\n",
       "+--------+---------+--------------+--------------+--------------+--------------+\n",
       "+--------------+--------------+--------------+--------------+--------------+\n",
       "| Features_  5 | Features_  6 | Features_  7 | Features_  8 | Features_  9 |\n",
       "+--------------+--------------+--------------+--------------+--------------+\n",
       "|     181      |      0       |      0       |   0.112454   |  -0.294669   |\n",
       "|     178      |      3       |      0       |   0.09832    |  0.0523105   |\n",
       "|     181      |      0       |      0       |  0.0841223   |   -0.59255   |\n",
       "+--------------+--------------+--------------+--------------+--------------+\n",
       "+--------------+--------------+--------------+--------------+--------------+\n",
       "| Features_ 10 | Features_ 11 | Features_ 12 | Features_ 13 | Features_ 14 |\n",
       "+--------------+--------------+--------------+--------------+--------------+\n",
       "|   2.38557    | -0.000653333 |  0.0726573   |   0.181289   |   4.84971    |\n",
       "|   3.41101    | -0.000435556 |  0.0780696   |   0.180122   |   3.89013    |\n",
       "|   3.41422    | 0.000653333  |  0.0698794   |   0.246488   |   4.91346    |\n",
       "+--------------+--------------+--------------+--------------+--------------+\n",
       "+--------------+--------------+--------------+--------------+-----+\n",
       "| Features_ 15 | Features_ 16 | Features_ 17 | Features_ 18 | ... |\n",
       "+--------------+--------------+--------------+--------------+-----+\n",
       "|    7.0893    |    0.7644    |    0.539     |      0       | ... |\n",
       "|   6.99233    |    0.7644    |    0.1568    |      0       | ... |\n",
       "|   6.98496    |     0.49     |    0.1176    |      0       | ... |\n",
       "+--------------+--------------+--------------+--------------+-----+\n",
       "[3 rows x 134 columns]"
      ]
     },
     "execution_count": 4,
     "metadata": {},
     "output_type": "execute_result"
    }
   ],
   "source": [
    "CBRData.head(3)"
   ]
  },
  {
   "cell_type": "code",
   "execution_count": 5,
   "metadata": {
    "collapsed": false
   },
   "outputs": [
    {
     "name": "stdout",
     "output_type": "stream",
     "text": [
      "[51, 52, 53, 54, 55, 56, 57, 58, 59, 60, 61]\n",
      "[1, 2, 5, 6, 11, 12, 13, 14, 15, 16, 24]\n"
     ]
    }
   ],
   "source": [
    "#SUBJECTS IN THE DATABASE\n",
    "HealthyCodes = HealthyData['SubjID'].unique()\n",
    "HealthyCodes = HealthyCodes.sort()\n",
    "print HealthyCodes\n",
    "PatientCodes = CBRData['SubjID'].unique()\n",
    "PatientCodes = PatientCodes.sort()\n",
    "print PatientCodes\n",
    "\n",
    "col_names = HealthyData.column_names()\n",
    "label_cols = col_names[-1:] #the : is used to return a list with one element \n",
    "feature_cols = col_names[2:-1]"
   ]
  },
  {
   "cell_type": "markdown",
   "metadata": {},
   "source": [
    "## Train on Healthy (Source) and test on patients (Target)\n",
    "* Keep one session out (later used for target) and compute mean error\n",
    "* Use session 1 as target"
   ]
  },
  {
   "cell_type": "code",
   "execution_count": 6,
   "metadata": {
    "collapsed": false
   },
   "outputs": [
    {
     "data": {
      "text/plain": [
       "<matplotlib.text.Text at 0x121b75ed0>"
      ]
     },
     "execution_count": 6,
     "metadata": {},
     "output_type": "execute_result"
    },
    {
     "data": {
      "image/png": "[encoded data removed]",
      "text/plain": [
       "<matplotlib.figure.Figure at 0x11f57f250>"
      ]
     },
     "metadata": {},
     "output_type": "display_data"
    }
   ],
   "source": [
    "labels = CBRData['Label']\n",
    "classes,unique_counts = np.unique(labels,return_counts=True)\n",
    "plt.bar(classes,unique_counts)\n",
    "plt.title('Class distribution - CBR data')"
   ]
  },
  {
   "cell_type": "markdown",
   "metadata": {},
   "source": [
    "There is a strong class imbalance in the data"
   ]
  },
  {
   "cell_type": "code",
   "execution_count": 7,
   "metadata": {
    "collapsed": false
   },
   "outputs": [
    {
     "name": "stdout",
     "output_type": "stream",
     "text": [
      "Test on Patient 1, Nclasses test = 5\n",
      "Train samples = 8375, Test samples = 1855\n",
      "BAcc = 0.49\n",
      "Test on Patient 2, Nclasses test = 5\n",
      "Train samples = 8375, Test samples = 1228\n",
      "BAcc = 0.36\n",
      "Test on Patient 5, Nclasses test = 5\n",
      "Train samples = 8375, Test samples = 1819\n",
      "BAcc = 0.47\n",
      "Test on Patient 6, Nclasses test = 5\n",
      "Train samples = 8375, Test samples = 1949\n",
      "BAcc = 0.67\n",
      "Test on Patient 11, Nclasses test = 5\n",
      "Train samples = 8375, Test samples = 748\n",
      "BAcc = 0.41\n",
      "Test on Patient 12, Nclasses test = 5\n",
      "Train samples = 8375, Test samples = 713\n",
      "BAcc = 0.38\n",
      "Test on Patient 13, Nclasses test = 5\n",
      "Train samples = 8375, Test samples = 1197\n",
      "BAcc = 0.43\n",
      "Test on Patient 14, Nclasses test = 5\n",
      "Train samples = 8375, Test samples = 1127\n",
      "BAcc = 0.55\n",
      "Test on Patient 15, Nclasses test = 5\n",
      "Train samples = 8375, Test samples = 2671\n",
      "BAcc = 0.50\n",
      "Test on Patient 16, Nclasses test = 5\n",
      "Train samples = 8375, Test samples = 1354\n",
      "BAcc = 0.64\n",
      "Test on Patient 24, Nclasses test = 5\n",
      "Train samples = 8375, Test samples = 1702\n",
      "BAcc = 0.66\n",
      "\n",
      "mean Bacc Source only = 0.505962133164\n"
     ]
    }
   ],
   "source": [
    "target_session = 1\n",
    "\n",
    "Xtrain = HealthyData.select_columns(feature_cols).to_numpy()\n",
    "ytrain = HealthyData.select_columns(label_cols).to_numpy()\n",
    "ytrain = ytrain.reshape(-1) #to squeeze last dimension and obtain a 1D array\n",
    "#Train forest on Source\n",
    "RF = RandomForestClassifier(n_estimators=10,criterion='entropy')\n",
    "RF = RF.fit(Xtrain,ytrain)\n",
    "\n",
    "#test on each patient (CBR)\n",
    "SOacc = np.zeros(len(PatientCodes)) #balanced accuracy per patient\n",
    "acc_class_subj = [] #accuracy per class for each subject\n",
    "cmat_subj = [] #confusion matrix for each subject (a list)\n",
    "\n",
    "k = 0\n",
    "for s in PatientCodes:\n",
    "    test = CBRData[(CBRData['SubjID'] == s)  & (CBRData['Session'] != target_session)] #keep out one session (used later for target)\n",
    "    Xtest = test.select_columns(feature_cols).to_numpy()\n",
    "    ytest = test.select_columns(label_cols).to_numpy()\n",
    "    ytest = ytest.reshape(-1) #to squeeze last dimension and obtain a 1D array\n",
    "    Nclasses = len(np.unique(ytest))\n",
    "    print 'Test on Patient {}, Nclasses test = {}'.format(s,Nclasses)\n",
    "    print 'Train samples = {}, Test samples = {}'.format(len(ytrain),len(ytest))\n",
    "    ypred = RF.predict(Xtest)\n",
    "\n",
    "    #acc = sum(ypred == ytest)/len(ytest)\n",
    "    #SOacc[k] = acc\n",
    "\n",
    "    #compute confusion matrix and save results\n",
    "    #labels=[\"sitting\", \"stairs dw\", \"stairs up\", \"standing\", \"walking\"])\n",
    "    Nclass_pred = len(np.unique(ypred))\n",
    "    cmat = confusion_matrix(ytest, ypred)\n",
    "    totals = cmat.sum(axis=1)\n",
    "    totals = np.tile(totals,(max(Nclass_pred,Nclasses),1))\n",
    "    totals = totals.T\n",
    "    cmat = cmat/totals\n",
    "    cmat_subj.append(cmat)\n",
    " \n",
    "    #balanced accuracy\n",
    "    SOacc[k],acc_class = Balanced_acc(ypred,ytest)\n",
    "    acc_class_subj.append(acc_class)    \n",
    "    print 'BAcc = {:.2f}'.format(SOacc[k])\n",
    "    k = k+1\n",
    "\n",
    "print '\\nmean Bacc Source only = %s'%SOacc.mean()"
   ]
  },
  {
   "cell_type": "code",
   "execution_count": 8,
   "metadata": {
    "collapsed": false
   },
   "outputs": [
    {
     "data": {
      "text/plain": [
       "<function matplotlib.pyplot.show>"
      ]
     },
     "execution_count": 8,
     "metadata": {},
     "output_type": "execute_result"
    },
    {
     "data": {
      "image/png": "[encoded data removed]",
      "text/plain": [
       "<matplotlib.figure.Figure at 0x1225bfe90>"
      ]
     },
     "metadata": {},
     "output_type": "display_data"
    }
   ],
   "source": [
    "a= np.asarray(acc_class_subj)\n",
    "plt.boxplot(a)\n",
    "plt.axis([0,6,-0.1,1.1])\n",
    "plt.title('acc per class across subjects')\n",
    "plt.show"
   ]
  },
  {
   "cell_type": "code",
   "execution_count": 9,
   "metadata": {
    "collapsed": false
   },
   "outputs": [
    {
     "data": {
      "image/png": "[encoded data removed]",
      "text/plain": [
       "<matplotlib.figure.Figure at 0x121b752d0>"
      ]
     },
     "metadata": {},
     "output_type": "display_data"
    }
   ],
   "source": [
    "plot_confusion_matrix(cmat_subj[1])"
   ]
  },
  {
   "cell_type": "markdown",
   "metadata": {
    "collapsed": true
   },
   "source": [
    "## Train a forest on Target data only\n",
    "Use 1 session (#1) for each patient as a target"
   ]
  },
  {
   "cell_type": "code",
   "execution_count": 10,
   "metadata": {
    "collapsed": false
   },
   "outputs": [
    {
     "name": "stdout",
     "output_type": "stream",
     "text": [
      "Patient 1, Nclass test = 5, BAcc - Target only = 0.71, Acc per class = [ 0.91  0.53  0.58  0.74  0.81]\n",
      "\n",
      "Patient 2, Nclass test = 5, BAcc - Target only = 0.52, Acc per class = [ 0.99  0.44  0.32  0.    0.84]\n",
      "\n",
      "Patient 5, Nclass test = 5, BAcc - Target only = 0.61, Acc per class = [ 0.94  0.01  0.58  0.56  0.95]\n",
      "\n",
      "Patient 6, Nclass test = 5, BAcc - Target only = 0.68, Acc per class = [ 0.83  0.82  0.37  0.51  0.89]\n",
      "\n",
      "Patient 11, Nclass test = 5, BAcc - Target only = 0.49, Acc per class = [ 0.39  0.    0.09  1.    0.96]\n",
      "\n",
      "Patient 12, Nclass test = 5, BAcc - Target only = 0.57, Acc per class = [ 0.62  0.05  0.96  0.27  0.96]\n",
      "\n",
      "Patient 13, Nclass test = 5, BAcc - Target only = 0.50, Acc per class = [ 0.92  0.11  0.    0.64  0.82]\n",
      "\n",
      "Patient 14, Nclass test = 5, BAcc - Target only = 0.72, Acc per class = [ 0.95  0.02  0.79  0.92  0.92]\n",
      "\n",
      "Patient 15, Nclass test = 5, BAcc - Target only = 0.64, Acc per class = [ 1.    0.02  0.23  0.95  0.99]\n",
      "\n",
      "Patient 16, Nclass test = 5, BAcc - Target only = 0.63, Acc per class = [ 0.9   0.1   0.67  0.98  0.52]\n",
      "\n",
      "Patient 24, Nclass test = 5, BAcc - Target only = 0.77, Acc per class = [ 0.77  0.63  0.72  0.93  0.82]\n",
      "\n",
      "\n",
      "mean acc Target only = 0.62\n"
     ]
    }
   ],
   "source": [
    "Nsessions_used = 1\n",
    "TOacc = np.zeros(len(PatientCodes))\n",
    "TOacc_all = np.zeros((len(PatientCodes),Nsessions_used)) #the accuracy for each target session used as training\n",
    "Ntarget = np.zeros((len(PatientCodes),Nsessions_used)) #the # of target data points in each target session\n",
    "\n",
    "cmat_subj = [] #confusion matrix for each subject (a list)\n",
    "acc_class_subj = [] #accuracy per class for each subject\n",
    "k = 0\n",
    "session = 0\n",
    "\n",
    "for s in PatientCodes:\n",
    "    target = CBRData[(CBRData['SubjID'] == s) & (CBRData['Session'] == target_session)]\n",
    "    test = CBRData[(CBRData['SubjID'] == s) & (CBRData['Session'] != target_session)]\n",
    "    Nclasses = len(test['Label'].unique()) #How many activities we have for this patient\n",
    "\n",
    "    Xtarget = target.select_columns(feature_cols).to_numpy()\n",
    "    ytarget = target.select_columns(label_cols).to_numpy()\n",
    "    ytarget = ytarget.reshape(-1)\n",
    "    Xtest = test.select_columns(feature_cols).to_numpy()\n",
    "    ytest = test.select_columns(label_cols).to_numpy()\n",
    "    ytest = ytest.reshape(-1)\n",
    "    Ntarget[k,session] = len(ytarget)\n",
    "\n",
    "    RF = RandomForestClassifier(n_estimators=100,criterion='entropy')\n",
    "    RF = RF.fit(Xtarget,ytarget)\n",
    "    ypred = RF.predict(Xtest)\n",
    "    #acc = sum(ypred == ytest)/len(ytest)\n",
    "\n",
    "    #compute confusion matrix and save results\n",
    "    #labels=[\"sitting\", \"stairs dw\", \"stairs up\", \"standing\", \"walking\"])\n",
    "    Nclass_pred = len(np.unique(ypred))\n",
    "    cmat = confusion_matrix(ytest, ypred)\n",
    "    totals = cmat.sum(axis=1)\n",
    "    totals = np.tile(totals,(max(Nclass_pred,Nclasses),1))\n",
    "    totals = totals.T\n",
    "    cmat = cmat/totals\n",
    "    cmat_subj.append(cmat)\n",
    "    \n",
    "    #balanced accuracy\n",
    "    TOacc[k],acc_class = Balanced_acc(ypred,ytest)\n",
    "    acc_class_subj.append(acc_class)    \n",
    "    \n",
    "    print 'Patient {}, Nclass test = {}, BAcc - Target only = {:.2f}, Acc per class = {}\\n'.format(s,Nclasses,TOacc[k],np.around(acc_class,2))\n",
    "    k = k+1\n",
    "\n",
    "print '\\nmean acc Target only = {:.2f}'.format(TOacc.mean())"
   ]
  },
  {
   "cell_type": "code",
   "execution_count": 11,
   "metadata": {
    "collapsed": false
   },
   "outputs": [
    {
     "data": {
      "text/plain": [
       "<function matplotlib.pyplot.show>"
      ]
     },
     "execution_count": 11,
     "metadata": {},
     "output_type": "execute_result"
    },
    {
     "data": {
      "image/png": "[encoded data removed]",
      "text/plain": [
       "<matplotlib.figure.Figure at 0x12da56ed0>"
      ]
     },
     "metadata": {},
     "output_type": "display_data"
    }
   ],
   "source": [
    "plt.boxplot(np.asarray(acc_class_subj))\n",
    "plt.title('acc per class across subjects')\n",
    "plt.axis([0,6,-0.1,1.1])\n",
    "plt.show"
   ]
  },
  {
   "cell_type": "code",
   "execution_count": 12,
   "metadata": {
    "collapsed": false
   },
   "outputs": [
    {
     "data": {
      "image/png": "[encoded data removed]",
      "text/plain": [
       "<matplotlib.figure.Figure at 0x12d4fb150>"
      ]
     },
     "metadata": {},
     "output_type": "display_data"
    }
   ],
   "source": [
    "plot_confusion_matrix(cmat_subj[1])"
   ]
  },
  {
   "cell_type": "markdown",
   "metadata": {},
   "source": [
    "## Use MIX (SER + STRUT) to enhance forest trained on Source with target data from each patient "
   ]
  },
  {
   "cell_type": "code",
   "execution_count": 13,
   "metadata": {
    "collapsed": false
   },
   "outputs": [
    {
     "name": "stderr",
     "output_type": "stream",
     "text": [
      "/Users/luca/anaconda/lib/python2.7/site-packages/scipy/sparse/compressed.py:730: SparseEfficiencyWarning: Changing the sparsity structure of a csr_matrix is expensive. lil_matrix is more efficient.\n",
      "  SparseEfficiencyWarning)\n"
     ]
    },
    {
     "name": "stdout",
     "output_type": "stream",
     "text": [
      "Test on Patient 1,  \n",
      "# of classes in test = 5\n",
      "Source samples = 8375, Target samples = 501, Test samples = 1855\n",
      "Source Only=0.49, Target Only=0.71, SER=0.63, STRUT=0.69, MIX=0.72\n",
      "Test on Patient 2,  \n",
      "# of classes in test = 5\n",
      "Source samples = 8375, Target samples = 230, Test samples = 1228\n",
      "Source Only=0.37, Target Only=0.52, SER=0.41, STRUT=0.38, MIX=0.46\n",
      "Test on Patient 5,  \n",
      "# of classes in test = 5\n",
      "Source samples = 8375, Target samples = 305, Test samples = 1819\n",
      "Source Only=0.51, Target Only=0.61, SER=0.54, STRUT=0.54, MIX=0.59\n",
      "Test on Patient 6,  \n",
      "# of classes in test = 5\n",
      "Source samples = 8375, Target samples = 297, Test samples = 1949\n",
      "Source Only=0.65, Target Only=0.68, SER=0.74, STRUT=0.55, MIX=0.77\n",
      "Test on Patient 11,  \n",
      "# of classes in test = 5\n",
      "Source samples = 8375, Target samples = 459, Test samples = 748\n",
      "Source Only=0.47, Target Only=0.49, SER=0.48, STRUT=0.48, MIX=0.62\n",
      "Test on Patient 12,  \n",
      "# of classes in test = 5\n",
      "Source samples = 8375, Target samples = 474, Test samples = 713\n",
      "Source Only=0.39, Target Only=0.57, SER=0.41, STRUT=0.62, MIX=0.60\n",
      "Test on Patient 13,  \n",
      "# of classes in test = 5\n",
      "Source samples = 8375, Target samples = 441, Test samples = 1197\n",
      "Source Only=0.49, Target Only=0.50, SER=0.48, STRUT=0.48, MIX=0.45\n",
      "Test on Patient 14,  \n",
      "# of classes in test = 5\n",
      "Source samples = 8375, Target samples = 651, Test samples = 1127\n",
      "Source Only=0.56, Target Only=0.72, SER=0.60, STRUT=0.67, MIX=0.69\n",
      "Test on Patient 15,  \n",
      "# of classes in test = 5\n",
      "Source samples = 8375, Target samples = 506, Test samples = 2671\n",
      "Source Only=0.52, Target Only=0.64, SER=0.55, STRUT=0.73, MIX=0.68\n",
      "Test on Patient 16,  \n",
      "# of classes in test = 5\n",
      "Source samples = 8375, Target samples = 380, Test samples = 1354\n",
      "Source Only=0.63, Target Only=0.63, SER=0.68, STRUT=0.62, MIX=0.70\n",
      "Test on Patient 24,  \n",
      "# of classes in test = 5\n",
      "Source samples = 8375, Target samples = 483, Test samples = 1702\n",
      "Source Only=0.63, Target Only=0.77, SER=0.74, STRUT=0.71, MIX=0.76\n",
      "\n",
      "mean Acc - Source only = 0.519929788817\n",
      "mean Acc - Target only = 0.622199436617\n",
      "mean Acc - SER = 0.570053350046\n",
      "mean Acc - STRUT = 0.58849285069\n",
      "mean Acc - MIX = 0.639372240054\n"
     ]
    }
   ],
   "source": [
    "#train forest w SER\n",
    "SERacc = np.zeros(len(PatientCodes)) #to store err when using source + Target with SER\n",
    "STRUTacc = np.zeros(len(PatientCodes)) #to store err when using source + Target with STRUT\n",
    "MIXacc = np.zeros(len(PatientCodes)) #to store err when using source + Target with MIX\n",
    "\n",
    "k = 0\n",
    "cmat_subj = [] #confusion matrix for each subject (a list)\n",
    "acc_class_subj = [] #accuracy per class for each subject\n",
    "\n",
    "#train forest on healthy (Source)\n",
    "Xtrain = HealthyData.select_columns(feature_cols).to_numpy()\n",
    "ytrain = HealthyData.select_columns(label_cols).to_numpy()\n",
    "ytrain = ytrain.reshape(-1) #to squeeze last dimension and obtain a 1D array\n",
    "RF = RandomForestClassifier(n_estimators=50,criterion='entropy',random_state=0)\n",
    "RF = RF.fit(Xtrain,ytrain)\n",
    "\n",
    "for s in PatientCodes:\n",
    "    #loop through target sessions (use one as target)\n",
    "    #for session in range(4):\n",
    "    target = CBRData[(CBRData['SubjID'] == s) & (CBRData['Session'] == target_session)]\n",
    "    test = CBRData[(CBRData['SubjID'] == s) & (CBRData['Session'] != target_session)]\n",
    "    Nclasses = len(test['Label'].unique()) #How many activities we have for this patient in test\n",
    "\n",
    "    Xtarget = target.select_columns(feature_cols).to_numpy()\n",
    "    ytarget = target.select_columns(label_cols).to_numpy()\n",
    "    ytarget = ytarget.reshape(-1)\n",
    "    Xtest = test.select_columns(feature_cols).to_numpy()\n",
    "    ytest = test.select_columns(label_cols).to_numpy()\n",
    "    ytest = ytest.reshape(-1)\n",
    "\n",
    "    #predicting using only source data\n",
    "    ypred = RF.predict(Xtest)\n",
    "    #correct = sum(ypred == ytest)\n",
    "    #SOacc_all[k,session] = correct/len(ytest)\n",
    "\n",
    "    #balanced accuracy (Source only)\n",
    "    acc_c = 0\n",
    "    for c in np.unique(ytest):\n",
    "        i = ytest == c\n",
    "        correct = ypred[i] == ytest[i]\n",
    "        acc_c += sum(correct)/len(correct)\n",
    "    SOacc[k] = acc_c/len(np.unique(ytest))\n",
    "\n",
    "    #***SER*** combining source w target data\n",
    "    newRF = TRF.forest_convert(RF)\n",
    "    expRF = TRF.forest_SER(newRF,Xtarget,ytarget,C=5) #expand forest on current data (C is the # of classes on the source)\n",
    "    ypred = np.asarray(map(lambda x:TRF.forest_classify_ensemble(expRF,x),Xtest))\n",
    "    \n",
    "    #correct = sum(ypred == ytest)\n",
    "    #SERacc_all[k,session] = correct/len(ytest)\n",
    "    \n",
    "    #balanced accuracy SER\n",
    "    acc_c = 0\n",
    "    acc_class = np.zeros(5) #the accuracy per class\n",
    "    for c in np.unique(ytest):\n",
    "        i = ytest == c\n",
    "        correct = ypred[i] == ytest[i]\n",
    "        acc_c += sum(correct)/len(correct)\n",
    "    SERacc[k] = acc_c/len(np.unique(ytest))\n",
    "\n",
    "    \n",
    "    #***STRUT*** combining source w target data\n",
    "    STRUT_RF = TRF.STRUT(Xtrain,ytrain,Xtarget,ytarget,n_trees=50,verbos = False)\n",
    "    ypred = np.asarray(map(lambda x:TRF.forest_classify_ensemble(STRUT_RF,x),Xtest))\n",
    "\n",
    "    #balanced accuracy\n",
    "    acc_c = 0\n",
    "    for c in np.unique(ytest):\n",
    "        i = ytest == c\n",
    "        correct = ypred[i] == ytest[i]\n",
    "        acc_c += sum(correct)/len(correct)\n",
    "    STRUTacc[k]=acc_c/len(np.unique(ytest))\n",
    "    \n",
    "    #*** MIX ****\n",
    "    #Posteriors from SER and STRUT\n",
    "    ypredMIX = np.empty(len(ytest))\n",
    "    for p in range(len(ytest)):\n",
    "        PSER = TRF.forest_posterior(expRF,Xtest[p]).mean(axis=0)\n",
    "        PSTRUT = TRF.forest_posterior(STRUT_RF,Xtest[p]).mean(axis=0)\n",
    "        PMIX = np.array((PSER,PSTRUT)) \n",
    "        ypredMIX[p] = np.argmax(PMIX.mean(axis=0))\n",
    "        \n",
    "    #balanced accuracy MIX\n",
    "    acc_c = 0\n",
    "    for c in np.unique(ytest):\n",
    "        i = ytest == c\n",
    "        correct = ypredMIX[i] == ytest[i]\n",
    "        acc_c += sum(correct)/len(correct)\n",
    "    MIXacc[k]=acc_c/len(np.unique(ytest))\n",
    "    \n",
    "\n",
    "    print 'Test on Patient %s,  '%s\n",
    "    print '# of classes in test = %s'%Nclasses\n",
    "    print 'Source samples = %s, Target samples = %s, Test samples = %s'%(len(ytrain),len(ytarget),len(ytest))\n",
    "    print 'Source Only={:.2f}, Target Only={:.2f}, SER={:.2f}, STRUT={:.2f}, MIX={:.2f}'.format(SOacc[k],TOacc[k],SERacc[k],STRUTacc[k],MIXacc[k])\n",
    "    \n",
    "    k = k+1\n",
    "\n",
    "print '\\nmean Acc - Source only = %s'%SOacc.mean()\n",
    "print 'mean Acc - Target only = %s'%TOacc.mean()\n",
    "print 'mean Acc - SER = %s'%SERacc.mean()\n",
    "print 'mean Acc - STRUT = %s'%STRUTacc.mean()\n",
    "print 'mean Acc - MIX = %s'%MIXacc.mean()"
   ]
  },
  {
   "cell_type": "code",
   "execution_count": 14,
   "metadata": {
    "collapsed": false
   },
   "outputs": [],
   "source": [
    "acc = np.vstack((SOacc,TOacc,MIXacc)).T"
   ]
  },
  {
   "cell_type": "code",
   "execution_count": 15,
   "metadata": {
    "collapsed": false
   },
   "outputs": [
    {
     "data": {
      "image/png": "[encoded data removed]",
      "text/plain": [
       "<matplotlib.figure.Figure at 0x12da16690>"
      ]
     },
     "metadata": {},
     "output_type": "display_data"
    }
   ],
   "source": [
    "#plt.figure(1)\n",
    "plt.boxplot(acc)\n",
    "plt.xticks([1,2,3],['Source Only','Target Only','Mix'])\n",
    "plt.show()"
   ]
  },
  {
   "cell_type": "code",
   "execution_count": 16,
   "metadata": {
    "collapsed": false
   },
   "outputs": [
    {
     "data": {
      "image/png": "[encoded data removed]",
      "text/plain": [
       "<matplotlib.figure.Figure at 0x12d852ad0>"
      ]
     },
     "metadata": {},
     "output_type": "display_data"
    },
    {
     "data": {
      "image/png": "[encoded data removed]",
      "text/plain": [
       "<matplotlib.figure.Figure at 0x12da28e10>"
      ]
     },
     "metadata": {},
     "output_type": "display_data"
    }
   ],
   "source": [
    "plt.figure(1,figsize=(6,5))\n",
    "plt.plot(MIXacc,'go-',TOacc,'ro-')\n",
    "plt.ylabel('Balanced Accuracy')\n",
    "plt.title('(MIX vs. Target only)')\n",
    "\n",
    "plt.figure(2,figsize=(6,5))\n",
    "plt.plot(Ntarget,'-o')\n",
    "plt.xlabel('Patient #')\n",
    "plt.title('target samples per subject')\n",
    "plt.show()"
   ]
  }
 ],
 "metadata": {
  "kernelspec": {
   "display_name": "Python 2",
   "language": "python",
   "name": "python2"
  },
  "language_info": {
   "codemirror_mode": {
    "name": "ipython",
    "version": 2
   },
   "file_extension": ".py",
   "mimetype": "text/x-python",
   "name": "python",
   "nbconvert_exporter": "python",
   "pygments_lexer": "ipython2",
   "version": "2.7.11"
  }
 },
 "nbformat": 4,
 "nbformat_minor": 0
}
