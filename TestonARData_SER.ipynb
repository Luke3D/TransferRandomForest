{
 "cells": [
  {
   "cell_type": "code",
   "execution_count": 1,
   "metadata": {
    "collapsed": false
   },
   "outputs": [],
   "source": [
    "import SERfuncs"
   ]
  },
  {
   "cell_type": "code",
   "execution_count": 2,
   "metadata": {
    "collapsed": false
   },
   "outputs": [
    {
     "name": "stderr",
     "output_type": "stream",
     "text": [
      "A newer version of GraphLab Create (v2.0.1) is available! Your current version is v1.10.1.\n",
      "\n",
      "You can use pip to upgrade the graphlab-create package. For more information see https://dato.com/products/create/upgrade.\n"
     ]
    }
   ],
   "source": [
    "from __future__ import division\n",
    "import numpy as np\n",
    "from sklearn.datasets import make_classification\n",
    "from sklearn.cross_validation import train_test_split\n",
    "from sklearn.metrics import confusion_matrix\n",
    "from sklearn.ensemble import RandomForestClassifier\n",
    "from sklearn.tree import DecisionTreeClassifier\n",
    "import matplotlib.pyplot as plt\n",
    "%matplotlib inline\n",
    "import graphlab"
   ]
  },
  {
   "cell_type": "code",
   "execution_count": 3,
   "metadata": {
    "collapsed": false
   },
   "outputs": [
    {
     "name": "stderr",
     "output_type": "stream",
     "text": [
      "[INFO] graphlab.cython.cy_server: GraphLab Create v1.10.1 started. Logging: /tmp/graphlab_server_1468367073.log\n"
     ]
    },
    {
     "name": "stdout",
     "output_type": "stream",
     "text": [
      "This non-commercial license of GraphLab Create is assigned to llonini@ricres.org and will expire on November 11, 2016. For commercial licensing options, visit https://turi.com/buy/.\n"
     ]
    },
    {
     "data": {
      "text/html": [
       "<pre>Finished parsing file /Users/luca/Projects/Datasets/Cbrace/HealthyData.csv</pre>"
      ],
      "text/plain": [
       "Finished parsing file /Users/luca/Projects/Datasets/Cbrace/HealthyData.csv"
      ]
     },
     "metadata": {},
     "output_type": "display_data"
    },
    {
     "data": {
      "text/html": [
       "<pre>Parsing completed. Parsed 100 lines in 0.318636 secs.</pre>"
      ],
      "text/plain": [
       "Parsing completed. Parsed 100 lines in 0.318636 secs."
      ]
     },
     "metadata": {},
     "output_type": "display_data"
    },
    {
     "name": "stdout",
     "output_type": "stream",
     "text": [
      "------------------------------------------------------\n",
      "Inferred types from first 100 line(s) of file as \n",
      "column_type_hints=[int,int,float,float,float,int,int,int,int,float,float,float,float,float,float,float,float,float,float,int,int,int,int,float,float,float,float,float,float,float,float,float,float,int,int,int,int,float,float,float,float,float,float,float,float,float,float,float,float,float,float,float,float,float,float,float,float,float,float,float,float,float,float,float,float,float,float,float,float,float,float,float,float,float,float,float,float,float,float,float,float,float,float,float,float,float,float,float,float,float,float,float,float,float,float,float,float,float,float,float,float,float,float,float,float,float,float,float,float,float,float,float,float,float,float,float,float,float,float,float,float,float,float,float,float,float,float,float,float,float,float,float,float,int]\n",
      "If parsing fails due to incorrect types, you can correct\n",
      "the inferred type list above and pass it to read_csv in\n",
      "the column_type_hints argument\n",
      "------------------------------------------------------\n"
     ]
    },
    {
     "data": {
      "text/html": [
       "<pre>Finished parsing file /Users/luca/Projects/Datasets/Cbrace/HealthyData.csv</pre>"
      ],
      "text/plain": [
       "Finished parsing file /Users/luca/Projects/Datasets/Cbrace/HealthyData.csv"
      ]
     },
     "metadata": {},
     "output_type": "display_data"
    },
    {
     "data": {
      "text/html": [
       "<pre>Parsing completed. Parsed 8375 lines in 0.489197 secs.</pre>"
      ],
      "text/plain": [
       "Parsing completed. Parsed 8375 lines in 0.489197 secs."
      ]
     },
     "metadata": {},
     "output_type": "display_data"
    },
    {
     "data": {
      "text/html": [
       "<pre>Finished parsing file /Users/luca/Projects/Datasets/Cbrace/PatientCBRData.csv</pre>"
      ],
      "text/plain": [
       "Finished parsing file /Users/luca/Projects/Datasets/Cbrace/PatientCBRData.csv"
      ]
     },
     "metadata": {},
     "output_type": "display_data"
    },
    {
     "data": {
      "text/html": [
       "<pre>Parsing completed. Parsed 100 lines in 0.661369 secs.</pre>"
      ],
      "text/plain": [
       "Parsing completed. Parsed 100 lines in 0.661369 secs."
      ]
     },
     "metadata": {},
     "output_type": "display_data"
    },
    {
     "name": "stdout",
     "output_type": "stream",
     "text": [
      "------------------------------------------------------\n",
      "Inferred types from first 100 line(s) of file as \n",
      "column_type_hints=[int,int,float,float,float,int,int,int,int,float,float,float,float,float,float,float,float,float,float,int,int,int,int,float,float,float,float,float,float,float,float,float,float,int,int,int,int,float,float,float,float,float,float,float,float,float,float,float,float,float,float,float,float,float,float,float,float,float,float,float,float,float,float,float,float,float,float,float,float,float,float,float,float,float,float,float,float,float,float,float,float,float,float,float,float,float,float,float,float,float,float,float,float,float,float,float,float,float,float,float,float,float,float,float,float,float,float,float,float,float,float,float,float,float,float,float,float,float,float,float,float,float,float,float,float,float,float,float,float,float,float,float,float,int]\n",
      "If parsing fails due to incorrect types, you can correct\n",
      "the inferred type list above and pass it to read_csv in\n",
      "the column_type_hints argument\n",
      "------------------------------------------------------\n"
     ]
    },
    {
     "data": {
      "text/html": [
       "<pre>Finished parsing file /Users/luca/Projects/Datasets/Cbrace/PatientCBRData.csv</pre>"
      ],
      "text/plain": [
       "Finished parsing file /Users/luca/Projects/Datasets/Cbrace/PatientCBRData.csv"
      ]
     },
     "metadata": {},
     "output_type": "display_data"
    },
    {
     "data": {
      "text/html": [
       "<pre>Parsing completed. Parsed 22354 lines in 1.22558 secs.</pre>"
      ],
      "text/plain": [
       "Parsing completed. Parsed 22354 lines in 1.22558 secs."
      ]
     },
     "metadata": {},
     "output_type": "display_data"
    },
    {
     "data": {
      "text/html": [
       "<pre>Finished parsing file /Users/luca/Projects/Datasets/Cbrace/PatientSCOData.csv</pre>"
      ],
      "text/plain": [
       "Finished parsing file /Users/luca/Projects/Datasets/Cbrace/PatientSCOData.csv"
      ]
     },
     "metadata": {},
     "output_type": "display_data"
    },
    {
     "data": {
      "text/html": [
       "<pre>Parsing completed. Parsed 100 lines in 0.708479 secs.</pre>"
      ],
      "text/plain": [
       "Parsing completed. Parsed 100 lines in 0.708479 secs."
      ]
     },
     "metadata": {},
     "output_type": "display_data"
    },
    {
     "name": "stdout",
     "output_type": "stream",
     "text": [
      "------------------------------------------------------\n",
      "Inferred types from first 100 line(s) of file as \n",
      "column_type_hints=[int,int,float,float,float,int,int,int,int,float,float,float,float,float,float,float,float,float,float,int,int,int,int,float,float,float,float,float,float,float,float,float,float,int,int,int,int,float,float,float,float,float,float,float,float,float,float,float,float,float,float,float,float,float,float,float,float,float,float,float,float,float,float,float,float,float,float,float,float,float,float,float,float,float,float,float,float,float,float,float,float,float,float,float,float,float,float,float,float,float,float,float,float,float,float,float,float,float,float,float,float,float,float,float,float,float,float,float,float,float,float,float,float,float,float,float,float,float,float,float,float,float,float,float,float,float,float,float,float,float,float,float,float,int]\n",
      "If parsing fails due to incorrect types, you can correct\n",
      "the inferred type list above and pass it to read_csv in\n",
      "the column_type_hints argument\n",
      "------------------------------------------------------\n"
     ]
    },
    {
     "data": {
      "text/html": [
       "<pre>Finished parsing file /Users/luca/Projects/Datasets/Cbrace/PatientSCOData.csv</pre>"
      ],
      "text/plain": [
       "Finished parsing file /Users/luca/Projects/Datasets/Cbrace/PatientSCOData.csv"
      ]
     },
     "metadata": {},
     "output_type": "display_data"
    },
    {
     "data": {
      "text/html": [
       "<pre>Parsing completed. Parsed 18762 lines in 1.04149 secs.</pre>"
      ],
      "text/plain": [
       "Parsing completed. Parsed 18762 lines in 1.04149 secs."
      ]
     },
     "metadata": {},
     "output_type": "display_data"
    }
   ],
   "source": [
    "HealthyData = graphlab.SFrame.read_csv('../Datasets/Cbrace/HealthyData.csv')\n",
    "CBRData = graphlab.SFrame.read_csv('../Datasets/Cbrace/PatientCBRData.csv')\n",
    "SCOData = graphlab.SFrame.read_csv('../Datasets/Cbrace/PatientSCOData.csv')"
   ]
  },
  {
   "cell_type": "code",
   "execution_count": 4,
   "metadata": {
    "collapsed": false
   },
   "outputs": [
    {
     "data": {
      "text/html": [
       "<div style=\"max-height:1000px;max-width:1500px;overflow:auto;\"><table frame=\"box\" rules=\"cols\">\n",
       "    <tr>\n",
       "        <th style=\"padding-left: 1em; padding-right: 1em; text-align: center\">SubjID</th>\n",
       "        <th style=\"padding-left: 1em; padding-right: 1em; text-align: center\">Session</th>\n",
       "        <th style=\"padding-left: 1em; padding-right: 1em; text-align: center\">Features_  1</th>\n",
       "        <th style=\"padding-left: 1em; padding-right: 1em; text-align: center\">Features_  2</th>\n",
       "        <th style=\"padding-left: 1em; padding-right: 1em; text-align: center\">Features_  3</th>\n",
       "        <th style=\"padding-left: 1em; padding-right: 1em; text-align: center\">Features_  4</th>\n",
       "        <th style=\"padding-left: 1em; padding-right: 1em; text-align: center\">Features_  5</th>\n",
       "        <th style=\"padding-left: 1em; padding-right: 1em; text-align: center\">Features_  6</th>\n",
       "        <th style=\"padding-left: 1em; padding-right: 1em; text-align: center\">Features_  7</th>\n",
       "    </tr>\n",
       "    <tr>\n",
       "        <td style=\"padding-left: 1em; padding-right: 1em; text-align: center; vertical-align: top\">1</td>\n",
       "        <td style=\"padding-left: 1em; padding-right: 1em; text-align: center; vertical-align: top\">1</td>\n",
       "        <td style=\"padding-left: 1em; padding-right: 1em; text-align: center; vertical-align: top\">0.051382320442</td>\n",
       "        <td style=\"padding-left: 1em; padding-right: 1em; text-align: center; vertical-align: top\">0.6076</td>\n",
       "        <td style=\"padding-left: 1em; padding-right: 1em; text-align: center; vertical-align: top\">0.196</td>\n",
       "        <td style=\"padding-left: 1em; padding-right: 1em; text-align: center; vertical-align: top\">0</td>\n",
       "        <td style=\"padding-left: 1em; padding-right: 1em; text-align: center; vertical-align: top\">181</td>\n",
       "        <td style=\"padding-left: 1em; padding-right: 1em; text-align: center; vertical-align: top\">0</td>\n",
       "        <td style=\"padding-left: 1em; padding-right: 1em; text-align: center; vertical-align: top\">0</td>\n",
       "    </tr>\n",
       "    <tr>\n",
       "        <td style=\"padding-left: 1em; padding-right: 1em; text-align: center; vertical-align: top\">1</td>\n",
       "        <td style=\"padding-left: 1em; padding-right: 1em; text-align: center; vertical-align: top\">1</td>\n",
       "        <td style=\"padding-left: 1em; padding-right: 1em; text-align: center; vertical-align: top\">0.0253933701657</td>\n",
       "        <td style=\"padding-left: 1em; padding-right: 1em; text-align: center; vertical-align: top\">0.6076</td>\n",
       "        <td style=\"padding-left: 1em; padding-right: 1em; text-align: center; vertical-align: top\">0.1176</td>\n",
       "        <td style=\"padding-left: 1em; padding-right: 1em; text-align: center; vertical-align: top\">0</td>\n",
       "        <td style=\"padding-left: 1em; padding-right: 1em; text-align: center; vertical-align: top\">178</td>\n",
       "        <td style=\"padding-left: 1em; padding-right: 1em; text-align: center; vertical-align: top\">3</td>\n",
       "        <td style=\"padding-left: 1em; padding-right: 1em; text-align: center; vertical-align: top\">0</td>\n",
       "    </tr>\n",
       "    <tr>\n",
       "        <td style=\"padding-left: 1em; padding-right: 1em; text-align: center; vertical-align: top\">1</td>\n",
       "        <td style=\"padding-left: 1em; padding-right: 1em; text-align: center; vertical-align: top\">1</td>\n",
       "        <td style=\"padding-left: 1em; padding-right: 1em; text-align: center; vertical-align: top\">0.0248519337017</td>\n",
       "        <td style=\"padding-left: 1em; padding-right: 1em; text-align: center; vertical-align: top\">0.49</td>\n",
       "        <td style=\"padding-left: 1em; padding-right: 1em; text-align: center; vertical-align: top\">0.1176</td>\n",
       "        <td style=\"padding-left: 1em; padding-right: 1em; text-align: center; vertical-align: top\">0</td>\n",
       "        <td style=\"padding-left: 1em; padding-right: 1em; text-align: center; vertical-align: top\">181</td>\n",
       "        <td style=\"padding-left: 1em; padding-right: 1em; text-align: center; vertical-align: top\">0</td>\n",
       "        <td style=\"padding-left: 1em; padding-right: 1em; text-align: center; vertical-align: top\">0</td>\n",
       "    </tr>\n",
       "    <tr>\n",
       "        <td style=\"padding-left: 1em; padding-right: 1em; text-align: center; vertical-align: top\">1</td>\n",
       "        <td style=\"padding-left: 1em; padding-right: 1em; text-align: center; vertical-align: top\">1</td>\n",
       "        <td style=\"padding-left: 1em; padding-right: 1em; text-align: center; vertical-align: top\">0.0465635359116</td>\n",
       "        <td style=\"padding-left: 1em; padding-right: 1em; text-align: center; vertical-align: top\">0.3136</td>\n",
       "        <td style=\"padding-left: 1em; padding-right: 1em; text-align: center; vertical-align: top\">0.0784</td>\n",
       "        <td style=\"padding-left: 1em; padding-right: 1em; text-align: center; vertical-align: top\">0</td>\n",
       "        <td style=\"padding-left: 1em; padding-right: 1em; text-align: center; vertical-align: top\">181</td>\n",
       "        <td style=\"padding-left: 1em; padding-right: 1em; text-align: center; vertical-align: top\">0</td>\n",
       "        <td style=\"padding-left: 1em; padding-right: 1em; text-align: center; vertical-align: top\">0</td>\n",
       "    </tr>\n",
       "    <tr>\n",
       "        <td style=\"padding-left: 1em; padding-right: 1em; text-align: center; vertical-align: top\">1</td>\n",
       "        <td style=\"padding-left: 1em; padding-right: 1em; text-align: center; vertical-align: top\">1</td>\n",
       "        <td style=\"padding-left: 1em; padding-right: 1em; text-align: center; vertical-align: top\">0.0781834254144</td>\n",
       "        <td style=\"padding-left: 1em; padding-right: 1em; text-align: center; vertical-align: top\">0.2352</td>\n",
       "        <td style=\"padding-left: 1em; padding-right: 1em; text-align: center; vertical-align: top\">0.0784</td>\n",
       "        <td style=\"padding-left: 1em; padding-right: 1em; text-align: center; vertical-align: top\">56</td>\n",
       "        <td style=\"padding-left: 1em; padding-right: 1em; text-align: center; vertical-align: top\">0</td>\n",
       "        <td style=\"padding-left: 1em; padding-right: 1em; text-align: center; vertical-align: top\">0</td>\n",
       "        <td style=\"padding-left: 1em; padding-right: 1em; text-align: center; vertical-align: top\">0</td>\n",
       "    </tr>\n",
       "</table>\n",
       "<table frame=\"box\" rules=\"cols\">\n",
       "    <tr>\n",
       "        <th style=\"padding-left: 1em; padding-right: 1em; text-align: center\">Features_  8</th>\n",
       "        <th style=\"padding-left: 1em; padding-right: 1em; text-align: center\">Features_  9</th>\n",
       "        <th style=\"padding-left: 1em; padding-right: 1em; text-align: center\">Features_ 10</th>\n",
       "        <th style=\"padding-left: 1em; padding-right: 1em; text-align: center\">Features_ 11</th>\n",
       "        <th style=\"padding-left: 1em; padding-right: 1em; text-align: center\">Features_ 12</th>\n",
       "        <th style=\"padding-left: 1em; padding-right: 1em; text-align: center\">Features_ 13</th>\n",
       "    </tr>\n",
       "    <tr>\n",
       "        <td style=\"padding-left: 1em; padding-right: 1em; text-align: center; vertical-align: top\">0.112454267826</td>\n",
       "        <td style=\"padding-left: 1em; padding-right: 1em; text-align: center; vertical-align: top\">-0.294668590342</td>\n",
       "        <td style=\"padding-left: 1em; padding-right: 1em; text-align: center; vertical-align: top\">2.38556796968</td>\n",
       "        <td style=\"padding-left: 1em; padding-right: 1em; text-align: center; vertical-align: top\">-0.000653333333333</td>\n",
       "        <td style=\"padding-left: 1em; padding-right: 1em; text-align: center; vertical-align: top\">0.072657333349</td>\n",
       "        <td style=\"padding-left: 1em; padding-right: 1em; text-align: center; vertical-align: top\">0.181289226345</td>\n",
       "    </tr>\n",
       "    <tr>\n",
       "        <td style=\"padding-left: 1em; padding-right: 1em; text-align: center; vertical-align: top\">0.0983200079119</td>\n",
       "        <td style=\"padding-left: 1em; padding-right: 1em; text-align: center; vertical-align: top\">0.0523105353163</td>\n",
       "        <td style=\"padding-left: 1em; padding-right: 1em; text-align: center; vertical-align: top\">3.41100727695</td>\n",
       "        <td style=\"padding-left: 1em; padding-right: 1em; text-align: center; vertical-align: top\">-0.000435555555556</td>\n",
       "        <td style=\"padding-left: 1em; padding-right: 1em; text-align: center; vertical-align: top\">0.0780695955254</td>\n",
       "        <td style=\"padding-left: 1em; padding-right: 1em; text-align: center; vertical-align: top\">0.180121837472</td>\n",
       "    </tr>\n",
       "    <tr>\n",
       "        <td style=\"padding-left: 1em; padding-right: 1em; text-align: center; vertical-align: top\">0.0841222692085</td>\n",
       "        <td style=\"padding-left: 1em; padding-right: 1em; text-align: center; vertical-align: top\">-0.592549758023</td>\n",
       "        <td style=\"padding-left: 1em; padding-right: 1em; text-align: center; vertical-align: top\">3.41421963842</td>\n",
       "        <td style=\"padding-left: 1em; padding-right: 1em; text-align: center; vertical-align: top\">0.000653333333333</td>\n",
       "        <td style=\"padding-left: 1em; padding-right: 1em; text-align: center; vertical-align: top\">0.0698793552525</td>\n",
       "        <td style=\"padding-left: 1em; padding-right: 1em; text-align: center; vertical-align: top\">0.24648779524</td>\n",
       "    </tr>\n",
       "    <tr>\n",
       "        <td style=\"padding-left: 1em; padding-right: 1em; text-align: center; vertical-align: top\">0.0654386480834</td>\n",
       "        <td style=\"padding-left: 1em; padding-right: 1em; text-align: center; vertical-align: top\">-1.01056633159</td>\n",
       "        <td style=\"padding-left: 1em; padding-right: 1em; text-align: center; vertical-align: top\">3.65404790008</td>\n",
       "        <td style=\"padding-left: 1em; padding-right: 1em; text-align: center; vertical-align: top\">0.000217777777778</td>\n",
       "        <td style=\"padding-left: 1em; padding-right: 1em; text-align: center; vertical-align: top\">0.0504932952633</td>\n",
       "        <td style=\"padding-left: 1em; padding-right: 1em; text-align: center; vertical-align: top\">0.225561487781</td>\n",
       "    </tr>\n",
       "    <tr>\n",
       "        <td style=\"padding-left: 1em; padding-right: 1em; text-align: center; vertical-align: top\">0.0375305142722</td>\n",
       "        <td style=\"padding-left: 1em; padding-right: 1em; text-align: center; vertical-align: top\">-0.712656990085</td>\n",
       "        <td style=\"padding-left: 1em; padding-right: 1em; text-align: center; vertical-align: top\">4.19196004385</td>\n",
       "        <td style=\"padding-left: 1em; padding-right: 1em; text-align: center; vertical-align: top\">0.000217777777778</td>\n",
       "        <td style=\"padding-left: 1em; padding-right: 1em; text-align: center; vertical-align: top\">0.0415385735192</td>\n",
       "        <td style=\"padding-left: 1em; padding-right: 1em; text-align: center; vertical-align: top\">0.130183600125</td>\n",
       "    </tr>\n",
       "</table>\n",
       "<table frame=\"box\" rules=\"cols\">\n",
       "    <tr>\n",
       "        <th style=\"padding-left: 1em; padding-right: 1em; text-align: center\">Features_ 14</th>\n",
       "        <th style=\"padding-left: 1em; padding-right: 1em; text-align: center\">Features_ 15</th>\n",
       "        <th style=\"padding-left: 1em; padding-right: 1em; text-align: center\">Features_ 16</th>\n",
       "        <th style=\"padding-left: 1em; padding-right: 1em; text-align: center\">Features_ 17</th>\n",
       "        <th style=\"padding-left: 1em; padding-right: 1em; text-align: center\">Features_ 18</th>\n",
       "        <th style=\"padding-left: 1em; padding-right: 1em; text-align: center\">Features_ 19</th>\n",
       "        <th style=\"padding-left: 1em; padding-right: 1em; text-align: center\">Features_ 20</th>\n",
       "        <th style=\"padding-left: 1em; padding-right: 1em; text-align: center\">Features_ 21</th>\n",
       "    </tr>\n",
       "    <tr>\n",
       "        <td style=\"padding-left: 1em; padding-right: 1em; text-align: center; vertical-align: top\">4.849714754</td>\n",
       "        <td style=\"padding-left: 1em; padding-right: 1em; text-align: center; vertical-align: top\">7.08929834254</td>\n",
       "        <td style=\"padding-left: 1em; padding-right: 1em; text-align: center; vertical-align: top\">0.7644</td>\n",
       "        <td style=\"padding-left: 1em; padding-right: 1em; text-align: center; vertical-align: top\">0.539</td>\n",
       "        <td style=\"padding-left: 1em; padding-right: 1em; text-align: center; vertical-align: top\">0</td>\n",
       "        <td style=\"padding-left: 1em; padding-right: 1em; text-align: center; vertical-align: top\">0</td>\n",
       "        <td style=\"padding-left: 1em; padding-right: 1em; text-align: center; vertical-align: top\">0</td>\n",
       "        <td style=\"padding-left: 1em; padding-right: 1em; text-align: center; vertical-align: top\">0</td>\n",
       "    </tr>\n",
       "    <tr>\n",
       "        <td style=\"padding-left: 1em; padding-right: 1em; text-align: center; vertical-align: top\">3.89013448447</td>\n",
       "        <td style=\"padding-left: 1em; padding-right: 1em; text-align: center; vertical-align: top\">6.99232707182</td>\n",
       "        <td style=\"padding-left: 1em; padding-right: 1em; text-align: center; vertical-align: top\">0.7644</td>\n",
       "        <td style=\"padding-left: 1em; padding-right: 1em; text-align: center; vertical-align: top\">0.1568</td>\n",
       "        <td style=\"padding-left: 1em; padding-right: 1em; text-align: center; vertical-align: top\">0</td>\n",
       "        <td style=\"padding-left: 1em; padding-right: 1em; text-align: center; vertical-align: top\">0</td>\n",
       "        <td style=\"padding-left: 1em; padding-right: 1em; text-align: center; vertical-align: top\">0</td>\n",
       "        <td style=\"padding-left: 1em; padding-right: 1em; text-align: center; vertical-align: top\">0</td>\n",
       "    </tr>\n",
       "    <tr>\n",
       "        <td style=\"padding-left: 1em; padding-right: 1em; text-align: center; vertical-align: top\">4.91346159405</td>\n",
       "        <td style=\"padding-left: 1em; padding-right: 1em; text-align: center; vertical-align: top\">6.98496353591</td>\n",
       "        <td style=\"padding-left: 1em; padding-right: 1em; text-align: center; vertical-align: top\">0.49</td>\n",
       "        <td style=\"padding-left: 1em; padding-right: 1em; text-align: center; vertical-align: top\">0.1176</td>\n",
       "        <td style=\"padding-left: 1em; padding-right: 1em; text-align: center; vertical-align: top\">0</td>\n",
       "        <td style=\"padding-left: 1em; padding-right: 1em; text-align: center; vertical-align: top\">0</td>\n",
       "        <td style=\"padding-left: 1em; padding-right: 1em; text-align: center; vertical-align: top\">0</td>\n",
       "        <td style=\"padding-left: 1em; padding-right: 1em; text-align: center; vertical-align: top\">0</td>\n",
       "    </tr>\n",
       "    <tr>\n",
       "        <td style=\"padding-left: 1em; padding-right: 1em; text-align: center; vertical-align: top\">4.15285973332</td>\n",
       "        <td style=\"padding-left: 1em; padding-right: 1em; text-align: center; vertical-align: top\">7.01284751381</td>\n",
       "        <td style=\"padding-left: 1em; padding-right: 1em; text-align: center; vertical-align: top\">0.3136</td>\n",
       "        <td style=\"padding-left: 1em; padding-right: 1em; text-align: center; vertical-align: top\">0.0392</td>\n",
       "        <td style=\"padding-left: 1em; padding-right: 1em; text-align: center; vertical-align: top\">0</td>\n",
       "        <td style=\"padding-left: 1em; padding-right: 1em; text-align: center; vertical-align: top\">0</td>\n",
       "        <td style=\"padding-left: 1em; padding-right: 1em; text-align: center; vertical-align: top\">0</td>\n",
       "        <td style=\"padding-left: 1em; padding-right: 1em; text-align: center; vertical-align: top\">0</td>\n",
       "    </tr>\n",
       "    <tr>\n",
       "        <td style=\"padding-left: 1em; padding-right: 1em; text-align: center; vertical-align: top\">4.15415404049</td>\n",
       "        <td style=\"padding-left: 1em; padding-right: 1em; text-align: center; vertical-align: top\">7.03970276243</td>\n",
       "        <td style=\"padding-left: 1em; padding-right: 1em; text-align: center; vertical-align: top\">0.2352</td>\n",
       "        <td style=\"padding-left: 1em; padding-right: 1em; text-align: center; vertical-align: top\">0.0784</td>\n",
       "        <td style=\"padding-left: 1em; padding-right: 1em; text-align: center; vertical-align: top\">0</td>\n",
       "        <td style=\"padding-left: 1em; padding-right: 1em; text-align: center; vertical-align: top\">0</td>\n",
       "        <td style=\"padding-left: 1em; padding-right: 1em; text-align: center; vertical-align: top\">0</td>\n",
       "        <td style=\"padding-left: 1em; padding-right: 1em; text-align: center; vertical-align: top\">0</td>\n",
       "    </tr>\n",
       "</table>\n",
       "<table frame=\"box\" rules=\"cols\">\n",
       "    <tr>\n",
       "        <th style=\"padding-left: 1em; padding-right: 1em; text-align: center\">Features_ 22</th>\n",
       "        <th style=\"padding-left: 1em; padding-right: 1em; text-align: center\">Features_ 23</th>\n",
       "        <th style=\"padding-left: 1em; padding-right: 1em; text-align: center\">Features_ 24</th>\n",
       "        <th style=\"padding-left: 1em; padding-right: 1em; text-align: center\">Features_ 25</th>\n",
       "        <th style=\"padding-left: 1em; padding-right: 1em; text-align: center\">Features_ 26</th>\n",
       "        <th style=\"padding-left: 1em; padding-right: 1em; text-align: center\">Features_ 27</th>\n",
       "    </tr>\n",
       "    <tr>\n",
       "        <td style=\"padding-left: 1em; padding-right: 1em; text-align: center; vertical-align: top\">0.252559348905</td>\n",
       "        <td style=\"padding-left: 1em; padding-right: 1em; text-align: center; vertical-align: top\">0.441806399998</td>\n",
       "        <td style=\"padding-left: 1em; padding-right: 1em; text-align: center; vertical-align: top\">1.50225147456</td>\n",
       "        <td style=\"padding-left: 1em; padding-right: 1em; text-align: center; vertical-align: top\">-0.00234111111111</td>\n",
       "        <td style=\"padding-left: 1em; padding-right: 1em; text-align: center; vertical-align: top\">0.0614360391284</td>\n",
       "        <td style=\"padding-left: 1em; padding-right: 1em; text-align: center; vertical-align: top\">-0.350425643783</td>\n",
       "    </tr>\n",
       "    <tr>\n",
       "        <td style=\"padding-left: 1em; padding-right: 1em; text-align: center; vertical-align: top\">0.163775773499</td>\n",
       "        <td style=\"padding-left: 1em; padding-right: 1em; text-align: center; vertical-align: top\">1.35066706204</td>\n",
       "        <td style=\"padding-left: 1em; padding-right: 1em; text-align: center; vertical-align: top\">4.8748955425</td>\n",
       "        <td style=\"padding-left: 1em; padding-right: 1em; text-align: center; vertical-align: top\">-0.00190555555556</td>\n",
       "        <td style=\"padding-left: 1em; padding-right: 1em; text-align: center; vertical-align: top\">0.0682046491004</td>\n",
       "        <td style=\"padding-left: 1em; padding-right: 1em; text-align: center; vertical-align: top\">-0.272877559768</td>\n",
       "    </tr>\n",
       "    <tr>\n",
       "        <td style=\"padding-left: 1em; padding-right: 1em; text-align: center; vertical-align: top\">0.0861118742405</td>\n",
       "        <td style=\"padding-left: 1em; padding-right: 1em; text-align: center; vertical-align: top\">-0.935385885979</td>\n",
       "        <td style=\"padding-left: 1em; padding-right: 1em; text-align: center; vertical-align: top\">4.09906709893</td>\n",
       "        <td style=\"padding-left: 1em; padding-right: 1em; text-align: center; vertical-align: top\">0.0</td>\n",
       "        <td style=\"padding-left: 1em; padding-right: 1em; text-align: center; vertical-align: top\">0.061650817028</td>\n",
       "        <td style=\"padding-left: 1em; padding-right: 1em; text-align: center; vertical-align: top\">0.00567046879142</td>\n",
       "    </tr>\n",
       "    <tr>\n",
       "        <td style=\"padding-left: 1em; padding-right: 1em; text-align: center; vertical-align: top\">0.0628676683988</td>\n",
       "        <td style=\"padding-left: 1em; padding-right: 1em; text-align: center; vertical-align: top\">-0.924831026921</td>\n",
       "        <td style=\"padding-left: 1em; padding-right: 1em; text-align: center; vertical-align: top\">3.34203744561</td>\n",
       "        <td style=\"padding-left: 1em; padding-right: 1em; text-align: center; vertical-align: top\">0.000653333333333</td>\n",
       "        <td style=\"padding-left: 1em; padding-right: 1em; text-align: center; vertical-align: top\">0.048583233193</td>\n",
       "        <td style=\"padding-left: 1em; padding-right: 1em; text-align: center; vertical-align: top\">-0.20819575962</td>\n",
       "    </tr>\n",
       "    <tr>\n",
       "        <td style=\"padding-left: 1em; padding-right: 1em; text-align: center; vertical-align: top\">0.0370766090247</td>\n",
       "        <td style=\"padding-left: 1em; padding-right: 1em; text-align: center; vertical-align: top\">-0.613014026838</td>\n",
       "        <td style=\"padding-left: 1em; padding-right: 1em; text-align: center; vertical-align: top\">3.89219892908</td>\n",
       "        <td style=\"padding-left: 1em; padding-right: 1em; text-align: center; vertical-align: top\">0.000217777777778</td>\n",
       "        <td style=\"padding-left: 1em; padding-right: 1em; text-align: center; vertical-align: top\">0.0429608801596</td>\n",
       "        <td style=\"padding-left: 1em; padding-right: 1em; text-align: center; vertical-align: top\">-0.164208050896</td>\n",
       "    </tr>\n",
       "</table>\n",
       "<table frame=\"box\" rules=\"cols\">\n",
       "    <tr>\n",
       "        <th style=\"padding-left: 1em; padding-right: 1em; text-align: center\">Features_ 28</th>\n",
       "        <th style=\"padding-left: 1em; padding-right: 1em; text-align: center\">Features_ 29</th>\n",
       "        <th style=\"padding-left: 1em; padding-right: 1em; text-align: center\">Features_ 30</th>\n",
       "        <th style=\"padding-left: 1em; padding-right: 1em; text-align: center\">Features_ 31</th>\n",
       "        <th style=\"padding-left: 1em; padding-right: 1em; text-align: center\">Features_ 32</th>\n",
       "        <th style=\"padding-left: 1em; padding-right: 1em; text-align: center\">Features_ 33</th>\n",
       "        <th style=\"padding-left: 1em; padding-right: 1em; text-align: center\">Features_ 34</th>\n",
       "        <th style=\"padding-left: 1em; padding-right: 1em; text-align: center\">Features_ 35</th>\n",
       "    </tr>\n",
       "    <tr>\n",
       "        <td style=\"padding-left: 1em; padding-right: 1em; text-align: center; vertical-align: top\">5.98909461353</td>\n",
       "        <td style=\"padding-left: 1em; padding-right: 1em; text-align: center; vertical-align: top\">8.27022541436</td>\n",
       "        <td style=\"padding-left: 1em; padding-right: 1em; text-align: center; vertical-align: top\">0.8428</td>\n",
       "        <td style=\"padding-left: 1em; padding-right: 1em; text-align: center; vertical-align: top\">0.4606</td>\n",
       "        <td style=\"padding-left: 1em; padding-right: 1em; text-align: center; vertical-align: top\">0</td>\n",
       "        <td style=\"padding-left: 1em; padding-right: 1em; text-align: center; vertical-align: top\">0</td>\n",
       "        <td style=\"padding-left: 1em; padding-right: 1em; text-align: center; vertical-align: top\">0</td>\n",
       "        <td style=\"padding-left: 1em; padding-right: 1em; text-align: center; vertical-align: top\">0</td>\n",
       "    </tr>\n",
       "    <tr>\n",
       "        <td style=\"padding-left: 1em; padding-right: 1em; text-align: center; vertical-align: top\">4.35673213621</td>\n",
       "        <td style=\"padding-left: 1em; padding-right: 1em; text-align: center; vertical-align: top\">8.34927513812</td>\n",
       "        <td style=\"padding-left: 1em; padding-right: 1em; text-align: center; vertical-align: top\">0.8428</td>\n",
       "        <td style=\"padding-left: 1em; padding-right: 1em; text-align: center; vertical-align: top\">0.147</td>\n",
       "        <td style=\"padding-left: 1em; padding-right: 1em; text-align: center; vertical-align: top\">0</td>\n",
       "        <td style=\"padding-left: 1em; padding-right: 1em; text-align: center; vertical-align: top\">0</td>\n",
       "        <td style=\"padding-left: 1em; padding-right: 1em; text-align: center; vertical-align: top\">0</td>\n",
       "        <td style=\"padding-left: 1em; padding-right: 1em; text-align: center; vertical-align: top\">0</td>\n",
       "    </tr>\n",
       "    <tr>\n",
       "        <td style=\"padding-left: 1em; padding-right: 1em; text-align: center; vertical-align: top\">4.06132460327</td>\n",
       "        <td style=\"padding-left: 1em; padding-right: 1em; text-align: center; vertical-align: top\">8.35820883978</td>\n",
       "        <td style=\"padding-left: 1em; padding-right: 1em; text-align: center; vertical-align: top\">0.735</td>\n",
       "        <td style=\"padding-left: 1em; padding-right: 1em; text-align: center; vertical-align: top\">0.0784</td>\n",
       "        <td style=\"padding-left: 1em; padding-right: 1em; text-align: center; vertical-align: top\">0</td>\n",
       "        <td style=\"padding-left: 1em; padding-right: 1em; text-align: center; vertical-align: top\">0</td>\n",
       "        <td style=\"padding-left: 1em; padding-right: 1em; text-align: center; vertical-align: top\">0</td>\n",
       "        <td style=\"padding-left: 1em; padding-right: 1em; text-align: center; vertical-align: top\">0</td>\n",
       "    </tr>\n",
       "    <tr>\n",
       "        <td style=\"padding-left: 1em; padding-right: 1em; text-align: center; vertical-align: top\">3.52215990866</td>\n",
       "        <td style=\"padding-left: 1em; padding-right: 1em; text-align: center; vertical-align: top\">8.33557679558</td>\n",
       "        <td style=\"padding-left: 1em; padding-right: 1em; text-align: center; vertical-align: top\">0.343</td>\n",
       "        <td style=\"padding-left: 1em; padding-right: 1em; text-align: center; vertical-align: top\">0.0392</td>\n",
       "        <td style=\"padding-left: 1em; padding-right: 1em; text-align: center; vertical-align: top\">0</td>\n",
       "        <td style=\"padding-left: 1em; padding-right: 1em; text-align: center; vertical-align: top\">0</td>\n",
       "        <td style=\"padding-left: 1em; padding-right: 1em; text-align: center; vertical-align: top\">0</td>\n",
       "        <td style=\"padding-left: 1em; padding-right: 1em; text-align: center; vertical-align: top\">0</td>\n",
       "    </tr>\n",
       "    <tr>\n",
       "        <td style=\"padding-left: 1em; padding-right: 1em; text-align: center; vertical-align: top\">3.73771975026</td>\n",
       "        <td style=\"padding-left: 1em; padding-right: 1em; text-align: center; vertical-align: top\">8.31483977901</td>\n",
       "        <td style=\"padding-left: 1em; padding-right: 1em; text-align: center; vertical-align: top\">0.2254</td>\n",
       "        <td style=\"padding-left: 1em; padding-right: 1em; text-align: center; vertical-align: top\">0.0</td>\n",
       "        <td style=\"padding-left: 1em; padding-right: 1em; text-align: center; vertical-align: top\">0</td>\n",
       "        <td style=\"padding-left: 1em; padding-right: 1em; text-align: center; vertical-align: top\">0</td>\n",
       "        <td style=\"padding-left: 1em; padding-right: 1em; text-align: center; vertical-align: top\">0</td>\n",
       "        <td style=\"padding-left: 1em; padding-right: 1em; text-align: center; vertical-align: top\">0</td>\n",
       "    </tr>\n",
       "</table>\n",
       "<table frame=\"box\" rules=\"cols\">\n",
       "    <tr>\n",
       "        <th style=\"padding-left: 1em; padding-right: 1em; text-align: center\">Features_ 36</th>\n",
       "        <th style=\"padding-left: 1em; padding-right: 1em; text-align: center\">Features_ 37</th>\n",
       "        <th style=\"padding-left: 1em; padding-right: 1em; text-align: center\">Features_ 38</th>\n",
       "        <th style=\"padding-left: 1em; padding-right: 1em; text-align: center\">...</th>\n",
       "    </tr>\n",
       "    <tr>\n",
       "        <td style=\"padding-left: 1em; padding-right: 1em; text-align: center; vertical-align: top\">0.219706356595</td>\n",
       "        <td style=\"padding-left: 1em; padding-right: 1em; text-align: center; vertical-align: top\">-0.127990349631</td>\n",
       "        <td style=\"padding-left: 1em; padding-right: 1em; text-align: center; vertical-align: top\">1.71927560428</td>\n",
       "        <td style=\"padding-left: 1em; padding-right: 1em; text-align: center; vertical-align: top\">...</td>\n",
       "    </tr>\n",
       "    <tr>\n",
       "        <td style=\"padding-left: 1em; padding-right: 1em; text-align: center; vertical-align: top\">0.155590412767</td>\n",
       "        <td style=\"padding-left: 1em; padding-right: 1em; text-align: center; vertical-align: top\">-0.639652012448</td>\n",
       "        <td style=\"padding-left: 1em; padding-right: 1em; text-align: center; vertical-align: top\">4.13275290921</td>\n",
       "        <td style=\"padding-left: 1em; padding-right: 1em; text-align: center; vertical-align: top\">...</td>\n",
       "    </tr>\n",
       "    <tr>\n",
       "        <td style=\"padding-left: 1em; padding-right: 1em; text-align: center; vertical-align: top\">0.0925837130462</td>\n",
       "        <td style=\"padding-left: 1em; padding-right: 1em; text-align: center; vertical-align: top\">1.03393366067</td>\n",
       "        <td style=\"padding-left: 1em; padding-right: 1em; text-align: center; vertical-align: top\">7.73592612692</td>\n",
       "        <td style=\"padding-left: 1em; padding-right: 1em; text-align: center; vertical-align: top\">...</td>\n",
       "    </tr>\n",
       "    <tr>\n",
       "        <td style=\"padding-left: 1em; padding-right: 1em; text-align: center; vertical-align: top\">0.0506722377716</td>\n",
       "        <td style=\"padding-left: 1em; padding-right: 1em; text-align: center; vertical-align: top\">1.05044494342</td>\n",
       "        <td style=\"padding-left: 1em; padding-right: 1em; text-align: center; vertical-align: top\">4.46466722648</td>\n",
       "        <td style=\"padding-left: 1em; padding-right: 1em; text-align: center; vertical-align: top\">...</td>\n",
       "    </tr>\n",
       "    <tr>\n",
       "        <td style=\"padding-left: 1em; padding-right: 1em; text-align: center; vertical-align: top\">0.0292622124165</td>\n",
       "        <td style=\"padding-left: 1em; padding-right: 1em; text-align: center; vertical-align: top\">0.282918434936</td>\n",
       "        <td style=\"padding-left: 1em; padding-right: 1em; text-align: center; vertical-align: top\">5.74073784939</td>\n",
       "        <td style=\"padding-left: 1em; padding-right: 1em; text-align: center; vertical-align: top\">...</td>\n",
       "    </tr>\n",
       "</table>\n",
       "[5 rows x 134 columns]<br/>\n",
       "</div>"
      ],
      "text/plain": [
       "Columns:\n",
       "\tSubjID\tint\n",
       "\tSession\tint\n",
       "\tFeatures_  1\tfloat\n",
       "\tFeatures_  2\tfloat\n",
       "\tFeatures_  3\tfloat\n",
       "\tFeatures_  4\tint\n",
       "\tFeatures_  5\tint\n",
       "\tFeatures_  6\tint\n",
       "\tFeatures_  7\tint\n",
       "\tFeatures_  8\tfloat\n",
       "\tFeatures_  9\tfloat\n",
       "\tFeatures_ 10\tfloat\n",
       "\tFeatures_ 11\tfloat\n",
       "\tFeatures_ 12\tfloat\n",
       "\tFeatures_ 13\tfloat\n",
       "\tFeatures_ 14\tfloat\n",
       "\tFeatures_ 15\tfloat\n",
       "\tFeatures_ 16\tfloat\n",
       "\tFeatures_ 17\tfloat\n",
       "\tFeatures_ 18\tint\n",
       "\tFeatures_ 19\tint\n",
       "\tFeatures_ 20\tint\n",
       "\tFeatures_ 21\tint\n",
       "\tFeatures_ 22\tfloat\n",
       "\tFeatures_ 23\tfloat\n",
       "\tFeatures_ 24\tfloat\n",
       "\tFeatures_ 25\tfloat\n",
       "\tFeatures_ 26\tfloat\n",
       "\tFeatures_ 27\tfloat\n",
       "\tFeatures_ 28\tfloat\n",
       "\tFeatures_ 29\tfloat\n",
       "\tFeatures_ 30\tfloat\n",
       "\tFeatures_ 31\tfloat\n",
       "\tFeatures_ 32\tint\n",
       "\tFeatures_ 33\tint\n",
       "\tFeatures_ 34\tint\n",
       "\tFeatures_ 35\tint\n",
       "\tFeatures_ 36\tfloat\n",
       "\tFeatures_ 37\tfloat\n",
       "\tFeatures_ 38\tfloat\n",
       "\tFeatures_ 39\tfloat\n",
       "\tFeatures_ 40\tfloat\n",
       "\tFeatures_ 41\tfloat\n",
       "\tFeatures_ 42\tfloat\n",
       "\tFeatures_ 43\tfloat\n",
       "\tFeatures_ 44\tfloat\n",
       "\tFeatures_ 45\tfloat\n",
       "\tFeatures_ 46\tfloat\n",
       "\tFeatures_ 47\tfloat\n",
       "\tFeatures_ 48\tfloat\n",
       "\tFeatures_ 49\tfloat\n",
       "\tFeatures_ 50\tfloat\n",
       "\tFeatures_ 51\tfloat\n",
       "\tFeatures_ 52\tfloat\n",
       "\tFeatures_ 53\tfloat\n",
       "\tFeatures_ 54\tfloat\n",
       "\tFeatures_ 55\tfloat\n",
       "\tFeatures_ 56\tfloat\n",
       "\tFeatures_ 57\tfloat\n",
       "\tFeatures_ 58\tfloat\n",
       "\tFeatures_ 59\tfloat\n",
       "\tFeatures_ 60\tfloat\n",
       "\tFeatures_ 61\tfloat\n",
       "\tFeatures_ 62\tfloat\n",
       "\tFeatures_ 63\tfloat\n",
       "\tFeatures_ 64\tfloat\n",
       "\tFeatures_ 65\tfloat\n",
       "\tFeatures_ 66\tfloat\n",
       "\tFeatures_ 67\tfloat\n",
       "\tFeatures_ 68\tfloat\n",
       "\tFeatures_ 69\tfloat\n",
       "\tFeatures_ 70\tfloat\n",
       "\tFeatures_ 71\tfloat\n",
       "\tFeatures_ 72\tfloat\n",
       "\tFeatures_ 73\tfloat\n",
       "\tFeatures_ 74\tfloat\n",
       "\tFeatures_ 75\tfloat\n",
       "\tFeatures_ 76\tfloat\n",
       "\tFeatures_ 77\tfloat\n",
       "\tFeatures_ 78\tfloat\n",
       "\tFeatures_ 79\tfloat\n",
       "\tFeatures_ 80\tfloat\n",
       "\tFeatures_ 81\tfloat\n",
       "\tFeatures_ 82\tfloat\n",
       "\tFeatures_ 83\tfloat\n",
       "\tFeatures_ 84\tfloat\n",
       "\tFeatures_ 85\tfloat\n",
       "\tFeatures_ 86\tfloat\n",
       "\tFeatures_ 87\tfloat\n",
       "\tFeatures_ 88\tfloat\n",
       "\tFeatures_ 89\tfloat\n",
       "\tFeatures_ 90\tfloat\n",
       "\tFeatures_ 91\tfloat\n",
       "\tFeatures_ 92\tfloat\n",
       "\tFeatures_ 93\tfloat\n",
       "\tFeatures_ 94\tfloat\n",
       "\tFeatures_ 95\tfloat\n",
       "\tFeatures_ 96\tfloat\n",
       "\tFeatures_ 97\tfloat\n",
       "\tFeatures_ 98\tfloat\n",
       "\tFeatures_ 99\tfloat\n",
       "\tFeatures_100\tfloat\n",
       "\tFeatures_101\tfloat\n",
       "\tFeatures_102\tfloat\n",
       "\tFeatures_103\tfloat\n",
       "\tFeatures_104\tfloat\n",
       "\tFeatures_105\tfloat\n",
       "\tFeatures_106\tfloat\n",
       "\tFeatures_107\tfloat\n",
       "\tFeatures_108\tfloat\n",
       "\tFeatures_109\tfloat\n",
       "\tFeatures_110\tfloat\n",
       "\tFeatures_111\tfloat\n",
       "\tFeatures_112\tfloat\n",
       "\tFeatures_113\tfloat\n",
       "\tFeatures_114\tfloat\n",
       "\tFeatures_115\tfloat\n",
       "\tFeatures_116\tfloat\n",
       "\tFeatures_117\tfloat\n",
       "\tFeatures_118\tfloat\n",
       "\tFeatures_119\tfloat\n",
       "\tFeatures_120\tfloat\n",
       "\tFeatures_121\tfloat\n",
       "\tFeatures_122\tfloat\n",
       "\tFeatures_123\tfloat\n",
       "\tFeatures_124\tfloat\n",
       "\tFeatures_125\tfloat\n",
       "\tFeatures_126\tfloat\n",
       "\tFeatures_127\tfloat\n",
       "\tFeatures_128\tfloat\n",
       "\tFeatures_129\tfloat\n",
       "\tFeatures_130\tfloat\n",
       "\tFeatures_131\tfloat\n",
       "\tLabel\tint\n",
       "\n",
       "Rows: 5\n",
       "\n",
       "Data:\n",
       "+--------+---------+-----------------+--------------+--------------+--------------+\n",
       "| SubjID | Session |   Features_  1  | Features_  2 | Features_  3 | Features_  4 |\n",
       "+--------+---------+-----------------+--------------+--------------+--------------+\n",
       "|   1    |    1    |  0.051382320442 |    0.6076    |    0.196     |      0       |\n",
       "|   1    |    1    | 0.0253933701657 |    0.6076    |    0.1176    |      0       |\n",
       "|   1    |    1    | 0.0248519337017 |     0.49     |    0.1176    |      0       |\n",
       "|   1    |    1    | 0.0465635359116 |    0.3136    |    0.0784    |      0       |\n",
       "|   1    |    1    | 0.0781834254144 |    0.2352    |    0.0784    |      56      |\n",
       "+--------+---------+-----------------+--------------+--------------+--------------+\n",
       "+--------------+--------------+--------------+-----------------+-----------------+\n",
       "| Features_  5 | Features_  6 | Features_  7 |   Features_  8  |   Features_  9  |\n",
       "+--------------+--------------+--------------+-----------------+-----------------+\n",
       "|     181      |      0       |      0       |  0.112454267826 | -0.294668590342 |\n",
       "|     178      |      3       |      0       | 0.0983200079119 | 0.0523105353163 |\n",
       "|     181      |      0       |      0       | 0.0841222692085 | -0.592549758023 |\n",
       "|     181      |      0       |      0       | 0.0654386480834 |  -1.01056633159 |\n",
       "|      0       |      0       |      0       | 0.0375305142722 | -0.712656990085 |\n",
       "+--------------+--------------+--------------+-----------------+-----------------+\n",
       "+---------------+--------------------+-----------------+----------------+\n",
       "|  Features_ 10 |    Features_ 11    |   Features_ 12  |  Features_ 13  |\n",
       "+---------------+--------------------+-----------------+----------------+\n",
       "| 2.38556796968 | -0.000653333333333 |  0.072657333349 | 0.181289226345 |\n",
       "| 3.41100727695 | -0.000435555555556 | 0.0780695955254 | 0.180121837472 |\n",
       "| 3.41421963842 | 0.000653333333333  | 0.0698793552525 | 0.24648779524  |\n",
       "| 3.65404790008 | 0.000217777777778  | 0.0504932952633 | 0.225561487781 |\n",
       "| 4.19196004385 | 0.000217777777778  | 0.0415385735192 | 0.130183600125 |\n",
       "+---------------+--------------------+-----------------+----------------+\n",
       "+---------------+---------------+--------------+--------------+--------------+-----+\n",
       "|  Features_ 14 |  Features_ 15 | Features_ 16 | Features_ 17 | Features_ 18 | ... |\n",
       "+---------------+---------------+--------------+--------------+--------------+-----+\n",
       "|  4.849714754  | 7.08929834254 |    0.7644    |    0.539     |      0       | ... |\n",
       "| 3.89013448447 | 6.99232707182 |    0.7644    |    0.1568    |      0       | ... |\n",
       "| 4.91346159405 | 6.98496353591 |     0.49     |    0.1176    |      0       | ... |\n",
       "| 4.15285973332 | 7.01284751381 |    0.3136    |    0.0392    |      0       | ... |\n",
       "| 4.15415404049 | 7.03970276243 |    0.2352    |    0.0784    |      0       | ... |\n",
       "+---------------+---------------+--------------+--------------+--------------+-----+\n",
       "[5 rows x 134 columns]"
      ]
     },
     "execution_count": 4,
     "metadata": {},
     "output_type": "execute_result"
    }
   ],
   "source": [
    "CBRData.head(5)"
   ]
  },
  {
   "cell_type": "code",
   "execution_count": 5,
   "metadata": {
    "collapsed": false
   },
   "outputs": [
    {
     "name": "stdout",
     "output_type": "stream",
     "text": [
      "[60, 53, 54, 61, 51, 56, 58, 55, 59, 52, 57]\n",
      "[1, 2, 5, 6, 8, 11, 12, 13, 14, 15, 16, 19]\n"
     ]
    }
   ],
   "source": [
    "#SUBJECTS IN THE DATABASE\n",
    "HealthyCodes = HealthyData['SubjID'].unique()\n",
    "print HealthyCodes\n",
    "PatientCodes = CBRData['SubjID'].unique()\n",
    "PatientCodes = PatientCodes.sort()\n",
    "print PatientCodes"
   ]
  },
  {
   "cell_type": "code",
   "execution_count": 6,
   "metadata": {
    "collapsed": false
   },
   "outputs": [
    {
     "name": "stdout",
     "output_type": "stream",
     "text": [
      "Subject = 60\n",
      "Train samples = 7695, Test samples = 680\n",
      "0.720588235294\n",
      "Subject = 53\n",
      "Train samples = 7608, Test samples = 767\n",
      "0.779661016949\n",
      "Subject = 54\n",
      "Train samples = 7692, Test samples = 683\n",
      "0.670571010249\n",
      "Subject = 61\n",
      "Train samples = 7710, Test samples = 665\n",
      "0.415037593985\n",
      "Subject = 51\n",
      "Train samples = 7371, Test samples = 1004\n",
      "0.739043824701\n",
      "Subject = 56\n",
      "Train samples = 7591, Test samples = 784\n",
      "0.936224489796\n",
      "Subject = 58\n",
      "Train samples = 7617, Test samples = 758\n",
      "0.46437994723\n",
      "Subject = 55\n",
      "Train samples = 7668, Test samples = 707\n",
      "0.913719943423\n",
      "Subject = 59\n",
      "Train samples = 7649, Test samples = 726\n",
      "0.710743801653\n",
      "Subject = 52\n",
      "Train samples = 7666, Test samples = 709\n",
      "0.77856135402\n",
      "Subject = 57\n",
      "Train samples = 7483, Test samples = 892\n",
      "0.868834080717\n",
      "mean CVacc = 0.727033208911\n"
     ]
    }
   ],
   "source": [
    "#LOSO cross validation on healthy\n",
    "# NEED TO UPDATE TO BALANCED ACCURACY\n",
    "\n",
    "col_names = HealthyData.column_names()\n",
    "label_cols = col_names[-1:] #the : is used to return a list with one element \n",
    "feature_cols = col_names[2:-1]\n",
    "\n",
    "CVacc = np.zeros(len(HealthyCodes)) \n",
    "k = 0\n",
    "for s in HealthyCodes:\n",
    "    print 'Subject = %s'%s\n",
    "    #1 subject is test, the rest is used for training\n",
    "    test = HealthyData[HealthyData['SubjID'] == s]\n",
    "    train = HealthyData[HealthyData['SubjID'] != s]\n",
    "    Xtrain = train.select_columns(feature_cols).to_numpy()\n",
    "    ytrain = train.select_columns(label_cols).to_numpy()\n",
    "    ytrain = ytrain.reshape(-1) #to squeeze last dimension and obtain a 1D array\n",
    "    Xtest = test.select_columns(feature_cols).to_numpy()\n",
    "    ytest = test.select_columns(label_cols).to_numpy()\n",
    "    ytest = ytest.reshape(-1)\n",
    "    \n",
    "    print 'Train samples = %s, Test samples = %s'%(len(ytrain),len(ytest))\n",
    "    #train a RF \n",
    "    RF = RandomForestClassifier(n_estimators=50)\n",
    "    RF = RF.fit(Xtrain,ytrain)\n",
    "    ypred = RF.predict(Xtest)\n",
    "    acc = sum(ypred == ytest)\n",
    "    CVacc[k] = acc/len(ytest)\n",
    "    print CVacc[k]\n",
    "    k = k+1\n",
    "    \n",
    "print 'mean CVacc = %s'%CVacc.mean()\n",
    "    "
   ]
  },
  {
   "cell_type": "code",
   "execution_count": 7,
   "metadata": {
    "collapsed": false
   },
   "outputs": [
    {
     "name": "stdout",
     "output_type": "stream",
     "text": [
      "[[ 0.9887218   0.          0.01219512  0.00673401  0.        ]\n",
      " [ 0.          1.          0.          0.          0.        ]\n",
      " [ 0.          0.53030303  0.37804878  0.          0.08839779]\n",
      " [ 0.16541353  0.          0.01219512  0.81818182  0.04972376]\n",
      " [ 0.          0.09090909  0.          0.01010101  0.95027624]]\n"
     ]
    }
   ],
   "source": [
    "#display the Confusion Matrix for one subject\n",
    "#labels=[\"sitting\", \"stairs dw\", \"stairs up\", \"standing\", \"walking\"])\n",
    "cmat = confusion_matrix(ytest, ypred)\n",
    "#print cmat\n",
    "totals = cmat.sum(axis=1)\n",
    "cmat = cmat/totals\n",
    "print cmat"
   ]
  },
  {
   "cell_type": "markdown",
   "metadata": {},
   "source": [
    "## Train on Healthy and test on CBR patients\n"
   ]
  },
  {
   "cell_type": "code",
   "execution_count": 8,
   "metadata": {
    "collapsed": false
   },
   "outputs": [
    {
     "name": "stdout",
     "output_type": "stream",
     "text": [
      "Test on Patient 1\n",
      "Train samples = 8375, Test samples = 1678\n",
      "0.478545887962\n",
      "Test on Patient 2\n",
      "Train samples = 8375, Test samples = 1458\n",
      "0.410836762689\n",
      "Test on Patient 5\n",
      "Train samples = 8375, Test samples = 1773\n",
      "0.547095318669\n",
      "Test on Patient 6\n",
      "Train samples = 8375, Test samples = 2916\n",
      "0.618998628258\n",
      "Test on Patient 8\n",
      "Train samples = 8375, Test samples = 1210\n",
      "0.32479338843\n",
      "Test on Patient 11\n",
      "Train samples = 8375, Test samples = 1708\n",
      "0.551522248244\n",
      "Test on Patient 12\n",
      "Train samples = 8375, Test samples = 1187\n",
      "0.44397641112\n",
      "Test on Patient 13\n",
      "Train samples = 8375, Test samples = 1638\n",
      "0.586691086691\n",
      "Test on Patient 14\n",
      "Train samples = 8375, Test samples = 1976\n",
      "0.744433198381\n",
      "Test on Patient 15\n",
      "Train samples = 8375, Test samples = 3511\n",
      "0.634861862717\n",
      "Test on Patient 16\n",
      "Train samples = 8375, Test samples = 1734\n",
      "0.722029988466\n",
      "Test on Patient 19\n",
      "Train samples = 8375, Test samples = 1565\n",
      "0.502236421725\n",
      "mean acc = 0.547168433613\n"
     ]
    }
   ],
   "source": [
    "#NEED TO UPDATE TO BACC\n",
    "Xtrain = HealthyData.select_columns(feature_cols).to_numpy()\n",
    "ytrain = HealthyData.select_columns(label_cols).to_numpy()\n",
    "ytrain = ytrain.reshape(-1) #to squeeze last dimension and obtain a 1D array\n",
    "\n",
    "RF = RandomForestClassifier(n_estimators=50)\n",
    "RF = RF.fit(Xtrain,ytrain)\n",
    "\n",
    "#test on each patient (CBR)\n",
    "PatientCodes = CBRData['SubjID'].unique()\n",
    "PatientCodes = PatientCodes.sort()\n",
    "CVacc = np.zeros(len(PatientCodes))\n",
    "k = 0\n",
    "\n",
    "for s in PatientCodes:\n",
    "    test = CBRData[CBRData['SubjID'] == s]\n",
    "    Xtest = test.select_columns(feature_cols).to_numpy()\n",
    "    ytest = test.select_columns(label_cols).to_numpy()\n",
    "    ytest = ytest.reshape(-1) #to squeeze last dimension and obtain a 1D array\n",
    "\n",
    "    print 'Test on Patient %s'%s\n",
    "    print 'Train samples = %s, Test samples = %s'%(len(ytrain),len(ytest))\n",
    "    ypred = RF.predict(Xtest)\n",
    "    acc = sum(ypred == ytest)\n",
    "    CVacc[k] = acc/len(ytest)\n",
    "    print CVacc[k]\n",
    "    k = k+1\n",
    "\n",
    "print '\\nmean acc = %s'%CVacc.mean()\n"
   ]
  },
  {
   "cell_type": "markdown",
   "metadata": {},
   "source": [
    "## Now test the SER - Use one session of data from each patient as target and the remaining as his test\n",
    "* Need to compute CV error on each session"
   ]
  },
  {
   "cell_type": "code",
   "execution_count": 33,
   "metadata": {
    "collapsed": false
   },
   "outputs": [
    {
     "name": "stdout",
     "output_type": "stream",
     "text": [
      "Test on Patient 1,  \n",
      "# of classes = 5\n",
      "Source samples = 8375, Target samples = 501, Test samples = 1177\n",
      "Accuracy Source Only = 0.395072217502\n",
      "Accuracy w SER = 0.783347493628\n",
      "\n",
      "Test on Patient 2,  \n",
      "# of classes = 5\n",
      "Source samples = 8375, Target samples = 230, Test samples = 1228\n",
      "Accuracy Source Only = 0.420195439739\n",
      "Accuracy w SER = 0.490228013029\n",
      "\n",
      "Test on Patient 5,  \n",
      "# of classes = 5\n",
      "Source samples = 8375, Target samples = 305, Test samples = 1468\n",
      "Accuracy Source Only = 0.58310626703\n",
      "Accuracy w SER = 0.687329700272\n",
      "\n",
      "Test on Patient 6,  \n",
      "# of classes = 4\n",
      "Source samples = 8375, Target samples = 670, Test samples = 2246\n",
      "Accuracy Source Only = 0.664737310775\n",
      "Accuracy w SER = 0.821015138023\n",
      "\n",
      "Test on Patient 8,  \n",
      "# of classes = 3\n",
      "Source samples = 8375, Target samples = 284, Test samples = 926\n",
      "Accuracy Source Only = 0.327213822894\n",
      "Accuracy w SER = 0.54211663067\n",
      "\n",
      "Test on Patient 11,  \n",
      "# of classes = 3\n",
      "Source samples = 8375, Target samples = 501, Test samples = 1207\n",
      "Accuracy Source Only = 0.521126760563\n",
      "Accuracy w SER = 0.523612261806\n",
      "\n",
      "Test on Patient 12,  \n",
      "# of classes = 5\n",
      "Source samples = 8375, Target samples = 474, Test samples = 713\n",
      "Accuracy Source Only = 0.454417952314\n",
      "Accuracy w SER = 0.458625525947\n",
      "\n",
      "Test on Patient 13,  \n",
      "# of classes = 5\n",
      "Source samples = 8375, Target samples = 441, Test samples = 1197\n",
      "Accuracy Source Only = 0.573099415205\n",
      "Accuracy w SER = 0.680868838764\n",
      "\n",
      "Test on Patient 14,  \n",
      "# of classes = 3\n",
      "Source samples = 8375, Target samples = 449, Test samples = 1527\n",
      "Accuracy Source Only = 0.73935821873\n",
      "Accuracy w SER = 0.784544859201\n",
      "\n",
      "Test on Patient 15,  \n",
      "# of classes = 3\n",
      "Source samples = 8375, Target samples = 334, Test samples = 3177\n",
      "Accuracy Source Only = 0.658168083097\n",
      "Accuracy w SER = 0.724268177526\n",
      "\n",
      "Test on Patient 16,  \n",
      "# of classes = 5\n",
      "Source samples = 8375, Target samples = 380, Test samples = 1354\n",
      "Accuracy Source Only = 0.808714918759\n",
      "Accuracy w SER = 0.872968980798\n",
      "\n",
      "Test on Patient 19,  \n",
      "# of classes = 3\n",
      "Source samples = 8375, Target samples = 237, Test samples = 1328\n",
      "Accuracy Source Only = 0.45406626506\n",
      "Accuracy w SER = 0.434487951807\n",
      "\n",
      "mean Acc - Source only = 0.549939722639\n",
      "mean Acc - SER = 0.650284464289\n"
     ]
    }
   ],
   "source": [
    "SOacc = np.zeros(len(PatientCodes)) #to store err when using source only\n",
    "SERacc = np.zeros(len(PatientCodes)) #to store err when using source + Target with SER\n",
    "k = 0\n",
    "for s in PatientCodes:\n",
    "    \n",
    "    target = CBRData[(CBRData['SubjID'] == s) & (CBRData['Session'] == 1)]\n",
    "    test = CBRData[(CBRData['SubjID'] == s) & (CBRData['Session'] != 1)]\n",
    "    Nclasses = len(target['Label'].unique()) #How many activities we have for this patient\n",
    "\n",
    "    Xtarget = target.select_columns(feature_cols).to_numpy()\n",
    "    ytarget = target.select_columns(label_cols).to_numpy()\n",
    "    ytarget = ytarget.reshape(-1)\n",
    "    Xtest = test.select_columns(feature_cols).to_numpy()\n",
    "    ytest = test.select_columns(label_cols).to_numpy()\n",
    "    ytest = ytest.reshape(-1)\n",
    "\n",
    "    print 'Test on Patient %s,  '%s\n",
    "    print '# of classes = %s'%Nclasses\n",
    "    print 'Source samples = %s, Target samples = %s, Test samples = %s'%(len(ytrain),len(ytarget),len(ytest))\n",
    "\n",
    "    #predicting using only source data\n",
    "    ypred = RF.predict(Xtest)\n",
    "    correct = sum(ypred == ytest)\n",
    "    SOacc[k] = correct/len(ytest)\n",
    "    print 'Accuracy Source Only = %s'%SOacc_\n",
    "\n",
    "    #combining source w target data\n",
    "    newRF = SERfuncs.forest_convert(RF)\n",
    "    expRF = SERfuncs.forest_SER(newRF,Xtarget,ytarget,C=5) #refine RF on current data (C is the # of classes on the source)\n",
    "    SERacc[k] = 1-SERfuncs.evaluate_classification_error(expRF, Xtest, ytest)\n",
    "    print 'Accuracy w SER = %s\\n'%SERacc_\n",
    "    k = k+1\n",
    "    \n",
    "print 'mean Acc - Source only = %s'%SOacc.mean()\n",
    "print 'mean Acc - SER = %s'%SERacc.mean()"
   ]
  },
  {
   "cell_type": "code",
   "execution_count": 32,
   "metadata": {
    "collapsed": false
   },
   "outputs": [
    {
     "name": "stdout",
     "output_type": "stream",
     "text": [
      "0.45406626506\n",
      "0.438253012048\n"
     ]
    }
   ],
   "source": []
  },
  {
   "cell_type": "markdown",
   "metadata": {
    "collapsed": true
   },
   "source": [
    "## Train a forest on Target data only"
   ]
  },
  {
   "cell_type": "code",
   "execution_count": 34,
   "metadata": {
    "collapsed": false
   },
   "outputs": [
    {
     "name": "stdout",
     "output_type": "stream",
     "text": [
      "0.861512319456\n",
      "0.5667752443\n",
      "0.74863760218\n",
      "0.838824577026\n",
      "0.885529157667\n",
      "0.779618889809\n",
      "0.71809256662\n",
      "0.722639933166\n",
      "0.863785199738\n",
      "0.936103242052\n",
      "0.605612998523\n"
     ]
    },
    {
     "ename": "IndexError",
     "evalue": "index 11 is out of bounds for axis 0 with size 11",
     "output_type": "error",
     "traceback": [
      "\u001b[0;31m---------------------------------------------------------------------------\u001b[0m",
      "\u001b[0;31mIndexError\u001b[0m                                Traceback (most recent call last)",
      "\u001b[0;32m<ipython-input-34-95c3d348745a>\u001b[0m in \u001b[0;36m<module>\u001b[0;34m()\u001b[0m\n\u001b[1;32m     18\u001b[0m     \u001b[0mypred\u001b[0m \u001b[0;34m=\u001b[0m \u001b[0mRF\u001b[0m\u001b[0;34m.\u001b[0m\u001b[0mpredict\u001b[0m\u001b[0;34m(\u001b[0m\u001b[0mXtest\u001b[0m\u001b[0;34m)\u001b[0m\u001b[0;34m\u001b[0m\u001b[0m\n\u001b[1;32m     19\u001b[0m     \u001b[0macc\u001b[0m \u001b[0;34m=\u001b[0m \u001b[0msum\u001b[0m\u001b[0;34m(\u001b[0m\u001b[0mypred\u001b[0m \u001b[0;34m==\u001b[0m \u001b[0mytest\u001b[0m\u001b[0;34m)\u001b[0m\u001b[0;34m\u001b[0m\u001b[0m\n\u001b[0;32m---> 20\u001b[0;31m     \u001b[0mCVacc\u001b[0m\u001b[0;34m[\u001b[0m\u001b[0mk\u001b[0m\u001b[0;34m]\u001b[0m \u001b[0;34m=\u001b[0m \u001b[0macc\u001b[0m\u001b[0;34m/\u001b[0m\u001b[0mlen\u001b[0m\u001b[0;34m(\u001b[0m\u001b[0mytest\u001b[0m\u001b[0;34m)\u001b[0m\u001b[0;34m\u001b[0m\u001b[0m\n\u001b[0m\u001b[1;32m     21\u001b[0m     \u001b[0;32mprint\u001b[0m \u001b[0mCVacc\u001b[0m\u001b[0;34m[\u001b[0m\u001b[0mk\u001b[0m\u001b[0;34m]\u001b[0m\u001b[0;34m\u001b[0m\u001b[0m\n\u001b[1;32m     22\u001b[0m     \u001b[0mk\u001b[0m \u001b[0;34m=\u001b[0m \u001b[0mk\u001b[0m\u001b[0;34m+\u001b[0m\u001b[0;36m1\u001b[0m\u001b[0;34m\u001b[0m\u001b[0m\n",
      "\u001b[0;31mIndexError\u001b[0m: index 11 is out of bounds for axis 0 with size 11"
     ]
    }
   ],
   "source": [
    "CVacc = np.zeros(len(HealthyCodes)) \n",
    "k = 0\n",
    "for s in PatientCodes:\n",
    "    \n",
    "    target = CBRData[(CBRData['SubjID'] == s) & (CBRData['Session'] == 1)]\n",
    "    test = CBRData[(CBRData['SubjID'] == s) & (CBRData['Session'] != 1)]\n",
    "    Nclasses = len(target['Label'].unique()) #How many activities we have for this patient\n",
    "\n",
    "    Xtarget = target.select_columns(feature_cols).to_numpy()\n",
    "    ytarget = target.select_columns(label_cols).to_numpy()\n",
    "    ytarget = ytarget.reshape(-1)\n",
    "    Xtest = test.select_columns(feature_cols).to_numpy()\n",
    "    ytest = test.select_columns(label_cols).to_numpy()\n",
    "    ytest = ytest.reshape(-1)\n",
    "    \n",
    "    RF = RandomForestClassifier(n_estimators=50)\n",
    "    RF = RF.fit(Xtarget,ytarget)\n",
    "    ypred = RF.predict(Xtest)\n",
    "    acc = sum(ypred == ytest)\n",
    "    CVacc[k] = acc/len(ytest)\n",
    "    print CVacc[k]\n",
    "    k = k+1\n",
    "\n",
    "print '\\nmean acc = %s'%CVacc.mean()"
   ]
  },
  {
   "cell_type": "code",
   "execution_count": 35,
   "metadata": {
    "collapsed": false
   },
   "outputs": [
    {
     "data": {
      "text/plain": [
       "<function matplotlib.pyplot.show>"
      ]
     },
     "execution_count": 35,
     "metadata": {},
     "output_type": "execute_result"
    },
    {
     "data": {
      "image/png": "[encoded data removed]",
      "text/plain": [
       "<matplotlib.figure.Figure at 0x13ad40510>"
      ]
     },
     "metadata": {},
     "output_type": "display_data"
    }
   ],
   "source": [
    "plt.plot(SERacc)\n",
    "plt.show"
   ]
  },
  {
   "cell_type": "code",
   "execution_count": 37,
   "metadata": {
    "collapsed": false
   },
   "outputs": [
    {
     "ename": "ValueError",
     "evalue": "operands could not be broadcast together with shapes (12,) (11,) ",
     "output_type": "error",
     "traceback": [
      "\u001b[0;31m---------------------------------------------------------------------------\u001b[0m",
      "\u001b[0;31mValueError\u001b[0m                                Traceback (most recent call last)",
      "\u001b[0;32m<ipython-input-37-3e51647dd1e4>\u001b[0m in \u001b[0;36m<module>\u001b[0;34m()\u001b[0m\n\u001b[0;32m----> 1\u001b[0;31m \u001b[0mplt\u001b[0m\u001b[0;34m.\u001b[0m\u001b[0mplot\u001b[0m\u001b[0;34m(\u001b[0m\u001b[0mSERacc\u001b[0m\u001b[0;34m-\u001b[0m\u001b[0mCVacc\u001b[0m\u001b[0;34m)\u001b[0m\u001b[0;34m\u001b[0m\u001b[0m\n\u001b[0m\u001b[1;32m      2\u001b[0m \u001b[0mplt\u001b[0m\u001b[0;34m.\u001b[0m\u001b[0mshow\u001b[0m\u001b[0;34m\u001b[0m\u001b[0m\n",
      "\u001b[0;31mValueError\u001b[0m: operands could not be broadcast together with shapes (12,) (11,) "
     ]
    }
   ],
   "source": [
    "plt.plot(SERacc-CVacc)\n",
    "plt.show"
   ]
  },
  {
   "cell_type": "code",
   "execution_count": null,
   "metadata": {
    "collapsed": true
   },
   "outputs": [],
   "source": []
  }
 ],
 "metadata": {
  "kernelspec": {
   "display_name": "Python 2",
   "language": "python",
   "name": "python2"
  },
  "language_info": {
   "codemirror_mode": {
    "name": "ipython",
    "version": 2
   },
   "file_extension": ".py",
   "mimetype": "text/x-python",
   "name": "python",
   "nbconvert_exporter": "python",
   "pygments_lexer": "ipython2",
   "version": "2.7.11"
  }
 },
 "nbformat": 4,
 "nbformat_minor": 0
}
