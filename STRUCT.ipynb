{
 "cells": [
  {
   "cell_type": "markdown",
   "metadata": {},
   "source": [
    "###  STRUCT"
   ]
  },
  {
   "cell_type": "code",
   "execution_count": 591,
   "metadata": {
    "collapsed": false
   },
   "outputs": [],
   "source": [
    "import numpy as np\n",
    "import math\n",
    "from math import log\n",
    "import matplotlib\n",
    "import matplotlib.pyplot as plt\n",
    "%matplotlib inline\n",
    "\n",
    "def kl (p,q): # Kullback-libler divegence\n",
    "    p = np.asarray(p, dtype=np.float)\n",
    "    q = np.asarray(q, dtype=np.float)\n",
    "    return np.sum(np.where(p != 0,(p-q) * np.log10(p / q), 0))\n",
    "def jsd(p,q): # Symmetric Kullback-libler divergence\n",
    "    p = np.asarray(p, dtype=np.float)\n",
    "    q = np.asarray(q, dtype=np.float)\n",
    "    m = (p+q)/2\n",
    "    return (kl(p,m)+kl(m,q))/2\n",
    "\n",
    "def partition(Xtarget,ytarget,index_of_data,feature,C,threshold): # divide the data to the left and rightbased on the threshold\n",
    "    left = index_of_data[Xtarget[index_of_data,feature]<threshold]\n",
    "    labels_left = ytarget[left]\n",
    "    QL = np.bincount(labels_left)\n",
    "    \n",
    "    right = index_of_data[Xtarget[index_of_data,feature]>=threshold]\n",
    "    labels_right = ytarget[right]\n",
    "    QR = np.bincount(labels_right)\n",
    "    \n",
    "    if(len(QL)<C):\n",
    "        QL = np.append(QL,np.zeros(C-len(QL))) \n",
    "    if(len(QR)<C):\n",
    "        QR = np.append(QR,np.zeros(C-len(QR))) \n",
    "    QL = QL/QL.sum()\n",
    "    QR = QR/QR.sum()\n",
    "    return [QL,left,QR,right]\n",
    "\n",
    "def dg(Sleft,lenleft,Sright,lenright,QL,QR): # DG function as in the paper\n",
    "    \n",
    "    return 1-(lenleft/(lenleft+lenright))*jsd(Sleft,QL)-(lenright/(lenleft+lenright))*jsd(Sright,QR)\n",
    "    \n",
    "def threshold_selection(X,y,S,f,QL,QR,C): # finding the best threshold\n",
    "    Val  = np.array([])\n",
    "    fvals = np.sort(X[S,f])\n",
    "    num_data_points = len(fvals)\n",
    "    N = 5000\n",
    "    print num_data_points\n",
    "    if num_data_points > N:            \n",
    "        fvals = fvals[range(0,num_data_points,np.floor(num_data_points/N).astype(int))]\n",
    "    for i in fvals:\n",
    "        [Sleft, left, Sright, right] = partition(X,y,S,f,C,i)\n",
    "        #fig, ((ax1, ax2), (ax3, ax4)) = plt.subplots(2, 2, sharex='col', sharey='row')\n",
    "        #ax1.plot(QL)\n",
    "        #ax1.set_title('QL')\n",
    "        #ax2.plot(Sleft, color='r')\n",
    "        #ax2.set_title('QprimeL')\n",
    "        #ax3.plot(QR)\n",
    "        #ax3.set_title('QR')\n",
    "        #ax4.plot(Sright, color='r')\n",
    "        #ax4.set_title('QprimeR')\n",
    "        Val = np.append(Val,max(dg(Sleft,len(left),Sright,len(right),QR,QL),dg(Sleft,len(left),Sright,len(right),QL,QR))) # this is the divergence measure for each threshold split  \n",
    "    Val[np.isnan(Val)] = min(Val[~np.isnan(Val)])\n",
    "    plt.plot(Val)\n",
    "    plt.show()\n",
    "    th = fvals[np.argmax(Val)]\n",
    "    [ql, left, qr, right] = partition(X,y,S,f,C,th)\n",
    "    return [th, ql, qr, left, right]\n",
    "    \n",
    "def STRUCT(Xsource,ysource,Xtarget,ytarget,C):\n",
    "    # Assumption: ysource has all the labels of the problem \n",
    "    estimator = DecisionTreeClassifier(max_features='sqrt',max_leaf_nodes=3,random_state=0)\n",
    "    estimator = estimator.fit(Xsource, ysource)\n",
    "    P = list(np.zeros(estimator.tree_.capacity))\n",
    "    P[0] = range(len(ytarget))\n",
    "    thresh = np.zeros(estimator.tree_.capacity)\n",
    "    remain = np.array([0])\n",
    "    while(len(remain)!=0):\n",
    "        print remain\n",
    "        i = remain[0]\n",
    "        index_left = estimator.tree_.children_left[i]\n",
    "        index_right = estimator.tree_.children_right[i]\n",
    "        if(index_left!=-1):\n",
    "            QL = np.squeeze(estimator.tree_.value[index_left])\n",
    "            QL = QL/QL.sum()\n",
    "            QR = np.squeeze(estimator.tree_.value[index_right])\n",
    "            QR = QR/QR.sum()\n",
    "            f = estimator.tree_.feature[i]\n",
    "            [th, ql, qr, left, right] = threshold_selection(Xtarget,ytarget,np.array(P[i]),f,QL,QR,C)\n",
    "            thresh[i] = th\n",
    "            P[index_left] = left\n",
    "            P[index_right] = right\n",
    "            if(len(left)!=0):\n",
    "                remain = np.append(remain,index_left)\n",
    "            if(len(right)!=0):\n",
    "                remain = np.append(remain,index_right)\n",
    "        remain = remain[1:]\n",
    "    return [thresh,P]"
   ]
  },
  {
   "cell_type": "code",
   "execution_count": 592,
   "metadata": {
    "collapsed": false
   },
   "outputs": [
    {
     "name": "stdout",
     "output_type": "stream",
     "text": [
      "[0]\n",
      "27500\n"
     ]
    },
    {
     "data": {
      "image/png": "[encoded data removed]",
      "text/plain": [
       "<matplotlib.figure.Figure at 0x1101c6590>"
      ]
     },
     "metadata": {},
     "output_type": "display_data"
    },
    {
     "name": "stdout",
     "output_type": "stream",
     "text": [
      "[1 2]\n",
      "9306\n"
     ]
    },
    {
     "data": {
      "image/png": "[encoded data removed]",
      "text/plain": [
       "<matplotlib.figure.Figure at 0x11330ef50>"
      ]
     },
     "metadata": {},
     "output_type": "display_data"
    },
    {
     "name": "stdout",
     "output_type": "stream",
     "text": [
      "[2 3 4]\n",
      "[3 4]\n",
      "[4]\n"
     ]
    }
   ],
   "source": [
    "estimator = DecisionTreeClassifier(max_features='sqrt',max_leaf_nodes=2,random_state=0)\n",
    "estimator = estimator.fit(Xsource, ysource)\n",
    "[thresh,P] = STRUCT(Xsource,ysource,Xsource,ysource,10)"
   ]
  },
  {
   "cell_type": "code",
   "execution_count": 590,
   "metadata": {
    "collapsed": false
   },
   "outputs": [
    {
     "name": "stdout",
     "output_type": "stream",
     "text": [
      "[409  -2  -2]\n",
      "[  1.96078443e-03  -2.00000000e+00  -2.00000000e+00]\n",
      "[ 0.00392157  0.00392157  0.          0.          0.        ]\n"
     ]
    }
   ],
   "source": [
    "print estimator.tree_.feature\n",
    "print estimator.tree_.threshold\n",
    "print thresh"
   ]
  },
  {
   "cell_type": "code",
   "execution_count": 544,
   "metadata": {
    "collapsed": false
   },
   "outputs": [
    {
     "name": "stdout",
     "output_type": "stream",
     "text": [
      "Extracting ../MNIST_data/train-images-idx3-ubyte.gz\n",
      "Extracting ../MNIST_data/train-labels-idx1-ubyte.gz\n",
      "Extracting ../MNIST_data/t10k-images-idx3-ubyte.gz\n",
      "Extracting ../MNIST_data/t10k-labels-idx1-ubyte.gz\n",
      "(55000, 784)\n",
      "(10000, 784)\n",
      "(27500, 784)\n",
      "(27500, 784)\n"
     ]
    }
   ],
   "source": [
    "from sklearn.datasets import make_classification\n",
    "from sklearn.cross_validation import train_test_split\n",
    "import numpy as np\n",
    "from __future__ import division\n",
    "from sklearn.ensemble import RandomForestClassifier\n",
    "from sklearn.tree import DecisionTreeClassifier\n",
    "from tensorflow.examples.tutorials.mnist import input_data\n",
    "mnist = input_data.read_data_sets(\"../MNIST_data/\", one_hot=False)\n",
    "Xtrain = mnist.train.images\n",
    "Xtest = mnist.test.images\n",
    "ytrain = mnist.train.labels\n",
    "ytest = mnist.test.labels\n",
    "Xsource, Xtarget, ysource, ytarget = train_test_split(Xtrain, ytrain, test_size=0.5)\n",
    "print Xtrain.shape\n",
    "print Xtest.shape\n",
    "print Xsource.shape\n",
    "print Xtarget.shape\n",
    "XT1,XT2,yT1,yT2 = train_test_split(Xtarget,ytarget,test_size=0.5)"
   ]
  },
  {
   "cell_type": "code",
   "execution_count": null,
   "metadata": {
    "collapsed": true
   },
   "outputs": [],
   "source": []
  }
 ],
 "metadata": {
  "kernelspec": {
   "display_name": "Python 2",
   "language": "python",
   "name": "python2"
  },
  "language_info": {
   "codemirror_mode": {
    "name": "ipython",
    "version": 2
   },
   "file_extension": ".py",
   "mimetype": "text/x-python",
   "name": "python",
   "nbconvert_exporter": "python",
   "pygments_lexer": "ipython2",
   "version": "2.7.10"
  }
 },
 "nbformat": 4,
 "nbformat_minor": 0
}
