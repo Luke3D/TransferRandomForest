{
 "cells": [
  {
   "cell_type": "markdown",
   "metadata": {},
   "source": [
    "## Implementing binary decision trees with real valued features\n",
    "**Multi class supported - Classes IDs are 0 through C**"
   ]
  },
  {
   "cell_type": "code",
   "execution_count": 1,
   "metadata": {
    "collapsed": false,
    "scrolled": false
   },
   "outputs": [],
   "source": [
    "from sklearn.datasets import make_classification\n",
    "from sklearn.cross_validation import train_test_split\n",
    "import numpy as np\n",
    "import matplotlib.pyplot as plt\n",
    "%matplotlib inline\n",
    "from __future__ import division"
   ]
  },
  {
   "cell_type": "code",
   "execution_count": 2,
   "metadata": {
    "collapsed": true
   },
   "outputs": [],
   "source": [
    "%load_ext line_profiler"
   ]
  },
  {
   "cell_type": "code",
   "execution_count": 10,
   "metadata": {
    "collapsed": false
   },
   "outputs": [
    {
     "name": "stdout",
     "output_type": "stream",
     "text": [
      "\n",
      "*** Profile printout saved to text file u'speed_bestsplit.txt'. \n"
     ]
    }
   ],
   "source": [
    "%lprun -s -f best_splitting_feature -T speed_bestsplit.txt best_splitting_feature(Xtrain[0:100,0:28],ytrain[0:100],Nbins=100)"
   ]
  },
  {
   "cell_type": "markdown",
   "metadata": {},
   "source": [
    "### Decision Tree functions"
   ]
  },
  {
   "cell_type": "code",
   "execution_count": 3,
   "metadata": {
    "collapsed": true
   },
   "outputs": [],
   "source": [
    "def intermediate_node_num_mistakes(labels_in_node):\n",
    "    \n",
    "    # Corner case: If labels_in_node is empty, return 0\n",
    "    if len(labels_in_node) == 0:\n",
    "        return 0\n",
    "    \n",
    "    C,unique_counts = np.unique(labels_in_node,return_counts=True) #the id of classes and number of each\n",
    "    \n",
    "    return (len(labels_in_node) - unique_counts[np.argmax(unique_counts)])\n",
    "\n",
    "\n",
    "def reached_minimum_node_size(y, min_node_size):\n",
    "    # Return True if the number of data points is less than or equal to the minimum node size.\n",
    "    if y.shape[0] <= min_node_size:\n",
    "        #print y.shape[0]\n",
    "        return True\n",
    "\n",
    "    \n",
    "# X matrix of features (p datapoints x N features)\n",
    "# y vector of labels (p x 1)\n",
    "\n",
    "def best_splitting_feature(X, y, Nbins):\n",
    "        \n",
    "    best_feature = None # Keep track of the best feature \n",
    "    best_threshold = None\n",
    "    best_I = -1     # Keep track of the best info gain so far \n",
    "\n",
    "    #the number of data points in the parent node\n",
    "    num_data_points = y.shape[0]\n",
    "    \n",
    "    #the entropy of the parent node\n",
    "    Hy = entropy(y)\n",
    "    \n",
    "    # Loop through each feature to consider splitting on that feature\n",
    "    for feature in range(X.shape[1]):\n",
    "        \n",
    "        fvals = X[:,feature]\n",
    "        fvals = np.sort(fvals)  #sorting the values\n",
    "        if num_data_points > Nbins:            \n",
    "            fvals = fvals[range(0,num_data_points,Nbins)]\n",
    "        \n",
    "        #loop through all values of current feature to find the best split\n",
    "        for threshold in fvals:\n",
    "\n",
    "            # The left split will have all data points where the feature value is smaller than threshold\n",
    "            ind_left = X[:,feature] < threshold\n",
    "            left_split = X[ind_left,feature]  #THIS IS USELESS - NEED TO BE REMOVED!\n",
    "             # The right split will have all data points where the feature value is larger or equal\n",
    "            ind_right = X[:,feature] >= threshold\n",
    "            right_split = X[ind_right,feature]\n",
    "            \n",
    "            #compute info-gain for current feature and threshold split\n",
    "            I = infogain(Hy,len(y),y[ind_left],y[ind_right])\n",
    "            \n",
    "            # If this is the best error we have found so far, store the feature as best_feature\n",
    "            # the threshold as the best threshold and the error as best_error\n",
    "            if I > best_I:\n",
    "                best_feature = feature\n",
    "                best_threshold = threshold\n",
    "                best_I = I\n",
    "        \n",
    "    return best_feature, best_threshold # Return the best feature and threshold\n",
    "\n",
    "\n",
    "def infogain(Hy,Nparent,yleft,yright):\n",
    "    \n",
    "    Nleft = len(yleft)\n",
    "    Nright = len(yright)\n",
    "    \n",
    "    #when one of the splits is empty returns I = 0\n",
    "    if Nleft ==0 or Nright == 0:\n",
    "        I = 0\n",
    "    else:\n",
    "        #compute information gain\n",
    "        I = Hy -( (Nleft/Nparent)*entropy(yleft) + (Nright/Nparent)*entropy(yright) )   \n",
    "\n",
    "    return I\n",
    "\n",
    "\n",
    "#entropy for multiple classes\n",
    "def entropy(y):\n",
    "    C,unique_counts = np.unique(y,return_counts=True) #the id of classes and number of each\n",
    "    Pc = unique_counts/len(y)\n",
    "    H = -(Pc*np.log(Pc)).sum()\n",
    "    return H    \n",
    "\n",
    "\n",
    "def create_leaf(target_values,C):\n",
    "\n",
    "    # Create a leaf node\n",
    "    leaf = {'splitting_feature' : None,\n",
    "            'left' : None,\n",
    "            'right' : None,\n",
    "            'is_leaf': True,\n",
    "            'prediction': None,\n",
    "            'labels_distribution':None                       }   \n",
    "    \n",
    "    # Count the number of data points of each class in the leaf.\n",
    "    C_in_node,unique_counts = np.unique(target_values,return_counts=True) #the id of classes and number of each\n",
    "    leaf['prediction'] = C_in_node[np.argmax(unique_counts)]\n",
    "    \n",
    "    Classes = np.zeros(C)\n",
    "    Classes[C_in_node] = unique_counts/len(target_values)\n",
    "    leaf['labels_distribution'] = Classes\n",
    "    \n",
    "    # Return the leaf node        \n",
    "    return leaf \n",
    "\n",
    "\n",
    "def decision_tree_create(X, y, N_features_to_sample, C, min_node_size, Nbins, Verbose, current_depth = 0, max_depth = 10):\n",
    "    \n",
    "    #randomly sample a subset of features\n",
    "    Nfeatures = X.shape[1]\n",
    "    features = np.random.choice(Nfeatures, N_features_to_sample, replace=False)    \n",
    "    \n",
    "    #select only the features sampled for this run\n",
    "    Xcurrent = X[:,features]\n",
    "    target_values = y\n",
    "\n",
    "    if Verbose == True:\n",
    "        print \"--------------------------------------------------------------------\"\n",
    "        print \"Subtree, depth = %s (%s data points).\" % (current_depth, len(target_values))\n",
    "        print \"Features selected = %s\" % features\n",
    "\n",
    "\n",
    "    # Stopping condition 1\n",
    "    # (Check if there are mistakes at current node, i.e. if the node is pure.)\n",
    "    if intermediate_node_num_mistakes(target_values) == 0:  \n",
    "        if Verbose == True:\n",
    "            print \"No Mistakes at current node - Stopping.\"     \n",
    "        # If not mistakes at current node, make current node a leaf node\n",
    "        return create_leaf(target_values,C)\n",
    "    \n",
    "    #Stopping condition 2: min node size reached\n",
    "    if reached_minimum_node_size(y, min_node_size):\n",
    "        if Verbose == True:\n",
    "            print \"Minimum node size reached - Stopping\"\n",
    "        return create_leaf(y,C)\n",
    "    \n",
    "    # Stopping condition 3: (limit tree depth)\n",
    "    if current_depth >= max_depth:  \n",
    "        if Verbose == True:\n",
    "            print \"Reached maximum depth. Stopping.\"\n",
    "        # If the max tree depth has been reached, make current node a leaf node\n",
    "        return create_leaf(target_values,C)\n",
    "\n",
    "    # Find the best splitting feature and its threshold\n",
    "    splitting_feature,splitting_thres = best_splitting_feature(Xcurrent,y,Nbins)\n",
    "    splitting_feature = features[splitting_feature]\n",
    "    \n",
    "    # Split on the best feature that we found. \n",
    "    ind_left = X[:,splitting_feature] < splitting_thres\n",
    "    left_split = X[ind_left,:]\n",
    "    y_left = y[ind_left]\n",
    "\n",
    "    ind_right = X[:,splitting_feature] >= splitting_thres\n",
    "    right_split = X[ind_right,:]\n",
    "    y_right = y[ind_right]\n",
    "\n",
    "    if Verbose == True:\n",
    "        print \"Split on feature %s. (%s, %s), Threshold = %s\" % (\\\n",
    "        splitting_feature, y_left.shape, y_right.shape, splitting_thres)\n",
    "    \n",
    "    # Create a leaf node if the split is \"perfect\"\n",
    "    if len(y_left) == len(y) or len(y_right) == len(y):\n",
    "        if Verbose == True: \n",
    "            print 'One split empty: Creating Leaf'          \n",
    "        return create_leaf(y,C)  \n",
    "        \n",
    "    # Repeat (recurse) on left and right subtrees\n",
    "    left_tree = decision_tree_create(left_split, y_left, N_features_to_sample, C, min_node_size, Nbins, Verbose, current_depth + 1, max_depth)        \n",
    "    right_tree = decision_tree_create(right_split, y_right, N_features_to_sample, C, min_node_size, Nbins, Verbose, current_depth + 1, max_depth)\n",
    "\n",
    "    return {'is_leaf'          : False, \n",
    "            'prediction'       : None,\n",
    "            'splitting_feature': splitting_feature,\n",
    "            'threshold'        : splitting_thres,\n",
    "            'left'             : left_tree, \n",
    "            'right'            : right_tree,\n",
    "            'labels_distribution': None \n",
    "            \n",
    "            }\n",
    "\n",
    "def count_nodes(tree):\n",
    "    if tree['is_leaf']:\n",
    "        return 1\n",
    "    return 1 + count_nodes(tree['left']) + count_nodes(tree['right'])\n",
    "\n",
    "def count_leaves(tree):\n",
    "    if tree['is_leaf']:\n",
    "        return 1 \n",
    "    return count_leaves(tree['left']) + count_leaves(tree['right'])\n",
    "\n",
    "def classify(tree, x):   \n",
    "    # if the node is a leaf node.\n",
    "    if tree['is_leaf']:\n",
    "        return tree['labels_distribution'] \n",
    "    else:\n",
    "        # split on feature.\n",
    "        val_split_feature = x[tree['splitting_feature']]\n",
    "        if val_split_feature < tree['threshold']:\n",
    "            return classify(tree['left'], x)\n",
    "        else:\n",
    "            return classify(tree['right'],x)\n",
    "        \n",
    "def evaluate_classification_error_tree(tree, X, y):\n",
    "    # Apply the classify(tree, x) to each row in your data\n",
    "    P = map(lambda x: classify(tree,x), X)\n",
    "    prediction = np.argmax(P,axis=1)\n",
    "    # Once you've made the predictions, calculate the classification error and return it\n",
    "    mistakes = sum(prediction != y)\n",
    "    error = mistakes/len(y)\n",
    "    return error"
   ]
  },
  {
   "cell_type": "markdown",
   "metadata": {},
   "source": [
    "### Forest functions"
   ]
  },
  {
   "cell_type": "code",
   "execution_count": 4,
   "metadata": {
    "collapsed": true
   },
   "outputs": [],
   "source": [
    "def forest_create(X,y,ntrees,nvarsample=None, min_node_size = 5, Nbins = 10,max_depth=20):\n",
    "    \n",
    "    if nvarsample == None:\n",
    "        nvarsample = (np.round(np.sqrt(X.shape[1]))).astype(int)\n",
    "        print 'Nfeatures = %s'%nvarsample\n",
    "    \n",
    "    #the number of classes is inferred from the data\n",
    "    C = len(np.unique(y))\n",
    "    \n",
    "    nptrain = X.shape[0] #how many datapoints each tree is trained (same size of X)\n",
    "    RF = []\n",
    "    #for loop creating and training each tree \n",
    "    #bootstrap X to train each tree\n",
    "    for t in range(ntrees):\n",
    "        print 'current trained tree = %s'%t\n",
    "        #create bootstrap training dataset for tree t\n",
    "        indbootstrap = np.random.choice(X.shape[0],nptrain)\n",
    "        Xtree = X[indbootstrap,:]\n",
    "        ytree = y[indbootstrap] \n",
    "        \n",
    "        #train the tree\n",
    "        tree1 = decision_tree_create(Xtree,ytree,nvarsample,C,min_node_size,Nbins,Verbose=False,max_depth = max_depth)\n",
    "        RF.append(tree1)\n",
    "    \n",
    "    print 'Forest Trained!'\n",
    "    return RF\n",
    "    \n",
    "\n",
    "#outputs the posterior prob of each tree and the corresponding class\n",
    "def forest_posterior(RF,x):\n",
    "\n",
    "    T = len(RF)  #the number of trees \n",
    "\n",
    "    #infer the number of classes\n",
    "    P0 = classify(RF[0],x)\n",
    "    C = len(P0)\n",
    "    \n",
    "    Pt = np.zeros((T,C)) #matrix of posteriors from each tree (T x Nclasses)\n",
    "    Pt[0,:] = P0\n",
    "    for t in range(len(RF))[1:]:\n",
    "        Pt[t,:] = classify(RF[t],x) \n",
    "    return Pt\n",
    " \n",
    "    \n",
    "#classify input based on majority voting of each tree prediction\n",
    "def forest_classify_majority(RF,x):\n",
    "        Pt = forest_posterior(RF,x)\n",
    "        Yt = np.argmax(Pt,axis=1)         \n",
    "        C,unique_counts = np.unique(Yt,return_counts=True) #the id of classes and number of each\n",
    "        return C[np.argmax(unique_counts)]   \n",
    "    \n",
    "#classify input by averaging posteriors \n",
    "def forest_classify_ensemble(RF,x):\n",
    "    Pt = forest_posterior(RF,x)\n",
    "    Pforest = Pt.mean(axis=0)\n",
    "    ypred = np.argmax(Pt.mean(axis=0))\n",
    "    return ypred\n",
    "\n",
    "def evaluate_classification_error(RF, X, y, method = None):  \n",
    "    # Apply the forest_classify(RF, x) to each row in your data\n",
    "    if method == None:\n",
    "        ypred = map(lambda x: forest_classify_ensemble(RF,x), X)\n",
    "        # Once you've made the predictions, calculate the classification error and return it\n",
    "        mistakes = sum(ypred != y)\n",
    "        error = mistakes/len(y)\n",
    "    return error"
   ]
  },
  {
   "cell_type": "markdown",
   "metadata": {},
   "source": [
    "### SER Algorithm functions"
   ]
  },
  {
   "cell_type": "code",
   "execution_count": 5,
   "metadata": {
    "collapsed": true
   },
   "outputs": [],
   "source": [
    "#Refine the trained forest on target data using the SER algorithm\n",
    "def forest_SER(RF,XT,yT,C,max_depth=2):\n",
    "\n",
    "    nptrain = len(yT) #how many datapoints each tree is trained (same size of yT)\n",
    "    ntrees = len(RF)\n",
    "    RFnew = []\n",
    "\n",
    "    for t in range(ntrees):\n",
    "        print 'expanding/reducing tree = %s'%t\n",
    "        #Bootstrap XT1 and XT2\n",
    "        indbootstrap1 = np.random.choice(XT.shape[0],nptrain)\n",
    "        indbootstrap2 = np.random.choice(XT.shape[0],nptrain)\n",
    "        XT1 = XT[indbootstrap1,:]\n",
    "        XT2 = XT[indbootstrap2,:]\n",
    "        yT1 = yT[indbootstrap1]\n",
    "        yT2 = yT[indbootstrap2]\n",
    "\n",
    "        treeNew = expansion_reduction(RF[t],XT1,yT1,XT2,yT2,max_depth,C)\n",
    "        RFnew.append(treeNew)\n",
    "        \n",
    "    print 'Forest refined on target data!'\n",
    "    return RFnew\n",
    "\n",
    "\n",
    "# compute the path to the leaf followed by data point x  \n",
    "def datapath(tree, x, branch = 1):   \n",
    "    # if the node is a leaf node.\n",
    "    if tree['is_leaf']:\n",
    "        return branch \n",
    "    else:\n",
    "        # split on feature.\n",
    "        split_feature = tree['splitting_feature']\n",
    "        split_threshold = tree['threshold']\n",
    "\n",
    "        if x[split_feature] < split_threshold:\n",
    "            return datapath(tree['left'], x, 2*branch)\n",
    "        else:\n",
    "            return datapath(tree['right'],x, 2*branch+1)\n",
    "\n",
    "        \n",
    "def expansion_reduction(tree,XT1,yT1,XT2,yT2,max_depth=2,C=-1,min_node_size = 5):\n",
    "\n",
    "    #Tree = tree #a copy of the tree\n",
    "    \n",
    "    #finding the leaf where each target datapoint ends up\n",
    "    leavesData1 = map(lambda x: datapath(tree,x), XT1)\n",
    "    leavesData2 = map(lambda x: datapath(tree,x), XT2)\n",
    "            \n",
    "    Uleaves1 = np.unique(leavesData1)  #the path to each leaf followed by data1\n",
    "    Uleaves2 = np.unique(leavesData2)  #the path to each leaf followed by data2\n",
    "    Uleaves = list(set(Uleaves1) & set(Uleaves2)) #leaves reached by both data1 and data2\n",
    "            \n",
    "    #expanding each leaf on the 1st bootstrap replica of target data\n",
    "    for i in Uleaves:\n",
    "        ind_data1 = leavesData1==i #indices of datapoints for each leaf\n",
    "        #set the current depth of subtree to 1 to prevent inferring the number of classes from the code\n",
    "        Exp_tree = decision_tree_create(XT1[ind_data1,:],yT1[ind_data1],XT1.shape[1], C, min_node_size, Nbins = 10, Verbose = False, current_depth=1,max_depth=max_depth)\n",
    "\n",
    "        #Is this a good expansion?: computes classification error at each leaf for Data T2\n",
    "        ind_data2 = leavesData2==i\n",
    "        Err_leavesT2 = intermediate_node_num_mistakes(yT2[ind_data2])/len(yT2[ind_data2])\n",
    "\n",
    "        #error at the current subtree on Data T2\n",
    "        Err_subtreeT2 = evaluate_classification_error_tree(Exp_tree, XT2[ind_data2], yT2[ind_data2])\n",
    "        \n",
    "        #comparing the error of the subtree with that at the leaf node of the original tree\n",
    "        if Err_subtreeT2 < Err_leavesT2:\n",
    "            tree = mergetrees(tree,i,Exp_tree)\n",
    "            print 'merging successful!'\n",
    "        else:\n",
    "            print 'no merging: discard subtree'\n",
    "    \n",
    "    return tree\n",
    "\n",
    "\n",
    "def mergetrees(tree1,leafnr,tree2):\n",
    "    leafnrbin = bin(leafnr)[3:]  #path is from the 4th element of the binary on: 0 = go left, 1 = go right\n",
    "    path = ''\n",
    "    for i in range(len(leafnrbin)):\n",
    "        if leafnrbin[i] == '0':\n",
    "            path=path+str(\"['left']\")\n",
    "        else:\n",
    "            path=path+str(\"['right']\") \n",
    "    # print(path)\n",
    "    exec ('tree1'+path+\"['prediction']\"+'=None')\n",
    "    exec ('tree1'+path+\"['is_leaf']\"+'=False')\n",
    "    exec ('tree1'+path+\"['left']\"+\"=tree2['left']\")\n",
    "    exec ('tree1'+path+\"['right']\"+\"=tree2['right']\")\n",
    "    exec ('tree1'+path+\"['splitting_feature']\"+\"=tree2['splitting_feature']\")\n",
    "    exec ('tree1'+path+\"['threshold']\"+\"=tree2['threshold']\")\n",
    "    exec ('del(tree1'+path+\"['labels_distribution'])\")\n",
    "    \n",
    "#    print ('tree1'+path+\"['prediction']\"+'=None')\n",
    "#    print ('tree1'+path+\"['is_leaf']\"+'=False')\n",
    "#    print ('tree1'+path+\"['left']\"+\"=tree2['left']\")\n",
    "#    print ('tree1'+path+\"['right']\"+\"=tree2['right']\")\n",
    "#    print ('tree1'+path+\"['splitting_feature']\"+\"=tree2['splitting_feature']\")\n",
    "    \n",
    "    #print('tree1'+path+'=tree2')\n",
    "    return tree1"
   ]
  },
  {
   "cell_type": "markdown",
   "metadata": {},
   "source": [
    "### Generate a fake dataset "
   ]
  },
  {
   "cell_type": "code",
   "execution_count": 18,
   "metadata": {
    "collapsed": false
   },
   "outputs": [
    {
     "data": {
      "text/plain": [
       "array([0, 1, 2])"
      ]
     },
     "execution_count": 18,
     "metadata": {},
     "output_type": "execute_result"
    }
   ],
   "source": [
    "#artificial training dataset\n",
    "Xtrain = np.random.rand(1000,10)\n",
    "y = np.ones(1000).astype(int)\n",
    "y[(Xtrain[:,0] < 0.25)] = 0\n",
    "y[(Xtrain[:,1] > 0.55)] = 2\n",
    "np.unique(y)"
   ]
  },
  {
   "cell_type": "markdown",
   "metadata": {},
   "source": [
    "### A linearly separable dataset"
   ]
  },
  {
   "cell_type": "code",
   "execution_count": 9,
   "metadata": {
    "collapsed": true
   },
   "outputs": [],
   "source": [
    "Xtrain = np.random.rand(1000,10)\n",
    "y = np.ones(1000).astype(int)\n",
    "y[(Xtrain[:,0]+Xtrain[:,1]+Xtrain[:,2] < 1)] = 0\n",
    "y[(Xtrain[:,0]+3*Xtrain[:,2] >= 1.5)] = 2\n",
    "y[(1.5*Xtrain[:,0]-2*Xtrain[:,1]+Xtrain[:,2] < 1)] = 3"
   ]
  },
  {
   "cell_type": "markdown",
   "metadata": {},
   "source": [
    "### Another fake dataset with more features"
   ]
  },
  {
   "cell_type": "code",
   "execution_count": 506,
   "metadata": {
    "collapsed": false
   },
   "outputs": [
    {
     "name": "stdout",
     "output_type": "stream",
     "text": [
      "(2000, 10)\n",
      "[0 1]\n",
      "[-1  1]\n"
     ]
    }
   ],
   "source": [
    "X,y = make_classification(n_samples=2000,n_features=10,n_informative=5,n_classes=2)\n",
    "print X.shape\n",
    "print np.unique(y) #original labels are 0 and 1\n",
    "ind = y==0\n",
    "y[ind] = -1\n",
    "print np.unique(y)"
   ]
  },
  {
   "cell_type": "markdown",
   "metadata": {},
   "source": [
    "### The MNIST dataset"
   ]
  },
  {
   "cell_type": "code",
   "execution_count": 6,
   "metadata": {
    "collapsed": false,
    "scrolled": false
   },
   "outputs": [
    {
     "name": "stdout",
     "output_type": "stream",
     "text": [
      "Extracting ../MNIST_data/train-images-idx3-ubyte.gz\n",
      "Extracting ../MNIST_data/train-labels-idx1-ubyte.gz\n",
      "Extracting ../MNIST_data/t10k-images-idx3-ubyte.gz\n",
      "Extracting ../MNIST_data/t10k-labels-idx1-ubyte.gz\n"
     ]
    }
   ],
   "source": [
    "from tensorflow.examples.tutorials.mnist import input_data\n",
    "mnist = input_data.read_data_sets(\"../MNIST_data/\", one_hot=False)"
   ]
  },
  {
   "cell_type": "code",
   "execution_count": 7,
   "metadata": {
    "collapsed": false
   },
   "outputs": [
    {
     "data": {
      "text/plain": [
       "<matplotlib.image.AxesImage at 0x1029def10>"
      ]
     },
     "execution_count": 7,
     "metadata": {},
     "output_type": "execute_result"
    },
    {
     "data": {
      "image/png": "[encoded data removed]",
      "text/plain": [
       "<matplotlib.figure.Figure at 0x10b9c2cd0>"
      ]
     },
     "metadata": {},
     "output_type": "display_data"
    }
   ],
   "source": [
    "#plot one MNIST datapoint\n",
    "xtest = mnist.test.images[22,:]\n",
    "xtest = xtest.reshape(28,28)\n",
    "plt.imshow(xtest,'gray')"
   ]
  },
  {
   "cell_type": "markdown",
   "metadata": {},
   "source": [
    "## using test as train and train as test to make it faster (need to change later!)"
   ]
  },
  {
   "cell_type": "code",
   "execution_count": 8,
   "metadata": {
    "collapsed": false
   },
   "outputs": [
    {
     "name": "stdout",
     "output_type": "stream",
     "text": [
      "(10000, 784)\n",
      "(55000, 784)\n",
      "(10000,)\n",
      "[0 1 2 3 4 5 6 7 8 9]\n"
     ]
    }
   ],
   "source": [
    "Xtest = mnist.train.images\n",
    "Xtrain = mnist.test.images\n",
    "ytest = mnist.train.labels\n",
    "ytrain = mnist.test.labels\n",
    "print Xtrain.shape\n",
    "print Xtest.shape\n",
    "print ytrain.shape\n",
    "print np.unique(ytrain)"
   ]
  },
  {
   "cell_type": "markdown",
   "metadata": {},
   "source": [
    "## Train-test split + Split test data into target1 (for expansion) and target2 (for reduction)"
   ]
  },
  {
   "cell_type": "code",
   "execution_count": 8,
   "metadata": {
    "collapsed": false
   },
   "outputs": [
    {
     "name": "stdout",
     "output_type": "stream",
     "text": [
      "(7000,)\n",
      "(3000,)\n"
     ]
    }
   ],
   "source": [
    "Xsource, Xtarget, ysource, ytarget = train_test_split(Xtrain, ytrain, test_size=0.3)\n",
    "print ysource.shape\n",
    "print ytarget.shape"
   ]
  },
  {
   "cell_type": "markdown",
   "metadata": {},
   "source": [
    "### Now we can train on our version of random forest to compare the accuracy"
   ]
  },
  {
   "cell_type": "code",
   "execution_count": 9,
   "metadata": {
    "collapsed": false
   },
   "outputs": [
    {
     "name": "stdout",
     "output_type": "stream",
     "text": [
      "Nfeatures = 28\n",
      "current trained tree = 0\n",
      "current trained tree = 1\n",
      "current trained tree = 2\n",
      "Forest Trained!\n"
     ]
    }
   ],
   "source": [
    "RF_MNIST = forest_create(Xsource,ysource,3,max_depth=20)"
   ]
  },
  {
   "cell_type": "code",
   "execution_count": 10,
   "metadata": {
    "collapsed": false
   },
   "outputs": [
    {
     "data": {
      "text/plain": [
       "0.21909090909090909"
      ]
     },
     "execution_count": 10,
     "metadata": {},
     "output_type": "execute_result"
    }
   ],
   "source": [
    "evaluate_classification_error(RF_MNIST,Xtest,ytest)"
   ]
  },
  {
   "cell_type": "markdown",
   "metadata": {},
   "source": [
    "### Expand the forest on the target data"
   ]
  },
  {
   "cell_type": "code",
   "execution_count": 11,
   "metadata": {
    "collapsed": false
   },
   "outputs": [
    {
     "data": {
      "text/plain": [
       "885"
      ]
     },
     "execution_count": 11,
     "metadata": {},
     "output_type": "execute_result"
    }
   ],
   "source": [
    "count_leaves(RF_MNIST[0])"
   ]
  },
  {
   "cell_type": "code",
   "execution_count": 12,
   "metadata": {
    "collapsed": false
   },
   "outputs": [
    {
     "data": {
      "text/plain": [
       "0.3186181818181818"
      ]
     },
     "execution_count": 12,
     "metadata": {},
     "output_type": "execute_result"
    }
   ],
   "source": [
    "evaluate_classification_error_tree(RF_MNIST[0],Xtest,ytest)\n"
   ]
  },
  {
   "cell_type": "code",
   "execution_count": 121,
   "metadata": {
    "collapsed": false
   },
   "outputs": [
    {
     "name": "stdout",
     "output_type": "stream",
     "text": [
      "expanding/reducing tree = 0\n",
      "no merging: discard subtree\n",
      "no merging: discard subtree\n",
      "no merging: discard subtree\n",
      "no merging: discard subtree\n",
      "no merging: discard subtree\n",
      "no merging: discard subtree\n",
      "no merging: discard subtree\n",
      "merging successful!\n",
      "merging successful!\n",
      "merging successful!\n",
      "no merging: discard subtree\n",
      "merging successful!\n",
      "no merging: discard subtree\n",
      "merging successful!\n",
      "no merging: discard subtree\n",
      "no merging: discard subtree\n",
      "no merging: discard subtree\n",
      "no merging: discard subtree\n",
      "merging successful!\n",
      "no merging: discard subtree\n",
      "merging successful!\n",
      "no merging: discard subtree\n",
      "no merging: discard subtree\n",
      "no merging: discard subtree\n",
      "merging successful!\n",
      "no merging: discard subtree\n",
      "merging successful!\n",
      "no merging: discard subtree\n",
      "no merging: discard subtree\n",
      "no merging: discard subtree\n",
      "merging successful!\n",
      "no merging: discard subtree\n",
      "merging successful!\n",
      "merging successful!\n",
      "no merging: discard subtree\n",
      "no merging: discard subtree\n",
      "merging successful!\n",
      "no merging: discard subtree\n",
      "no merging: discard subtree\n",
      "merging successful!\n",
      "no merging: discard subtree\n",
      "merging successful!\n",
      "no merging: discard subtree\n",
      "no merging: discard subtree\n",
      "merging successful!\n",
      "merging successful!\n",
      "no merging: discard subtree\n",
      "merging successful!\n",
      "merging successful!\n",
      "merging successful!\n",
      "no merging: discard subtree\n",
      "no merging: discard subtree\n",
      "no merging: discard subtree\n",
      "no merging: discard subtree\n",
      "merging successful!\n",
      "merging successful!\n",
      "merging successful!\n",
      "merging successful!\n",
      "no merging: discard subtree\n",
      "merging successful!\n",
      "merging successful!\n",
      "no merging: discard subtree\n",
      "merging successful!\n",
      "merging successful!\n",
      "no merging: discard subtree\n",
      "no merging: discard subtree\n",
      "no merging: discard subtree\n",
      "no merging: discard subtree\n",
      "no merging: discard subtree\n",
      "no merging: discard subtree\n",
      "no merging: discard subtree\n",
      "no merging: discard subtree\n",
      "no merging: discard subtree\n",
      "no merging: discard subtree\n",
      "no merging: discard subtree\n",
      "no merging: discard subtree\n",
      "no merging: discard subtree\n",
      "no merging: discard subtree\n",
      "no merging: discard subtree\n",
      "no merging: discard subtree\n",
      "no merging: discard subtree\n",
      "no merging: discard subtree\n",
      "no merging: discard subtree\n",
      "no merging: discard subtree\n",
      "no merging: discard subtree\n",
      "no merging: discard subtree\n",
      "no merging: discard subtree\n",
      "no merging: discard subtree\n",
      "no merging: discard subtree\n",
      "no merging: discard subtree\n",
      "no merging: discard subtree\n",
      "no merging: discard subtree\n",
      "merging successful!\n",
      "no merging: discard subtree\n",
      "merging successful!\n",
      "no merging: discard subtree\n",
      "no merging: discard subtree\n",
      "merging successful!\n",
      "merging successful!\n",
      "merging successful!\n",
      "no merging: discard subtree\n",
      "merging successful!\n",
      "merging successful!\n",
      "no merging: discard subtree\n",
      "no merging: discard subtree\n",
      "merging successful!\n",
      "merging successful!\n",
      "no merging: discard subtree\n",
      "merging successful!\n",
      "merging successful!\n",
      "merging successful!\n",
      "no merging: discard subtree\n",
      "no merging: discard subtree\n",
      "no merging: discard subtree\n",
      "merging successful!\n",
      "no merging: discard subtree\n",
      "no merging: discard subtree\n",
      "no merging: discard subtree\n",
      "merging successful!\n",
      "no merging: discard subtree\n",
      "no merging: discard subtree\n",
      "no merging: discard subtree\n",
      "no merging: discard subtree\n",
      "no merging: discard subtree\n",
      "no merging: discard subtree\n",
      "no merging: discard subtree\n",
      "merging successful!\n",
      "no merging: discard subtree\n",
      "no merging: discard subtree\n",
      "no merging: discard subtree\n",
      "no merging: discard subtree\n",
      "no merging: discard subtree\n",
      "no merging: discard subtree\n",
      "no merging: discard subtree\n",
      "no merging: discard subtree\n",
      "no merging: discard subtree\n",
      "no merging: discard subtree\n",
      "merging successful!\n",
      "no merging: discard subtree\n",
      "no merging: discard subtree\n",
      "no merging: discard subtree\n",
      "merging successful!\n",
      "no merging: discard subtree\n",
      "no merging: discard subtree\n",
      "merging successful!\n",
      "no merging: discard subtree\n",
      "merging successful!\n",
      "merging successful!\n",
      "merging successful!\n",
      "merging successful!\n",
      "merging successful!\n",
      "no merging: discard subtree\n",
      "no merging: discard subtree\n",
      "merging successful!\n",
      "merging successful!\n",
      "merging successful!\n",
      "no merging: discard subtree\n",
      "no merging: discard subtree\n",
      "no merging: discard subtree\n",
      "merging successful!\n",
      "no merging: discard subtree\n",
      "merging successful!\n",
      "no merging: discard subtree\n",
      "no merging: discard subtree\n",
      "no merging: discard subtree\n",
      "no merging: discard subtree\n",
      "merging successful!\n",
      "no merging: discard subtree\n",
      "merging successful!\n",
      "merging successful!\n",
      "merging successful!\n",
      "no merging: discard subtree\n",
      "no merging: discard subtree\n",
      "no merging: discard subtree\n",
      "merging successful!\n",
      "merging successful!\n",
      "no merging: discard subtree\n",
      "no merging: discard subtree\n",
      "merging successful!\n",
      "no merging: discard subtree\n",
      "merging successful!\n",
      "no merging: discard subtree\n",
      "merging successful!\n",
      "merging successful!\n",
      "no merging: discard subtree\n",
      "no merging: discard subtree\n",
      "no merging: discard subtree\n",
      "no merging: discard subtree\n",
      "no merging: discard subtree\n",
      "no merging: discard subtree\n",
      "merging successful!\n",
      "merging successful!\n",
      "no merging: discard subtree\n",
      "no merging: discard subtree\n",
      "no merging: discard subtree\n",
      "no merging: discard subtree\n",
      "merging successful!\n",
      "no merging: discard subtree\n",
      "no merging: discard subtree\n",
      "merging successful!\n",
      "expanding/reducing tree = 1\n",
      "no merging: discard subtree\n",
      "no merging: discard subtree\n",
      "no merging: discard subtree\n",
      "no merging: discard subtree\n",
      "no merging: discard subtree\n",
      "no merging: discard subtree\n",
      "no merging: discard subtree\n",
      "merging successful!\n",
      "merging successful!\n",
      "merging successful!\n",
      "merging successful!\n",
      "merging successful!\n",
      "no merging: discard subtree\n",
      "no merging: discard subtree\n",
      "no merging: discard subtree\n",
      "merging successful!\n",
      "merging successful!\n",
      "no merging: discard subtree\n",
      "no merging: discard subtree\n",
      "merging successful!\n",
      "merging successful!\n",
      "no merging: discard subtree\n",
      "merging successful!\n",
      "merging successful!\n",
      "no merging: discard subtree\n",
      "no merging: discard subtree\n",
      "no merging: discard subtree\n",
      "merging successful!\n",
      "merging successful!\n",
      "merging successful!\n",
      "no merging: discard subtree\n",
      "merging successful!\n",
      "merging successful!\n",
      "no merging: discard subtree\n",
      "no merging: discard subtree\n",
      "merging successful!\n",
      "no merging: discard subtree\n",
      "no merging: discard subtree\n",
      "no merging: discard subtree\n",
      "merging successful!\n",
      "no merging: discard subtree\n",
      "merging successful!\n",
      "merging successful!\n",
      "no merging: discard subtree\n",
      "merging successful!\n",
      "no merging: discard subtree\n",
      "no merging: discard subtree\n",
      "merging successful!\n",
      "no merging: discard subtree\n",
      "no merging: discard subtree\n",
      "no merging: discard subtree\n",
      "no merging: discard subtree\n",
      "no merging: discard subtree\n",
      "merging successful!\n",
      "merging successful!\n",
      "merging successful!\n",
      "merging successful!\n",
      "merging successful!\n",
      "no merging: discard subtree\n",
      "merging successful!\n",
      "merging successful!\n",
      "merging successful!\n",
      "no merging: discard subtree\n",
      "merging successful!\n",
      "no merging: discard subtree\n",
      "no merging: discard subtree\n",
      "no merging: discard subtree\n",
      "no merging: discard subtree\n",
      "merging successful!\n",
      "merging successful!\n",
      "merging successful!\n",
      "no merging: discard subtree\n",
      "merging successful!\n",
      "no merging: discard subtree\n",
      "no merging: discard subtree\n",
      "no merging: discard subtree\n",
      "merging successful!\n",
      "no merging: discard subtree\n",
      "no merging: discard subtree\n",
      "no merging: discard subtree\n",
      "merging successful!\n",
      "no merging: discard subtree\n",
      "merging successful!\n",
      "no merging: discard subtree\n",
      "merging successful!\n",
      "no merging: discard subtree\n",
      "no merging: discard subtree\n",
      "no merging: discard subtree\n",
      "no merging: discard subtree\n",
      "no merging: discard subtree\n",
      "no merging: discard subtree\n",
      "no merging: discard subtree\n",
      "no merging: discard subtree\n",
      "no merging: discard subtree\n",
      "merging successful!\n",
      "merging successful!\n",
      "no merging: discard subtree\n",
      "no merging: discard subtree\n",
      "no merging: discard subtree\n",
      "merging successful!\n",
      "no merging: discard subtree\n",
      "no merging: discard subtree\n",
      "no merging: discard subtree\n",
      "no merging: discard subtree\n",
      "no merging: discard subtree\n",
      "no merging: discard subtree\n",
      "merging successful!\n",
      "merging successful!\n",
      "no merging: discard subtree\n",
      "no merging: discard subtree\n",
      "no merging: discard subtree\n",
      "merging successful!\n",
      "merging successful!\n",
      "no merging: discard subtree\n",
      "no merging: discard subtree\n",
      "no merging: discard subtree\n",
      "merging successful!\n",
      "no merging: discard subtree\n",
      "no merging: discard subtree\n",
      "merging successful!\n",
      "no merging: discard subtree\n",
      "no merging: discard subtree\n",
      "no merging: discard subtree\n",
      "merging successful!\n",
      "no merging: discard subtree\n",
      "no merging: discard subtree\n",
      "no merging: discard subtree\n",
      "no merging: discard subtree\n",
      "no merging: discard subtree\n",
      "no merging: discard subtree\n",
      "merging successful!\n",
      "merging successful!\n",
      "merging successful!\n",
      "merging successful!\n",
      "no merging: discard subtree\n",
      "merging successful!\n",
      "merging successful!\n",
      "no merging: discard subtree\n",
      "no merging: discard subtree\n",
      "no merging: discard subtree\n",
      "merging successful!\n",
      "no merging: discard subtree\n",
      "merging successful!\n",
      "no merging: discard subtree\n",
      "merging successful!\n",
      "no merging: discard subtree\n",
      "no merging: discard subtree\n",
      "no merging: discard subtree\n",
      "no merging: discard subtree\n",
      "no merging: discard subtree\n",
      "no merging: discard subtree\n",
      "no merging: discard subtree\n",
      "no merging: discard subtree\n",
      "no merging: discard subtree\n",
      "no merging: discard subtree\n",
      "no merging: discard subtree\n",
      "no merging: discard subtree\n",
      "no merging: discard subtree\n",
      "merging successful!\n",
      "merging successful!\n",
      "no merging: discard subtree\n",
      "no merging: discard subtree\n",
      "no merging: discard subtree\n",
      "no merging: discard subtree\n",
      "no merging: discard subtree\n",
      "no merging: discard subtree\n",
      "no merging: discard subtree\n",
      "no merging: discard subtree\n",
      "no merging: discard subtree\n",
      "no merging: discard subtree\n",
      "merging successful!\n",
      "merging successful!\n",
      "merging successful!\n",
      "no merging: discard subtree\n",
      "no merging: discard subtree\n",
      "no merging: discard subtree\n",
      "no merging: discard subtree\n",
      "no merging: discard subtree\n",
      "no merging: discard subtree\n",
      "no merging: discard subtree\n",
      "merging successful!\n",
      "no merging: discard subtree\n",
      "merging successful!\n",
      "no merging: discard subtree\n",
      "no merging: discard subtree\n",
      "merging successful!\n",
      "no merging: discard subtree\n",
      "merging successful!\n",
      "no merging: discard subtree\n",
      "no merging: discard subtree\n",
      "no merging: discard subtree\n",
      "merging successful!\n",
      "no merging: discard subtree\n",
      "no merging: discard subtree\n",
      "no merging: discard subtree\n",
      "no merging: discard subtree\n",
      "no merging: discard subtree\n",
      "no merging: discard subtree\n",
      "expanding/reducing tree = 2\n",
      "no merging: discard subtree\n",
      "no merging: discard subtree\n",
      "merging successful!\n",
      "no merging: discard subtree\n",
      "no merging: discard subtree\n",
      "no merging: discard subtree\n",
      "no merging: discard subtree\n",
      "no merging: discard subtree\n",
      "no merging: discard subtree\n",
      "no merging: discard subtree\n",
      "no merging: discard subtree\n",
      "merging successful!\n",
      "merging successful!\n",
      "merging successful!\n",
      "merging successful!\n",
      "no merging: discard subtree\n",
      "merging successful!\n",
      "merging successful!\n",
      "no merging: discard subtree\n",
      "no merging: discard subtree\n",
      "no merging: discard subtree\n",
      "no merging: discard subtree\n",
      "no merging: discard subtree\n",
      "no merging: discard subtree\n",
      "no merging: discard subtree\n",
      "no merging: discard subtree\n",
      "no merging: discard subtree\n",
      "no merging: discard subtree\n",
      "no merging: discard subtree\n",
      "no merging: discard subtree\n",
      "no merging: discard subtree\n",
      "no merging: discard subtree\n",
      "merging successful!\n",
      "no merging: discard subtree\n",
      "no merging: discard subtree\n",
      "no merging: discard subtree\n",
      "no merging: discard subtree\n",
      "no merging: discard subtree\n",
      "merging successful!\n",
      "merging successful!\n",
      "no merging: discard subtree\n",
      "merging successful!\n",
      "no merging: discard subtree\n",
      "no merging: discard subtree\n",
      "no merging: discard subtree\n",
      "no merging: discard subtree\n",
      "no merging: discard subtree\n",
      "merging successful!\n",
      "no merging: discard subtree\n",
      "no merging: discard subtree\n",
      "no merging: discard subtree\n",
      "no merging: discard subtree\n",
      "no merging: discard subtree\n",
      "no merging: discard subtree\n",
      "no merging: discard subtree\n",
      "merging successful!\n",
      "merging successful!\n",
      "merging successful!\n",
      "merging successful!\n",
      "no merging: discard subtree\n",
      "merging successful!\n",
      "merging successful!\n",
      "no merging: discard subtree\n",
      "no merging: discard subtree\n",
      "merging successful!\n",
      "no merging: discard subtree\n",
      "merging successful!\n",
      "no merging: discard subtree\n",
      "no merging: discard subtree\n",
      "no merging: discard subtree\n",
      "no merging: discard subtree\n",
      "no merging: discard subtree\n",
      "no merging: discard subtree\n",
      "no merging: discard subtree\n",
      "no merging: discard subtree\n",
      "merging successful!\n",
      "merging successful!\n",
      "merging successful!\n",
      "no merging: discard subtree\n",
      "merging successful!\n",
      "no merging: discard subtree\n",
      "merging successful!\n",
      "no merging: discard subtree\n",
      "no merging: discard subtree\n",
      "no merging: discard subtree\n",
      "no merging: discard subtree\n",
      "no merging: discard subtree\n",
      "merging successful!\n",
      "no merging: discard subtree\n",
      "merging successful!\n",
      "no merging: discard subtree\n",
      "merging successful!\n",
      "no merging: discard subtree\n",
      "no merging: discard subtree\n",
      "merging successful!\n",
      "no merging: discard subtree\n",
      "merging successful!\n",
      "merging successful!\n",
      "no merging: discard subtree\n",
      "no merging: discard subtree\n",
      "merging successful!\n",
      "merging successful!\n",
      "merging successful!\n",
      "merging successful!\n",
      "no merging: discard subtree\n",
      "merging successful!\n",
      "merging successful!\n",
      "no merging: discard subtree\n",
      "no merging: discard subtree\n",
      "merging successful!\n",
      "no merging: discard subtree\n",
      "merging successful!\n",
      "no merging: discard subtree\n",
      "merging successful!\n",
      "merging successful!\n",
      "merging successful!\n",
      "no merging: discard subtree\n",
      "merging successful!\n",
      "no merging: discard subtree\n",
      "no merging: discard subtree\n",
      "merging successful!\n",
      "merging successful!\n",
      "merging successful!\n",
      "merging successful!\n",
      "no merging: discard subtree\n",
      "merging successful!\n",
      "merging successful!\n",
      "merging successful!\n",
      "merging successful!\n",
      "no merging: discard subtree\n",
      "merging successful!\n",
      "no merging: discard subtree\n",
      "merging successful!\n",
      "merging successful!\n",
      "no merging: discard subtree\n",
      "no merging: discard subtree\n",
      "no merging: discard subtree\n",
      "no merging: discard subtree\n",
      "no merging: discard subtree\n",
      "no merging: discard subtree\n",
      "no merging: discard subtree\n",
      "merging successful!\n",
      "no merging: discard subtree\n",
      "merging successful!\n",
      "no merging: discard subtree\n",
      "no merging: discard subtree\n",
      "no merging: discard subtree\n",
      "no merging: discard subtree\n",
      "no merging: discard subtree\n",
      "merging successful!\n",
      "no merging: discard subtree\n",
      "no merging: discard subtree\n",
      "merging successful!\n",
      "no merging: discard subtree\n",
      "merging successful!\n",
      "no merging: discard subtree\n",
      "merging successful!\n",
      "no merging: discard subtree\n",
      "merging successful!\n",
      "merging successful!\n",
      "no merging: discard subtree\n",
      "no merging: discard subtree\n",
      "no merging: discard subtree\n",
      "no merging: discard subtree\n",
      "no merging: discard subtree\n",
      "merging successful!\n",
      "no merging: discard subtree\n",
      "no merging: discard subtree\n",
      "no merging: discard subtree\n",
      "no merging: discard subtree\n",
      "no merging: discard subtree\n",
      "no merging: discard subtree\n",
      "no merging: discard subtree\n",
      "merging successful!\n",
      "no merging: discard subtree\n",
      "no merging: discard subtree\n",
      "no merging: discard subtree\n",
      "merging successful!\n",
      "no merging: discard subtree\n",
      "merging successful!\n",
      "merging successful!\n",
      "merging successful!\n",
      "no merging: discard subtree\n",
      "no merging: discard subtree\n",
      "no merging: discard subtree\n",
      "no merging: discard subtree\n",
      "merging successful!\n",
      "no merging: discard subtree\n",
      "no merging: discard subtree\n",
      "merging successful!\n",
      "merging successful!\n",
      "merging successful!\n",
      "merging successful!\n",
      "no merging: discard subtree\n",
      "no merging: discard subtree\n",
      "no merging: discard subtree\n",
      "merging successful!\n",
      "merging successful!\n",
      "no merging: discard subtree\n",
      "Forest refined on target data!\n"
     ]
    }
   ],
   "source": [
    "new_RF = forest_SER(RF_MNIST,Xtarget,ytarget,C=10,max_depth=5)"
   ]
  },
  {
   "cell_type": "code",
   "execution_count": 127,
   "metadata": {
    "collapsed": false
   },
   "outputs": [
    {
     "data": {
      "text/plain": [
       "423"
      ]
     },
     "execution_count": 127,
     "metadata": {},
     "output_type": "execute_result"
    }
   ],
   "source": [
    "count_leaves(new_RF[0])"
   ]
  },
  {
   "cell_type": "code",
   "execution_count": 128,
   "metadata": {
    "collapsed": false
   },
   "outputs": [
    {
     "data": {
      "text/plain": [
       "55000"
      ]
     },
     "execution_count": 128,
     "metadata": {},
     "output_type": "execute_result"
    }
   ],
   "source": [
    "len(ytest)"
   ]
  },
  {
   "cell_type": "code",
   "execution_count": 124,
   "metadata": {
    "collapsed": false
   },
   "outputs": [
    {
     "data": {
      "text/plain": [
       "0.23961818181818181"
      ]
     },
     "execution_count": 124,
     "metadata": {},
     "output_type": "execute_result"
    }
   ],
   "source": [
    "evaluate_classification_error(new_RF,Xtest,ytest)"
   ]
  },
  {
   "cell_type": "code",
   "execution_count": null,
   "metadata": {
    "collapsed": true
   },
   "outputs": [],
   "source": []
  },
  {
   "cell_type": "markdown",
   "metadata": {},
   "source": [
    "### Let's test the Random forest classifier from Scikit learn"
   ]
  },
  {
   "cell_type": "code",
   "execution_count": 39,
   "metadata": {
    "collapsed": true
   },
   "outputs": [],
   "source": [
    "from sklearn.ensemble import RandomForestClassifier\n",
    "\n",
    "clf = RandomForestClassifier(n_estimators=10)\n",
    "clf = clf.fit(Xsource, ysource)"
   ]
  },
  {
   "cell_type": "code",
   "execution_count": 40,
   "metadata": {
    "collapsed": true
   },
   "outputs": [],
   "source": [
    "ypred = clf.predict(Xtest)"
   ]
  },
  {
   "cell_type": "code",
   "execution_count": 41,
   "metadata": {
    "collapsed": false
   },
   "outputs": [
    {
     "name": "stdout",
     "output_type": "stream",
     "text": [
      "0.104509090909\n"
     ]
    }
   ],
   "source": [
    "mistakes = sum(ypred != ytest)\n",
    "error = mistakes/len(ytest)\n",
    "print error"
   ]
  },
  {
   "cell_type": "code",
   "execution_count": null,
   "metadata": {
    "collapsed": true
   },
   "outputs": [],
   "source": []
  }
 ],
 "metadata": {
  "kernelspec": {
   "display_name": "Python 2",
   "language": "python",
   "name": "python2"
  },
  "language_info": {
   "codemirror_mode": {
    "name": "ipython",
    "version": 2
   },
   "file_extension": ".py",
   "mimetype": "text/x-python",
   "name": "python",
   "nbconvert_exporter": "python",
   "pygments_lexer": "ipython2",
   "version": "2.7.11"
  }
 },
 "nbformat": 4,
 "nbformat_minor": 0
}
