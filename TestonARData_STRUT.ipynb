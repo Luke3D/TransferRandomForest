{
 "cells": [
  {
   "cell_type": "code",
   "execution_count": 9,
   "metadata": {
    "collapsed": false
   },
   "outputs": [],
   "source": [
    "#import STRUTfuncs"
   ]
  },
  {
   "cell_type": "code",
   "execution_count": 1,
   "metadata": {
    "collapsed": false
   },
   "outputs": [
    {
     "name": "stderr",
     "output_type": "stream",
     "text": [
      "A newer version of GraphLab Create (v2.1) is available! Your current version is v2.0.1.\n",
      "You can use pip to upgrade the graphlab-create package. For more information see https://turi.com/products/create/upgrade.\n",
      "[INFO] graphlab.cython.cy_server: GraphLab Create v2.0.1 started. Logging: /tmp/graphlab_server_1470072376.log\n"
     ]
    },
    {
     "name": "stdout",
     "output_type": "stream",
     "text": [
      "This non-commercial license of GraphLab Create for academic use is assigned to llonini@ricres.org and will expire on November 11, 2016.\n"
     ]
    }
   ],
   "source": [
    "from __future__ import division\n",
    "import numpy as np\n",
    "from sklearn.datasets import make_classification\n",
    "from sklearn.cross_validation import train_test_split\n",
    "from sklearn.metrics import confusion_matrix\n",
    "from sklearn.ensemble import RandomForestClassifier\n",
    "from sklearn.tree import DecisionTreeClassifier\n",
    "import matplotlib.pyplot as plt\n",
    "%matplotlib inline\n",
    "import graphlab\n",
    "%load_ext line_profiler"
   ]
  },
  {
   "cell_type": "code",
   "execution_count": 2,
   "metadata": {
    "collapsed": false
   },
   "outputs": [
    {
     "data": {
      "text/html": [
       "<pre>Finished parsing file /Users/luca/Projects/Datasets/Cbrace/HealthyData.csv</pre>"
      ],
      "text/plain": [
       "Finished parsing file /Users/luca/Projects/Datasets/Cbrace/HealthyData.csv"
      ]
     },
     "metadata": {},
     "output_type": "display_data"
    },
    {
     "data": {
      "text/html": [
       "<pre>Parsing completed. Parsed 100 lines in 0.341684 secs.</pre>"
      ],
      "text/plain": [
       "Parsing completed. Parsed 100 lines in 0.341684 secs."
      ]
     },
     "metadata": {},
     "output_type": "display_data"
    },
    {
     "name": "stdout",
     "output_type": "stream",
     "text": [
      "------------------------------------------------------\n",
      "Inferred types from first 100 line(s) of file as \n",
      "column_type_hints=[int,int,float,float,float,int,int,int,int,float,float,float,float,float,float,float,float,float,float,int,int,int,int,float,float,float,float,float,float,float,float,float,float,int,int,int,int,float,float,float,float,float,float,float,float,float,float,float,float,float,float,float,float,float,float,float,float,float,float,float,float,float,float,float,float,float,float,float,float,float,float,float,float,float,float,float,float,float,float,float,float,float,float,float,float,float,float,float,float,float,float,float,float,float,float,float,float,float,float,float,float,float,float,float,float,float,float,float,float,float,float,float,float,float,float,float,float,float,float,float,float,float,float,float,float,float,float,float,float,float,float,float,float,int]\n",
      "If parsing fails due to incorrect types, you can correct\n",
      "the inferred type list above and pass it to read_csv in\n",
      "the column_type_hints argument\n",
      "------------------------------------------------------\n"
     ]
    },
    {
     "data": {
      "text/html": [
       "<pre>Finished parsing file /Users/luca/Projects/Datasets/Cbrace/HealthyData.csv</pre>"
      ],
      "text/plain": [
       "Finished parsing file /Users/luca/Projects/Datasets/Cbrace/HealthyData.csv"
      ]
     },
     "metadata": {},
     "output_type": "display_data"
    },
    {
     "data": {
      "text/html": [
       "<pre>Parsing completed. Parsed 8375 lines in 0.432928 secs.</pre>"
      ],
      "text/plain": [
       "Parsing completed. Parsed 8375 lines in 0.432928 secs."
      ]
     },
     "metadata": {},
     "output_type": "display_data"
    },
    {
     "data": {
      "text/html": [
       "<pre>Finished parsing file /Users/luca/Projects/Datasets/Cbrace/PatientCBRData.csv</pre>"
      ],
      "text/plain": [
       "Finished parsing file /Users/luca/Projects/Datasets/Cbrace/PatientCBRData.csv"
      ]
     },
     "metadata": {},
     "output_type": "display_data"
    },
    {
     "data": {
      "text/html": [
       "<pre>Parsing completed. Parsed 100 lines in 0.74515 secs.</pre>"
      ],
      "text/plain": [
       "Parsing completed. Parsed 100 lines in 0.74515 secs."
      ]
     },
     "metadata": {},
     "output_type": "display_data"
    },
    {
     "name": "stdout",
     "output_type": "stream",
     "text": [
      "------------------------------------------------------\n",
      "Inferred types from first 100 line(s) of file as \n",
      "column_type_hints=[int,int,float,float,float,int,int,int,int,float,float,float,float,float,float,float,float,float,float,int,int,int,int,float,float,float,float,float,float,float,float,float,float,int,int,int,int,float,float,float,float,float,float,float,float,float,float,float,float,float,float,float,float,float,float,float,float,float,float,float,float,float,float,float,float,float,float,float,float,float,float,float,float,float,float,float,float,float,float,float,float,float,float,float,float,float,float,float,float,float,float,float,float,float,float,float,float,float,float,float,float,float,float,float,float,float,float,float,float,float,float,float,float,float,float,float,float,float,float,float,float,float,float,float,float,float,float,float,float,float,float,float,float,int]\n",
      "If parsing fails due to incorrect types, you can correct\n",
      "the inferred type list above and pass it to read_csv in\n",
      "the column_type_hints argument\n",
      "------------------------------------------------------\n"
     ]
    },
    {
     "data": {
      "text/html": [
       "<pre>Finished parsing file /Users/luca/Projects/Datasets/Cbrace/PatientCBRData.csv</pre>"
      ],
      "text/plain": [
       "Finished parsing file /Users/luca/Projects/Datasets/Cbrace/PatientCBRData.csv"
      ]
     },
     "metadata": {},
     "output_type": "display_data"
    },
    {
     "data": {
      "text/html": [
       "<pre>Parsing completed. Parsed 22354 lines in 1.35955 secs.</pre>"
      ],
      "text/plain": [
       "Parsing completed. Parsed 22354 lines in 1.35955 secs."
      ]
     },
     "metadata": {},
     "output_type": "display_data"
    },
    {
     "data": {
      "text/html": [
       "<pre>Finished parsing file /Users/luca/Projects/Datasets/Cbrace/PatientSCOData.csv</pre>"
      ],
      "text/plain": [
       "Finished parsing file /Users/luca/Projects/Datasets/Cbrace/PatientSCOData.csv"
      ]
     },
     "metadata": {},
     "output_type": "display_data"
    },
    {
     "data": {
      "text/html": [
       "<pre>Parsing completed. Parsed 100 lines in 0.806208 secs.</pre>"
      ],
      "text/plain": [
       "Parsing completed. Parsed 100 lines in 0.806208 secs."
      ]
     },
     "metadata": {},
     "output_type": "display_data"
    },
    {
     "name": "stdout",
     "output_type": "stream",
     "text": [
      "------------------------------------------------------\n",
      "Inferred types from first 100 line(s) of file as \n",
      "column_type_hints=[int,int,float,float,float,int,int,int,int,float,float,float,float,float,float,float,float,float,float,int,int,int,int,float,float,float,float,float,float,float,float,float,float,int,int,int,int,float,float,float,float,float,float,float,float,float,float,float,float,float,float,float,float,float,float,float,float,float,float,float,float,float,float,float,float,float,float,float,float,float,float,float,float,float,float,float,float,float,float,float,float,float,float,float,float,float,float,float,float,float,float,float,float,float,float,float,float,float,float,float,float,float,float,float,float,float,float,float,float,float,float,float,float,float,float,float,float,float,float,float,float,float,float,float,float,float,float,float,float,float,float,float,float,int]\n",
      "If parsing fails due to incorrect types, you can correct\n",
      "the inferred type list above and pass it to read_csv in\n",
      "the column_type_hints argument\n",
      "------------------------------------------------------\n"
     ]
    },
    {
     "data": {
      "text/html": [
       "<pre>Finished parsing file /Users/luca/Projects/Datasets/Cbrace/PatientSCOData.csv</pre>"
      ],
      "text/plain": [
       "Finished parsing file /Users/luca/Projects/Datasets/Cbrace/PatientSCOData.csv"
      ]
     },
     "metadata": {},
     "output_type": "display_data"
    },
    {
     "data": {
      "text/html": [
       "<pre>Parsing completed. Parsed 18762 lines in 1.06463 secs.</pre>"
      ],
      "text/plain": [
       "Parsing completed. Parsed 18762 lines in 1.06463 secs."
      ]
     },
     "metadata": {},
     "output_type": "display_data"
    }
   ],
   "source": [
    "HealthyData = graphlab.SFrame.read_csv('../Datasets/Cbrace/HealthyData.csv')\n",
    "CBRData = graphlab.SFrame.read_csv('../Datasets/Cbrace/PatientCBRData.csv')\n",
    "SCOData = graphlab.SFrame.read_csv('../Datasets/Cbrace/PatientSCOData.csv')"
   ]
  },
  {
   "cell_type": "code",
   "execution_count": 3,
   "metadata": {
    "collapsed": false
   },
   "outputs": [
    {
     "data": {
      "text/html": [
       "<div style=\"max-height:1000px;max-width:1500px;overflow:auto;\"><table frame=\"box\" rules=\"cols\">\n",
       "    <tr>\n",
       "        <th style=\"padding-left: 1em; padding-right: 1em; text-align: center\">SubjID</th>\n",
       "        <th style=\"padding-left: 1em; padding-right: 1em; text-align: center\">Session</th>\n",
       "        <th style=\"padding-left: 1em; padding-right: 1em; text-align: center\">Features_  1</th>\n",
       "        <th style=\"padding-left: 1em; padding-right: 1em; text-align: center\">Features_  2</th>\n",
       "        <th style=\"padding-left: 1em; padding-right: 1em; text-align: center\">Features_  3</th>\n",
       "        <th style=\"padding-left: 1em; padding-right: 1em; text-align: center\">Features_  4</th>\n",
       "        <th style=\"padding-left: 1em; padding-right: 1em; text-align: center\">Features_  5</th>\n",
       "        <th style=\"padding-left: 1em; padding-right: 1em; text-align: center\">Features_  6</th>\n",
       "        <th style=\"padding-left: 1em; padding-right: 1em; text-align: center\">Features_  7</th>\n",
       "    </tr>\n",
       "    <tr>\n",
       "        <td style=\"padding-left: 1em; padding-right: 1em; text-align: center; vertical-align: top\">1</td>\n",
       "        <td style=\"padding-left: 1em; padding-right: 1em; text-align: center; vertical-align: top\">1</td>\n",
       "        <td style=\"padding-left: 1em; padding-right: 1em; text-align: center; vertical-align: top\">0.051382320442</td>\n",
       "        <td style=\"padding-left: 1em; padding-right: 1em; text-align: center; vertical-align: top\">0.6076</td>\n",
       "        <td style=\"padding-left: 1em; padding-right: 1em; text-align: center; vertical-align: top\">0.196</td>\n",
       "        <td style=\"padding-left: 1em; padding-right: 1em; text-align: center; vertical-align: top\">0</td>\n",
       "        <td style=\"padding-left: 1em; padding-right: 1em; text-align: center; vertical-align: top\">181</td>\n",
       "        <td style=\"padding-left: 1em; padding-right: 1em; text-align: center; vertical-align: top\">0</td>\n",
       "        <td style=\"padding-left: 1em; padding-right: 1em; text-align: center; vertical-align: top\">0</td>\n",
       "    </tr>\n",
       "    <tr>\n",
       "        <td style=\"padding-left: 1em; padding-right: 1em; text-align: center; vertical-align: top\">1</td>\n",
       "        <td style=\"padding-left: 1em; padding-right: 1em; text-align: center; vertical-align: top\">1</td>\n",
       "        <td style=\"padding-left: 1em; padding-right: 1em; text-align: center; vertical-align: top\">0.0253933701657</td>\n",
       "        <td style=\"padding-left: 1em; padding-right: 1em; text-align: center; vertical-align: top\">0.6076</td>\n",
       "        <td style=\"padding-left: 1em; padding-right: 1em; text-align: center; vertical-align: top\">0.1176</td>\n",
       "        <td style=\"padding-left: 1em; padding-right: 1em; text-align: center; vertical-align: top\">0</td>\n",
       "        <td style=\"padding-left: 1em; padding-right: 1em; text-align: center; vertical-align: top\">178</td>\n",
       "        <td style=\"padding-left: 1em; padding-right: 1em; text-align: center; vertical-align: top\">3</td>\n",
       "        <td style=\"padding-left: 1em; padding-right: 1em; text-align: center; vertical-align: top\">0</td>\n",
       "    </tr>\n",
       "    <tr>\n",
       "        <td style=\"padding-left: 1em; padding-right: 1em; text-align: center; vertical-align: top\">1</td>\n",
       "        <td style=\"padding-left: 1em; padding-right: 1em; text-align: center; vertical-align: top\">1</td>\n",
       "        <td style=\"padding-left: 1em; padding-right: 1em; text-align: center; vertical-align: top\">0.0248519337017</td>\n",
       "        <td style=\"padding-left: 1em; padding-right: 1em; text-align: center; vertical-align: top\">0.49</td>\n",
       "        <td style=\"padding-left: 1em; padding-right: 1em; text-align: center; vertical-align: top\">0.1176</td>\n",
       "        <td style=\"padding-left: 1em; padding-right: 1em; text-align: center; vertical-align: top\">0</td>\n",
       "        <td style=\"padding-left: 1em; padding-right: 1em; text-align: center; vertical-align: top\">181</td>\n",
       "        <td style=\"padding-left: 1em; padding-right: 1em; text-align: center; vertical-align: top\">0</td>\n",
       "        <td style=\"padding-left: 1em; padding-right: 1em; text-align: center; vertical-align: top\">0</td>\n",
       "    </tr>\n",
       "    <tr>\n",
       "        <td style=\"padding-left: 1em; padding-right: 1em; text-align: center; vertical-align: top\">1</td>\n",
       "        <td style=\"padding-left: 1em; padding-right: 1em; text-align: center; vertical-align: top\">1</td>\n",
       "        <td style=\"padding-left: 1em; padding-right: 1em; text-align: center; vertical-align: top\">0.0465635359116</td>\n",
       "        <td style=\"padding-left: 1em; padding-right: 1em; text-align: center; vertical-align: top\">0.3136</td>\n",
       "        <td style=\"padding-left: 1em; padding-right: 1em; text-align: center; vertical-align: top\">0.0784</td>\n",
       "        <td style=\"padding-left: 1em; padding-right: 1em; text-align: center; vertical-align: top\">0</td>\n",
       "        <td style=\"padding-left: 1em; padding-right: 1em; text-align: center; vertical-align: top\">181</td>\n",
       "        <td style=\"padding-left: 1em; padding-right: 1em; text-align: center; vertical-align: top\">0</td>\n",
       "        <td style=\"padding-left: 1em; padding-right: 1em; text-align: center; vertical-align: top\">0</td>\n",
       "    </tr>\n",
       "    <tr>\n",
       "        <td style=\"padding-left: 1em; padding-right: 1em; text-align: center; vertical-align: top\">1</td>\n",
       "        <td style=\"padding-left: 1em; padding-right: 1em; text-align: center; vertical-align: top\">1</td>\n",
       "        <td style=\"padding-left: 1em; padding-right: 1em; text-align: center; vertical-align: top\">0.0781834254144</td>\n",
       "        <td style=\"padding-left: 1em; padding-right: 1em; text-align: center; vertical-align: top\">0.2352</td>\n",
       "        <td style=\"padding-left: 1em; padding-right: 1em; text-align: center; vertical-align: top\">0.0784</td>\n",
       "        <td style=\"padding-left: 1em; padding-right: 1em; text-align: center; vertical-align: top\">56</td>\n",
       "        <td style=\"padding-left: 1em; padding-right: 1em; text-align: center; vertical-align: top\">0</td>\n",
       "        <td style=\"padding-left: 1em; padding-right: 1em; text-align: center; vertical-align: top\">0</td>\n",
       "        <td style=\"padding-left: 1em; padding-right: 1em; text-align: center; vertical-align: top\">0</td>\n",
       "    </tr>\n",
       "</table>\n",
       "<table frame=\"box\" rules=\"cols\">\n",
       "    <tr>\n",
       "        <th style=\"padding-left: 1em; padding-right: 1em; text-align: center\">Features_  8</th>\n",
       "        <th style=\"padding-left: 1em; padding-right: 1em; text-align: center\">Features_  9</th>\n",
       "        <th style=\"padding-left: 1em; padding-right: 1em; text-align: center\">Features_ 10</th>\n",
       "        <th style=\"padding-left: 1em; padding-right: 1em; text-align: center\">Features_ 11</th>\n",
       "        <th style=\"padding-left: 1em; padding-right: 1em; text-align: center\">Features_ 12</th>\n",
       "        <th style=\"padding-left: 1em; padding-right: 1em; text-align: center\">Features_ 13</th>\n",
       "    </tr>\n",
       "    <tr>\n",
       "        <td style=\"padding-left: 1em; padding-right: 1em; text-align: center; vertical-align: top\">0.112454267826</td>\n",
       "        <td style=\"padding-left: 1em; padding-right: 1em; text-align: center; vertical-align: top\">-0.294668590342</td>\n",
       "        <td style=\"padding-left: 1em; padding-right: 1em; text-align: center; vertical-align: top\">2.38556796968</td>\n",
       "        <td style=\"padding-left: 1em; padding-right: 1em; text-align: center; vertical-align: top\">-0.000653333333333</td>\n",
       "        <td style=\"padding-left: 1em; padding-right: 1em; text-align: center; vertical-align: top\">0.072657333349</td>\n",
       "        <td style=\"padding-left: 1em; padding-right: 1em; text-align: center; vertical-align: top\">0.181289226345</td>\n",
       "    </tr>\n",
       "    <tr>\n",
       "        <td style=\"padding-left: 1em; padding-right: 1em; text-align: center; vertical-align: top\">0.0983200079119</td>\n",
       "        <td style=\"padding-left: 1em; padding-right: 1em; text-align: center; vertical-align: top\">0.0523105353163</td>\n",
       "        <td style=\"padding-left: 1em; padding-right: 1em; text-align: center; vertical-align: top\">3.41100727695</td>\n",
       "        <td style=\"padding-left: 1em; padding-right: 1em; text-align: center; vertical-align: top\">-0.000435555555556</td>\n",
       "        <td style=\"padding-left: 1em; padding-right: 1em; text-align: center; vertical-align: top\">0.0780695955254</td>\n",
       "        <td style=\"padding-left: 1em; padding-right: 1em; text-align: center; vertical-align: top\">0.180121837472</td>\n",
       "    </tr>\n",
       "    <tr>\n",
       "        <td style=\"padding-left: 1em; padding-right: 1em; text-align: center; vertical-align: top\">0.0841222692085</td>\n",
       "        <td style=\"padding-left: 1em; padding-right: 1em; text-align: center; vertical-align: top\">-0.592549758023</td>\n",
       "        <td style=\"padding-left: 1em; padding-right: 1em; text-align: center; vertical-align: top\">3.41421963842</td>\n",
       "        <td style=\"padding-left: 1em; padding-right: 1em; text-align: center; vertical-align: top\">0.000653333333333</td>\n",
       "        <td style=\"padding-left: 1em; padding-right: 1em; text-align: center; vertical-align: top\">0.0698793552525</td>\n",
       "        <td style=\"padding-left: 1em; padding-right: 1em; text-align: center; vertical-align: top\">0.24648779524</td>\n",
       "    </tr>\n",
       "    <tr>\n",
       "        <td style=\"padding-left: 1em; padding-right: 1em; text-align: center; vertical-align: top\">0.0654386480834</td>\n",
       "        <td style=\"padding-left: 1em; padding-right: 1em; text-align: center; vertical-align: top\">-1.01056633159</td>\n",
       "        <td style=\"padding-left: 1em; padding-right: 1em; text-align: center; vertical-align: top\">3.65404790008</td>\n",
       "        <td style=\"padding-left: 1em; padding-right: 1em; text-align: center; vertical-align: top\">0.000217777777778</td>\n",
       "        <td style=\"padding-left: 1em; padding-right: 1em; text-align: center; vertical-align: top\">0.0504932952633</td>\n",
       "        <td style=\"padding-left: 1em; padding-right: 1em; text-align: center; vertical-align: top\">0.225561487781</td>\n",
       "    </tr>\n",
       "    <tr>\n",
       "        <td style=\"padding-left: 1em; padding-right: 1em; text-align: center; vertical-align: top\">0.0375305142722</td>\n",
       "        <td style=\"padding-left: 1em; padding-right: 1em; text-align: center; vertical-align: top\">-0.712656990085</td>\n",
       "        <td style=\"padding-left: 1em; padding-right: 1em; text-align: center; vertical-align: top\">4.19196004385</td>\n",
       "        <td style=\"padding-left: 1em; padding-right: 1em; text-align: center; vertical-align: top\">0.000217777777778</td>\n",
       "        <td style=\"padding-left: 1em; padding-right: 1em; text-align: center; vertical-align: top\">0.0415385735192</td>\n",
       "        <td style=\"padding-left: 1em; padding-right: 1em; text-align: center; vertical-align: top\">0.130183600125</td>\n",
       "    </tr>\n",
       "</table>\n",
       "<table frame=\"box\" rules=\"cols\">\n",
       "    <tr>\n",
       "        <th style=\"padding-left: 1em; padding-right: 1em; text-align: center\">Features_ 14</th>\n",
       "        <th style=\"padding-left: 1em; padding-right: 1em; text-align: center\">Features_ 15</th>\n",
       "        <th style=\"padding-left: 1em; padding-right: 1em; text-align: center\">Features_ 16</th>\n",
       "        <th style=\"padding-left: 1em; padding-right: 1em; text-align: center\">Features_ 17</th>\n",
       "        <th style=\"padding-left: 1em; padding-right: 1em; text-align: center\">Features_ 18</th>\n",
       "        <th style=\"padding-left: 1em; padding-right: 1em; text-align: center\">Features_ 19</th>\n",
       "        <th style=\"padding-left: 1em; padding-right: 1em; text-align: center\">Features_ 20</th>\n",
       "        <th style=\"padding-left: 1em; padding-right: 1em; text-align: center\">Features_ 21</th>\n",
       "    </tr>\n",
       "    <tr>\n",
       "        <td style=\"padding-left: 1em; padding-right: 1em; text-align: center; vertical-align: top\">4.849714754</td>\n",
       "        <td style=\"padding-left: 1em; padding-right: 1em; text-align: center; vertical-align: top\">7.08929834254</td>\n",
       "        <td style=\"padding-left: 1em; padding-right: 1em; text-align: center; vertical-align: top\">0.7644</td>\n",
       "        <td style=\"padding-left: 1em; padding-right: 1em; text-align: center; vertical-align: top\">0.539</td>\n",
       "        <td style=\"padding-left: 1em; padding-right: 1em; text-align: center; vertical-align: top\">0</td>\n",
       "        <td style=\"padding-left: 1em; padding-right: 1em; text-align: center; vertical-align: top\">0</td>\n",
       "        <td style=\"padding-left: 1em; padding-right: 1em; text-align: center; vertical-align: top\">0</td>\n",
       "        <td style=\"padding-left: 1em; padding-right: 1em; text-align: center; vertical-align: top\">0</td>\n",
       "    </tr>\n",
       "    <tr>\n",
       "        <td style=\"padding-left: 1em; padding-right: 1em; text-align: center; vertical-align: top\">3.89013448447</td>\n",
       "        <td style=\"padding-left: 1em; padding-right: 1em; text-align: center; vertical-align: top\">6.99232707182</td>\n",
       "        <td style=\"padding-left: 1em; padding-right: 1em; text-align: center; vertical-align: top\">0.7644</td>\n",
       "        <td style=\"padding-left: 1em; padding-right: 1em; text-align: center; vertical-align: top\">0.1568</td>\n",
       "        <td style=\"padding-left: 1em; padding-right: 1em; text-align: center; vertical-align: top\">0</td>\n",
       "        <td style=\"padding-left: 1em; padding-right: 1em; text-align: center; vertical-align: top\">0</td>\n",
       "        <td style=\"padding-left: 1em; padding-right: 1em; text-align: center; vertical-align: top\">0</td>\n",
       "        <td style=\"padding-left: 1em; padding-right: 1em; text-align: center; vertical-align: top\">0</td>\n",
       "    </tr>\n",
       "    <tr>\n",
       "        <td style=\"padding-left: 1em; padding-right: 1em; text-align: center; vertical-align: top\">4.91346159405</td>\n",
       "        <td style=\"padding-left: 1em; padding-right: 1em; text-align: center; vertical-align: top\">6.98496353591</td>\n",
       "        <td style=\"padding-left: 1em; padding-right: 1em; text-align: center; vertical-align: top\">0.49</td>\n",
       "        <td style=\"padding-left: 1em; padding-right: 1em; text-align: center; vertical-align: top\">0.1176</td>\n",
       "        <td style=\"padding-left: 1em; padding-right: 1em; text-align: center; vertical-align: top\">0</td>\n",
       "        <td style=\"padding-left: 1em; padding-right: 1em; text-align: center; vertical-align: top\">0</td>\n",
       "        <td style=\"padding-left: 1em; padding-right: 1em; text-align: center; vertical-align: top\">0</td>\n",
       "        <td style=\"padding-left: 1em; padding-right: 1em; text-align: center; vertical-align: top\">0</td>\n",
       "    </tr>\n",
       "    <tr>\n",
       "        <td style=\"padding-left: 1em; padding-right: 1em; text-align: center; vertical-align: top\">4.15285973332</td>\n",
       "        <td style=\"padding-left: 1em; padding-right: 1em; text-align: center; vertical-align: top\">7.01284751381</td>\n",
       "        <td style=\"padding-left: 1em; padding-right: 1em; text-align: center; vertical-align: top\">0.3136</td>\n",
       "        <td style=\"padding-left: 1em; padding-right: 1em; text-align: center; vertical-align: top\">0.0392</td>\n",
       "        <td style=\"padding-left: 1em; padding-right: 1em; text-align: center; vertical-align: top\">0</td>\n",
       "        <td style=\"padding-left: 1em; padding-right: 1em; text-align: center; vertical-align: top\">0</td>\n",
       "        <td style=\"padding-left: 1em; padding-right: 1em; text-align: center; vertical-align: top\">0</td>\n",
       "        <td style=\"padding-left: 1em; padding-right: 1em; text-align: center; vertical-align: top\">0</td>\n",
       "    </tr>\n",
       "    <tr>\n",
       "        <td style=\"padding-left: 1em; padding-right: 1em; text-align: center; vertical-align: top\">4.15415404049</td>\n",
       "        <td style=\"padding-left: 1em; padding-right: 1em; text-align: center; vertical-align: top\">7.03970276243</td>\n",
       "        <td style=\"padding-left: 1em; padding-right: 1em; text-align: center; vertical-align: top\">0.2352</td>\n",
       "        <td style=\"padding-left: 1em; padding-right: 1em; text-align: center; vertical-align: top\">0.0784</td>\n",
       "        <td style=\"padding-left: 1em; padding-right: 1em; text-align: center; vertical-align: top\">0</td>\n",
       "        <td style=\"padding-left: 1em; padding-right: 1em; text-align: center; vertical-align: top\">0</td>\n",
       "        <td style=\"padding-left: 1em; padding-right: 1em; text-align: center; vertical-align: top\">0</td>\n",
       "        <td style=\"padding-left: 1em; padding-right: 1em; text-align: center; vertical-align: top\">0</td>\n",
       "    </tr>\n",
       "</table>\n",
       "<table frame=\"box\" rules=\"cols\">\n",
       "    <tr>\n",
       "        <th style=\"padding-left: 1em; padding-right: 1em; text-align: center\">Features_ 22</th>\n",
       "        <th style=\"padding-left: 1em; padding-right: 1em; text-align: center\">Features_ 23</th>\n",
       "        <th style=\"padding-left: 1em; padding-right: 1em; text-align: center\">Features_ 24</th>\n",
       "        <th style=\"padding-left: 1em; padding-right: 1em; text-align: center\">Features_ 25</th>\n",
       "        <th style=\"padding-left: 1em; padding-right: 1em; text-align: center\">Features_ 26</th>\n",
       "        <th style=\"padding-left: 1em; padding-right: 1em; text-align: center\">Features_ 27</th>\n",
       "    </tr>\n",
       "    <tr>\n",
       "        <td style=\"padding-left: 1em; padding-right: 1em; text-align: center; vertical-align: top\">0.252559348905</td>\n",
       "        <td style=\"padding-left: 1em; padding-right: 1em; text-align: center; vertical-align: top\">0.441806399998</td>\n",
       "        <td style=\"padding-left: 1em; padding-right: 1em; text-align: center; vertical-align: top\">1.50225147456</td>\n",
       "        <td style=\"padding-left: 1em; padding-right: 1em; text-align: center; vertical-align: top\">-0.00234111111111</td>\n",
       "        <td style=\"padding-left: 1em; padding-right: 1em; text-align: center; vertical-align: top\">0.0614360391284</td>\n",
       "        <td style=\"padding-left: 1em; padding-right: 1em; text-align: center; vertical-align: top\">-0.350425643783</td>\n",
       "    </tr>\n",
       "    <tr>\n",
       "        <td style=\"padding-left: 1em; padding-right: 1em; text-align: center; vertical-align: top\">0.163775773499</td>\n",
       "        <td style=\"padding-left: 1em; padding-right: 1em; text-align: center; vertical-align: top\">1.35066706204</td>\n",
       "        <td style=\"padding-left: 1em; padding-right: 1em; text-align: center; vertical-align: top\">4.8748955425</td>\n",
       "        <td style=\"padding-left: 1em; padding-right: 1em; text-align: center; vertical-align: top\">-0.00190555555556</td>\n",
       "        <td style=\"padding-left: 1em; padding-right: 1em; text-align: center; vertical-align: top\">0.0682046491004</td>\n",
       "        <td style=\"padding-left: 1em; padding-right: 1em; text-align: center; vertical-align: top\">-0.272877559768</td>\n",
       "    </tr>\n",
       "    <tr>\n",
       "        <td style=\"padding-left: 1em; padding-right: 1em; text-align: center; vertical-align: top\">0.0861118742405</td>\n",
       "        <td style=\"padding-left: 1em; padding-right: 1em; text-align: center; vertical-align: top\">-0.935385885979</td>\n",
       "        <td style=\"padding-left: 1em; padding-right: 1em; text-align: center; vertical-align: top\">4.09906709893</td>\n",
       "        <td style=\"padding-left: 1em; padding-right: 1em; text-align: center; vertical-align: top\">0.0</td>\n",
       "        <td style=\"padding-left: 1em; padding-right: 1em; text-align: center; vertical-align: top\">0.061650817028</td>\n",
       "        <td style=\"padding-left: 1em; padding-right: 1em; text-align: center; vertical-align: top\">0.00567046879142</td>\n",
       "    </tr>\n",
       "    <tr>\n",
       "        <td style=\"padding-left: 1em; padding-right: 1em; text-align: center; vertical-align: top\">0.0628676683988</td>\n",
       "        <td style=\"padding-left: 1em; padding-right: 1em; text-align: center; vertical-align: top\">-0.924831026921</td>\n",
       "        <td style=\"padding-left: 1em; padding-right: 1em; text-align: center; vertical-align: top\">3.34203744561</td>\n",
       "        <td style=\"padding-left: 1em; padding-right: 1em; text-align: center; vertical-align: top\">0.000653333333333</td>\n",
       "        <td style=\"padding-left: 1em; padding-right: 1em; text-align: center; vertical-align: top\">0.048583233193</td>\n",
       "        <td style=\"padding-left: 1em; padding-right: 1em; text-align: center; vertical-align: top\">-0.20819575962</td>\n",
       "    </tr>\n",
       "    <tr>\n",
       "        <td style=\"padding-left: 1em; padding-right: 1em; text-align: center; vertical-align: top\">0.0370766090247</td>\n",
       "        <td style=\"padding-left: 1em; padding-right: 1em; text-align: center; vertical-align: top\">-0.613014026838</td>\n",
       "        <td style=\"padding-left: 1em; padding-right: 1em; text-align: center; vertical-align: top\">3.89219892908</td>\n",
       "        <td style=\"padding-left: 1em; padding-right: 1em; text-align: center; vertical-align: top\">0.000217777777778</td>\n",
       "        <td style=\"padding-left: 1em; padding-right: 1em; text-align: center; vertical-align: top\">0.0429608801596</td>\n",
       "        <td style=\"padding-left: 1em; padding-right: 1em; text-align: center; vertical-align: top\">-0.164208050896</td>\n",
       "    </tr>\n",
       "</table>\n",
       "<table frame=\"box\" rules=\"cols\">\n",
       "    <tr>\n",
       "        <th style=\"padding-left: 1em; padding-right: 1em; text-align: center\">Features_ 28</th>\n",
       "        <th style=\"padding-left: 1em; padding-right: 1em; text-align: center\">Features_ 29</th>\n",
       "        <th style=\"padding-left: 1em; padding-right: 1em; text-align: center\">Features_ 30</th>\n",
       "        <th style=\"padding-left: 1em; padding-right: 1em; text-align: center\">Features_ 31</th>\n",
       "        <th style=\"padding-left: 1em; padding-right: 1em; text-align: center\">Features_ 32</th>\n",
       "        <th style=\"padding-left: 1em; padding-right: 1em; text-align: center\">Features_ 33</th>\n",
       "        <th style=\"padding-left: 1em; padding-right: 1em; text-align: center\">Features_ 34</th>\n",
       "        <th style=\"padding-left: 1em; padding-right: 1em; text-align: center\">Features_ 35</th>\n",
       "    </tr>\n",
       "    <tr>\n",
       "        <td style=\"padding-left: 1em; padding-right: 1em; text-align: center; vertical-align: top\">5.98909461353</td>\n",
       "        <td style=\"padding-left: 1em; padding-right: 1em; text-align: center; vertical-align: top\">8.27022541436</td>\n",
       "        <td style=\"padding-left: 1em; padding-right: 1em; text-align: center; vertical-align: top\">0.8428</td>\n",
       "        <td style=\"padding-left: 1em; padding-right: 1em; text-align: center; vertical-align: top\">0.4606</td>\n",
       "        <td style=\"padding-left: 1em; padding-right: 1em; text-align: center; vertical-align: top\">0</td>\n",
       "        <td style=\"padding-left: 1em; padding-right: 1em; text-align: center; vertical-align: top\">0</td>\n",
       "        <td style=\"padding-left: 1em; padding-right: 1em; text-align: center; vertical-align: top\">0</td>\n",
       "        <td style=\"padding-left: 1em; padding-right: 1em; text-align: center; vertical-align: top\">0</td>\n",
       "    </tr>\n",
       "    <tr>\n",
       "        <td style=\"padding-left: 1em; padding-right: 1em; text-align: center; vertical-align: top\">4.35673213621</td>\n",
       "        <td style=\"padding-left: 1em; padding-right: 1em; text-align: center; vertical-align: top\">8.34927513812</td>\n",
       "        <td style=\"padding-left: 1em; padding-right: 1em; text-align: center; vertical-align: top\">0.8428</td>\n",
       "        <td style=\"padding-left: 1em; padding-right: 1em; text-align: center; vertical-align: top\">0.147</td>\n",
       "        <td style=\"padding-left: 1em; padding-right: 1em; text-align: center; vertical-align: top\">0</td>\n",
       "        <td style=\"padding-left: 1em; padding-right: 1em; text-align: center; vertical-align: top\">0</td>\n",
       "        <td style=\"padding-left: 1em; padding-right: 1em; text-align: center; vertical-align: top\">0</td>\n",
       "        <td style=\"padding-left: 1em; padding-right: 1em; text-align: center; vertical-align: top\">0</td>\n",
       "    </tr>\n",
       "    <tr>\n",
       "        <td style=\"padding-left: 1em; padding-right: 1em; text-align: center; vertical-align: top\">4.06132460327</td>\n",
       "        <td style=\"padding-left: 1em; padding-right: 1em; text-align: center; vertical-align: top\">8.35820883978</td>\n",
       "        <td style=\"padding-left: 1em; padding-right: 1em; text-align: center; vertical-align: top\">0.735</td>\n",
       "        <td style=\"padding-left: 1em; padding-right: 1em; text-align: center; vertical-align: top\">0.0784</td>\n",
       "        <td style=\"padding-left: 1em; padding-right: 1em; text-align: center; vertical-align: top\">0</td>\n",
       "        <td style=\"padding-left: 1em; padding-right: 1em; text-align: center; vertical-align: top\">0</td>\n",
       "        <td style=\"padding-left: 1em; padding-right: 1em; text-align: center; vertical-align: top\">0</td>\n",
       "        <td style=\"padding-left: 1em; padding-right: 1em; text-align: center; vertical-align: top\">0</td>\n",
       "    </tr>\n",
       "    <tr>\n",
       "        <td style=\"padding-left: 1em; padding-right: 1em; text-align: center; vertical-align: top\">3.52215990866</td>\n",
       "        <td style=\"padding-left: 1em; padding-right: 1em; text-align: center; vertical-align: top\">8.33557679558</td>\n",
       "        <td style=\"padding-left: 1em; padding-right: 1em; text-align: center; vertical-align: top\">0.343</td>\n",
       "        <td style=\"padding-left: 1em; padding-right: 1em; text-align: center; vertical-align: top\">0.0392</td>\n",
       "        <td style=\"padding-left: 1em; padding-right: 1em; text-align: center; vertical-align: top\">0</td>\n",
       "        <td style=\"padding-left: 1em; padding-right: 1em; text-align: center; vertical-align: top\">0</td>\n",
       "        <td style=\"padding-left: 1em; padding-right: 1em; text-align: center; vertical-align: top\">0</td>\n",
       "        <td style=\"padding-left: 1em; padding-right: 1em; text-align: center; vertical-align: top\">0</td>\n",
       "    </tr>\n",
       "    <tr>\n",
       "        <td style=\"padding-left: 1em; padding-right: 1em; text-align: center; vertical-align: top\">3.73771975026</td>\n",
       "        <td style=\"padding-left: 1em; padding-right: 1em; text-align: center; vertical-align: top\">8.31483977901</td>\n",
       "        <td style=\"padding-left: 1em; padding-right: 1em; text-align: center; vertical-align: top\">0.2254</td>\n",
       "        <td style=\"padding-left: 1em; padding-right: 1em; text-align: center; vertical-align: top\">0.0</td>\n",
       "        <td style=\"padding-left: 1em; padding-right: 1em; text-align: center; vertical-align: top\">0</td>\n",
       "        <td style=\"padding-left: 1em; padding-right: 1em; text-align: center; vertical-align: top\">0</td>\n",
       "        <td style=\"padding-left: 1em; padding-right: 1em; text-align: center; vertical-align: top\">0</td>\n",
       "        <td style=\"padding-left: 1em; padding-right: 1em; text-align: center; vertical-align: top\">0</td>\n",
       "    </tr>\n",
       "</table>\n",
       "<table frame=\"box\" rules=\"cols\">\n",
       "    <tr>\n",
       "        <th style=\"padding-left: 1em; padding-right: 1em; text-align: center\">Features_ 36</th>\n",
       "        <th style=\"padding-left: 1em; padding-right: 1em; text-align: center\">Features_ 37</th>\n",
       "        <th style=\"padding-left: 1em; padding-right: 1em; text-align: center\">Features_ 38</th>\n",
       "        <th style=\"padding-left: 1em; padding-right: 1em; text-align: center\">...</th>\n",
       "    </tr>\n",
       "    <tr>\n",
       "        <td style=\"padding-left: 1em; padding-right: 1em; text-align: center; vertical-align: top\">0.219706356595</td>\n",
       "        <td style=\"padding-left: 1em; padding-right: 1em; text-align: center; vertical-align: top\">-0.127990349631</td>\n",
       "        <td style=\"padding-left: 1em; padding-right: 1em; text-align: center; vertical-align: top\">1.71927560428</td>\n",
       "        <td style=\"padding-left: 1em; padding-right: 1em; text-align: center; vertical-align: top\">...</td>\n",
       "    </tr>\n",
       "    <tr>\n",
       "        <td style=\"padding-left: 1em; padding-right: 1em; text-align: center; vertical-align: top\">0.155590412767</td>\n",
       "        <td style=\"padding-left: 1em; padding-right: 1em; text-align: center; vertical-align: top\">-0.639652012448</td>\n",
       "        <td style=\"padding-left: 1em; padding-right: 1em; text-align: center; vertical-align: top\">4.13275290921</td>\n",
       "        <td style=\"padding-left: 1em; padding-right: 1em; text-align: center; vertical-align: top\">...</td>\n",
       "    </tr>\n",
       "    <tr>\n",
       "        <td style=\"padding-left: 1em; padding-right: 1em; text-align: center; vertical-align: top\">0.0925837130462</td>\n",
       "        <td style=\"padding-left: 1em; padding-right: 1em; text-align: center; vertical-align: top\">1.03393366067</td>\n",
       "        <td style=\"padding-left: 1em; padding-right: 1em; text-align: center; vertical-align: top\">7.73592612692</td>\n",
       "        <td style=\"padding-left: 1em; padding-right: 1em; text-align: center; vertical-align: top\">...</td>\n",
       "    </tr>\n",
       "    <tr>\n",
       "        <td style=\"padding-left: 1em; padding-right: 1em; text-align: center; vertical-align: top\">0.0506722377716</td>\n",
       "        <td style=\"padding-left: 1em; padding-right: 1em; text-align: center; vertical-align: top\">1.05044494342</td>\n",
       "        <td style=\"padding-left: 1em; padding-right: 1em; text-align: center; vertical-align: top\">4.46466722648</td>\n",
       "        <td style=\"padding-left: 1em; padding-right: 1em; text-align: center; vertical-align: top\">...</td>\n",
       "    </tr>\n",
       "    <tr>\n",
       "        <td style=\"padding-left: 1em; padding-right: 1em; text-align: center; vertical-align: top\">0.0292622124165</td>\n",
       "        <td style=\"padding-left: 1em; padding-right: 1em; text-align: center; vertical-align: top\">0.282918434936</td>\n",
       "        <td style=\"padding-left: 1em; padding-right: 1em; text-align: center; vertical-align: top\">5.74073784939</td>\n",
       "        <td style=\"padding-left: 1em; padding-right: 1em; text-align: center; vertical-align: top\">...</td>\n",
       "    </tr>\n",
       "</table>\n",
       "[5 rows x 134 columns]<br/>\n",
       "</div>"
      ],
      "text/plain": [
       "Columns:\n",
       "\tSubjID\tint\n",
       "\tSession\tint\n",
       "\tFeatures_  1\tfloat\n",
       "\tFeatures_  2\tfloat\n",
       "\tFeatures_  3\tfloat\n",
       "\tFeatures_  4\tint\n",
       "\tFeatures_  5\tint\n",
       "\tFeatures_  6\tint\n",
       "\tFeatures_  7\tint\n",
       "\tFeatures_  8\tfloat\n",
       "\tFeatures_  9\tfloat\n",
       "\tFeatures_ 10\tfloat\n",
       "\tFeatures_ 11\tfloat\n",
       "\tFeatures_ 12\tfloat\n",
       "\tFeatures_ 13\tfloat\n",
       "\tFeatures_ 14\tfloat\n",
       "\tFeatures_ 15\tfloat\n",
       "\tFeatures_ 16\tfloat\n",
       "\tFeatures_ 17\tfloat\n",
       "\tFeatures_ 18\tint\n",
       "\tFeatures_ 19\tint\n",
       "\tFeatures_ 20\tint\n",
       "\tFeatures_ 21\tint\n",
       "\tFeatures_ 22\tfloat\n",
       "\tFeatures_ 23\tfloat\n",
       "\tFeatures_ 24\tfloat\n",
       "\tFeatures_ 25\tfloat\n",
       "\tFeatures_ 26\tfloat\n",
       "\tFeatures_ 27\tfloat\n",
       "\tFeatures_ 28\tfloat\n",
       "\tFeatures_ 29\tfloat\n",
       "\tFeatures_ 30\tfloat\n",
       "\tFeatures_ 31\tfloat\n",
       "\tFeatures_ 32\tint\n",
       "\tFeatures_ 33\tint\n",
       "\tFeatures_ 34\tint\n",
       "\tFeatures_ 35\tint\n",
       "\tFeatures_ 36\tfloat\n",
       "\tFeatures_ 37\tfloat\n",
       "\tFeatures_ 38\tfloat\n",
       "\tFeatures_ 39\tfloat\n",
       "\tFeatures_ 40\tfloat\n",
       "\tFeatures_ 41\tfloat\n",
       "\tFeatures_ 42\tfloat\n",
       "\tFeatures_ 43\tfloat\n",
       "\tFeatures_ 44\tfloat\n",
       "\tFeatures_ 45\tfloat\n",
       "\tFeatures_ 46\tfloat\n",
       "\tFeatures_ 47\tfloat\n",
       "\tFeatures_ 48\tfloat\n",
       "\tFeatures_ 49\tfloat\n",
       "\tFeatures_ 50\tfloat\n",
       "\tFeatures_ 51\tfloat\n",
       "\tFeatures_ 52\tfloat\n",
       "\tFeatures_ 53\tfloat\n",
       "\tFeatures_ 54\tfloat\n",
       "\tFeatures_ 55\tfloat\n",
       "\tFeatures_ 56\tfloat\n",
       "\tFeatures_ 57\tfloat\n",
       "\tFeatures_ 58\tfloat\n",
       "\tFeatures_ 59\tfloat\n",
       "\tFeatures_ 60\tfloat\n",
       "\tFeatures_ 61\tfloat\n",
       "\tFeatures_ 62\tfloat\n",
       "\tFeatures_ 63\tfloat\n",
       "\tFeatures_ 64\tfloat\n",
       "\tFeatures_ 65\tfloat\n",
       "\tFeatures_ 66\tfloat\n",
       "\tFeatures_ 67\tfloat\n",
       "\tFeatures_ 68\tfloat\n",
       "\tFeatures_ 69\tfloat\n",
       "\tFeatures_ 70\tfloat\n",
       "\tFeatures_ 71\tfloat\n",
       "\tFeatures_ 72\tfloat\n",
       "\tFeatures_ 73\tfloat\n",
       "\tFeatures_ 74\tfloat\n",
       "\tFeatures_ 75\tfloat\n",
       "\tFeatures_ 76\tfloat\n",
       "\tFeatures_ 77\tfloat\n",
       "\tFeatures_ 78\tfloat\n",
       "\tFeatures_ 79\tfloat\n",
       "\tFeatures_ 80\tfloat\n",
       "\tFeatures_ 81\tfloat\n",
       "\tFeatures_ 82\tfloat\n",
       "\tFeatures_ 83\tfloat\n",
       "\tFeatures_ 84\tfloat\n",
       "\tFeatures_ 85\tfloat\n",
       "\tFeatures_ 86\tfloat\n",
       "\tFeatures_ 87\tfloat\n",
       "\tFeatures_ 88\tfloat\n",
       "\tFeatures_ 89\tfloat\n",
       "\tFeatures_ 90\tfloat\n",
       "\tFeatures_ 91\tfloat\n",
       "\tFeatures_ 92\tfloat\n",
       "\tFeatures_ 93\tfloat\n",
       "\tFeatures_ 94\tfloat\n",
       "\tFeatures_ 95\tfloat\n",
       "\tFeatures_ 96\tfloat\n",
       "\tFeatures_ 97\tfloat\n",
       "\tFeatures_ 98\tfloat\n",
       "\tFeatures_ 99\tfloat\n",
       "\tFeatures_100\tfloat\n",
       "\tFeatures_101\tfloat\n",
       "\tFeatures_102\tfloat\n",
       "\tFeatures_103\tfloat\n",
       "\tFeatures_104\tfloat\n",
       "\tFeatures_105\tfloat\n",
       "\tFeatures_106\tfloat\n",
       "\tFeatures_107\tfloat\n",
       "\tFeatures_108\tfloat\n",
       "\tFeatures_109\tfloat\n",
       "\tFeatures_110\tfloat\n",
       "\tFeatures_111\tfloat\n",
       "\tFeatures_112\tfloat\n",
       "\tFeatures_113\tfloat\n",
       "\tFeatures_114\tfloat\n",
       "\tFeatures_115\tfloat\n",
       "\tFeatures_116\tfloat\n",
       "\tFeatures_117\tfloat\n",
       "\tFeatures_118\tfloat\n",
       "\tFeatures_119\tfloat\n",
       "\tFeatures_120\tfloat\n",
       "\tFeatures_121\tfloat\n",
       "\tFeatures_122\tfloat\n",
       "\tFeatures_123\tfloat\n",
       "\tFeatures_124\tfloat\n",
       "\tFeatures_125\tfloat\n",
       "\tFeatures_126\tfloat\n",
       "\tFeatures_127\tfloat\n",
       "\tFeatures_128\tfloat\n",
       "\tFeatures_129\tfloat\n",
       "\tFeatures_130\tfloat\n",
       "\tFeatures_131\tfloat\n",
       "\tLabel\tint\n",
       "\n",
       "Rows: 5\n",
       "\n",
       "Data:\n",
       "+--------+---------+-----------------+--------------+--------------+--------------+\n",
       "| SubjID | Session |   Features_  1  | Features_  2 | Features_  3 | Features_  4 |\n",
       "+--------+---------+-----------------+--------------+--------------+--------------+\n",
       "|   1    |    1    |  0.051382320442 |    0.6076    |    0.196     |      0       |\n",
       "|   1    |    1    | 0.0253933701657 |    0.6076    |    0.1176    |      0       |\n",
       "|   1    |    1    | 0.0248519337017 |     0.49     |    0.1176    |      0       |\n",
       "|   1    |    1    | 0.0465635359116 |    0.3136    |    0.0784    |      0       |\n",
       "|   1    |    1    | 0.0781834254144 |    0.2352    |    0.0784    |      56      |\n",
       "+--------+---------+-----------------+--------------+--------------+--------------+\n",
       "+--------------+--------------+--------------+-----------------+-----------------+\n",
       "| Features_  5 | Features_  6 | Features_  7 |   Features_  8  |   Features_  9  |\n",
       "+--------------+--------------+--------------+-----------------+-----------------+\n",
       "|     181      |      0       |      0       |  0.112454267826 | -0.294668590342 |\n",
       "|     178      |      3       |      0       | 0.0983200079119 | 0.0523105353163 |\n",
       "|     181      |      0       |      0       | 0.0841222692085 | -0.592549758023 |\n",
       "|     181      |      0       |      0       | 0.0654386480834 |  -1.01056633159 |\n",
       "|      0       |      0       |      0       | 0.0375305142722 | -0.712656990085 |\n",
       "+--------------+--------------+--------------+-----------------+-----------------+\n",
       "+---------------+--------------------+-----------------+----------------+\n",
       "|  Features_ 10 |    Features_ 11    |   Features_ 12  |  Features_ 13  |\n",
       "+---------------+--------------------+-----------------+----------------+\n",
       "| 2.38556796968 | -0.000653333333333 |  0.072657333349 | 0.181289226345 |\n",
       "| 3.41100727695 | -0.000435555555556 | 0.0780695955254 | 0.180121837472 |\n",
       "| 3.41421963842 | 0.000653333333333  | 0.0698793552525 | 0.24648779524  |\n",
       "| 3.65404790008 | 0.000217777777778  | 0.0504932952633 | 0.225561487781 |\n",
       "| 4.19196004385 | 0.000217777777778  | 0.0415385735192 | 0.130183600125 |\n",
       "+---------------+--------------------+-----------------+----------------+\n",
       "+---------------+---------------+--------------+--------------+--------------+-----+\n",
       "|  Features_ 14 |  Features_ 15 | Features_ 16 | Features_ 17 | Features_ 18 | ... |\n",
       "+---------------+---------------+--------------+--------------+--------------+-----+\n",
       "|  4.849714754  | 7.08929834254 |    0.7644    |    0.539     |      0       | ... |\n",
       "| 3.89013448447 | 6.99232707182 |    0.7644    |    0.1568    |      0       | ... |\n",
       "| 4.91346159405 | 6.98496353591 |     0.49     |    0.1176    |      0       | ... |\n",
       "| 4.15285973332 | 7.01284751381 |    0.3136    |    0.0392    |      0       | ... |\n",
       "| 4.15415404049 | 7.03970276243 |    0.2352    |    0.0784    |      0       | ... |\n",
       "+---------------+---------------+--------------+--------------+--------------+-----+\n",
       "[5 rows x 134 columns]"
      ]
     },
     "execution_count": 3,
     "metadata": {},
     "output_type": "execute_result"
    }
   ],
   "source": [
    "CBRData.head(5)"
   ]
  },
  {
   "cell_type": "code",
   "execution_count": 4,
   "metadata": {
    "collapsed": false
   },
   "outputs": [
    {
     "name": "stdout",
     "output_type": "stream",
     "text": [
      "[51, 52, 53, 54, 55, 56, 57, 58, 59, 60, 61]\n",
      "[1, 2, 5, 6, 8, 11, 12, 13, 14, 15, 16, 19]\n"
     ]
    }
   ],
   "source": [
    "#SUBJECTS IN THE DATABASE\n",
    "HealthyCodes = HealthyData['SubjID'].unique()\n",
    "HealthyCodes = HealthyCodes.sort()\n",
    "print HealthyCodes\n",
    "PatientCodes = CBRData['SubjID'].unique()\n",
    "PatientCodes = PatientCodes.sort()\n",
    "print PatientCodes"
   ]
  },
  {
   "cell_type": "markdown",
   "metadata": {},
   "source": [
    " Most of the errors come from sitting being confounded with standing and viceversa"
   ]
  },
  {
   "cell_type": "markdown",
   "metadata": {},
   "source": [
    "### STRUT Fcns\n"
   ]
  },
  {
   "cell_type": "code",
   "execution_count": 110,
   "metadata": {
    "collapsed": false
   },
   "outputs": [],
   "source": [
    "import numpy as np\n",
    "import math\n",
    "from math import log\n",
    "import matplotlib\n",
    "import matplotlib.pyplot as plt\n",
    "%matplotlib inline\n",
    "\n",
    "def convert_from_scikit_learn_to_dic_ite_strut(node_index,is_leaves, children_left,children_right,feature,threshold,value,labels,C):\n",
    "        \n",
    "        a = is_leaves[0]\n",
    "        b = feature[0]\n",
    "        c = threshold[0]\n",
    "        if (a):\n",
    "            d = value[0]  #datapoints of each class in the node\n",
    "            d2 = np.squeeze(d/np.sum(d))\n",
    "            d3 = np.zeros(C)\n",
    "            d3[labels] = d2\n",
    "            e = labels[np.argmax(d2)]\n",
    "            return {'splitting_feature' : None,\n",
    "            'left' : None,\n",
    "            'right' : None,\n",
    "            'is_leaf': True,\n",
    "            'prediction': e,\n",
    "            'labels_distribution':d3}\n",
    "    \n",
    "        else:\n",
    "            left = children_left[0]-node_index[0]\n",
    "            if(left==-1):\n",
    "                left_tree = None\n",
    "            else:\n",
    "                left_tree = convert_from_scikit_learn_to_dic_ite_strut(node_index[left:],is_leaves[left:], children_left[left:],children_right[left:],feature[left:],threshold[left:],value[left:],labels,C)\n",
    "            right = children_right[0]-node_index[0]\n",
    "            if(right==-1):\n",
    "                right_tree = None\n",
    "            else:\n",
    "                right_tree = convert_from_scikit_learn_to_dic_ite_strut(node_index[right:],is_leaves[right:], children_left[right:],children_right[right:],feature[right:],threshold[right:],value[right:],labels,C)\n",
    "            return {'is_leaf'          : False, \n",
    "            'prediction'       : None,\n",
    "            'splitting_feature': b,\n",
    "            'threshold'        : c,\n",
    "            'left'             : left_tree, \n",
    "            'right'            : right_tree,\n",
    "            'labels_distribution': None}\n",
    "\n",
    "def convert_from_scikit_learn_to_dic_strut(feature,threshold,C,Q,children_left,children_right):\n",
    "    # C is the size of the whole labels\n",
    "    # labels are the labels that are used in the this tree\n",
    "    labels = range(0,C,1)\n",
    "    n_nodes = len(children_left)\n",
    "    node_index = np.array(range(0,n_nodes))\n",
    "    Val = Q   #datapoints in node\n",
    "# The tree structure can be traversed to compute various properties such\n",
    "# as the depth of each node and whether or not it is a leaf.\n",
    "    node_depth = np.zeros(shape=n_nodes)\n",
    "    is_leaves = np.zeros(shape=n_nodes, dtype=bool)\n",
    "    stack = [(0, -1)]  # seed is the root node id and its parent depth\n",
    "    while len(stack) > 0:\n",
    "        node_id, parent_depth = stack.pop()\n",
    "        node_depth[node_id] = parent_depth + 1\n",
    "    # If we have a test node\n",
    "        if (children_left[node_id] != children_right[node_id]):\n",
    "            stack.append((children_left[node_id], parent_depth + 1))\n",
    "            stack.append((children_right[node_id], parent_depth + 1))\n",
    "        else:\n",
    "            is_leaves[node_id] = True\n",
    "            \n",
    "    return convert_from_scikit_learn_to_dic_ite_strut(node_index,is_leaves, children_left,children_right,feature,threshold,Val,labels,C)\n",
    "\n",
    "def treesubset(subset,children_left,children_right):\n",
    "    ch_left = np.zeros(len(children_left))\n",
    "    ch_right = np.zeros(len(children_right))  \n",
    "    for i in range(len(subset)):\n",
    "        (l,) = np.where(subset==children_left[i])\n",
    "        (r,) = np.where(subset==children_right[i])\n",
    "        if(l.shape[0]==0):\n",
    "            ch_left[i] = -1\n",
    "        else:\n",
    "            ch_left[i] = l\n",
    "            \n",
    "        if(r.shape[0]==0):\n",
    "            ch_right[i] = -1\n",
    "        else:\n",
    "            ch_right[i] = r        \n",
    "    return (ch_left,ch_right)\n",
    "\n",
    "def kl (p,q): # Kullback-libler divegence\n",
    "    p = np.asarray(p, dtype=np.float)\n",
    "    q = np.asarray(q, dtype=np.float)\n",
    "    return np.sum(np.where(p != 0,p * np.log10((p / q)), 0))\n",
    "\n",
    "def jsd(p,q): # Symmetric Kullback-libler divergence\n",
    "    p = np.asarray(p, dtype=np.float)\n",
    "    q = np.asarray(q, dtype=np.float)\n",
    "    m = (p+q)/2\n",
    "    return (kl(p,m)+kl(m,q))/2\n",
    "\n",
    "def infogain(yleft,len_left,yright,len_right):\n",
    "    N = len_left+len_right\n",
    "    yparent = (len_left/N)*yleft+(len_right/N)*yright\n",
    "    #compute information gain\n",
    "    I = entropy(yparent) -( (len_left/N)*entropy(yleft) + (len_right/N)*entropy(yright) )   \n",
    "    return I\n",
    "\n",
    "#entropy for multiple classes\n",
    "def entropy(y):\n",
    "    y1 = y[y!=0]\n",
    "    H = -(y1*np.log10(y1)).sum()\n",
    "    return H \n",
    "\n",
    "#computes split for given feature\n",
    "def partition(Xtarget,ytarget,index_of_data,feature,num_class_target,index_class_target,threshold): # divide the data to the left and rightbased on the threshold\n",
    "    left = index_of_data[Xtarget[index_of_data,feature]<threshold]\n",
    "    if(len(left)==0):\n",
    "        left = index_of_data[Xtarget[index_of_data,feature]<=threshold]\n",
    "    labels_left = ytarget[left]\n",
    "    right = index_of_data[Xtarget[index_of_data,feature]>=threshold]\n",
    "    labels_right = ytarget[right]\n",
    "    \n",
    "    qL_full = np.bincount(labels_left)\n",
    "    qR_full = np.bincount(labels_right)\n",
    "    qL_full = np.append(qL_full,np.zeros(np.max([num_class_target-qL_full.shape[0],0])))\n",
    "    qR_full = np.append(qR_full,np.zeros(np.max([num_class_target-qR_full.shape[0],0])))\n",
    "    \n",
    "    qL = qL_full[index_class_target]\n",
    "    qR = qR_full[index_class_target]\n",
    " \n",
    "    qL = qL/qL.sum()\n",
    "    qR = qR/qR.sum()\n",
    "    \n",
    "    return [qL,left,qR,right]\n",
    "\n",
    "def dg(Sleft,lenleft,Sright,lenright,QL,QR): # DG function as in the paper    \n",
    "    return 1-(lenleft/(lenleft+lenright))*jsd(Sleft,QL)-(lenright/(lenleft+lenright))*jsd(Sright,QR)\n",
    "    \n",
    "#optimize threshold of given node based on target data\n",
    "#INPUTS: Xtarget, ytarget, S:indices of datapoints that reach node, f:feature of node, QL,QR:Distributions from source reaching children\n",
    "#        C:# of classes, verbos: print additional info\n",
    "#OUTPUTS: [th, ql, qr, left, right]: th: new threshold; ql,qr: distribution from target with new threshold; left,right: target data indices\n",
    "#         going to left and right nodes\n",
    "#Depending fcns: partition(), df(), infogain(), jsd(), kl(), entropy()\n",
    "\n",
    "def threshold_selection(X,y,S,f,QL,QR,num_class_target,index_class_target,verbos): # finding the best threshold\n",
    "    fvals = np.sort(X[S,f])\n",
    "    num_data_points = len(fvals)\n",
    "    N = 50 # # of bins to search threshold\n",
    "    Val_DG  = np.array([]) #contains values of DG for each bin\n",
    "    Val_infogain = np.array([])\n",
    "    if num_data_points > N-1: \n",
    "        I = range(0,num_data_points,np.floor(num_data_points/N).astype(int))\n",
    "        fvals = fvals[I[1:-1]]\n",
    "    for i in fvals:\n",
    "        [qL, left, qR, right] = partition(X,y,S,f,num_class_target,index_class_target,i) #compute histogram (qL,qR) for left and right children with current threshold\n",
    "        #fig, ((ax1, ax2), (ax3, ax4)) = plt.subplots(2, 2, sharex='col', sharey='row')\n",
    "        #ax1.plot(QL)\n",
    "        #ax1.set_title('QL')\n",
    "        #ax2.plot(Sleft, color='r')\n",
    "        #ax2.set_title('QprimeL')\n",
    "        #ax3.plot(QR)\n",
    "        #ax3.set_title('QR')\n",
    "        #ax4.plot(Sright, color='r')\n",
    "        #ax4.set_title('QprimeR')\n",
    "        Val_DG = np.append(Val_DG,dg(qL,len(left),qR,len(right),QL,QR))\n",
    "        Val_infogain = np.append(Val_infogain,infogain(qL,len(left),qR,len(right)))        #Val_swap = np.append(Val_swap,dg(Sleft,len(left),Sright,len(right),QR,QL)) # this is the divergence measure for each threshold split  \n",
    "    if(verbos):\n",
    "        fig, (ax1, ax2, ax3) = plt.subplots(1, 3, sharex='col', sharey='row')\n",
    "    #ax1.plot(Val)\n",
    "    #ax1.set_title('DG')\n",
    "    #ax2.plot(Val_infogain)\n",
    "    #ax2.set_title('infogain')\n",
    "        ax1.plot(fvals,Val_DG,'r')\n",
    "        ax1.hold(True)\n",
    "        ax1.plot(fvals,Val_infogain)\n",
    "        ax1.hold(False)\n",
    "        ax1.set_title('DG and Infogain')\n",
    "    #plt.show()\n",
    "    #find nan and assign the minimum value found in the array to remove the nan \n",
    "    Val_DG[np.isnan(Val_DG)] = min(Val_DG[~np.isnan(Val_DG)])\n",
    "    Val_infogain[np.isnan(Val_infogain)] = min(Val_infogain[~np.isnan(Val_infogain)])\n",
    "    #Val_swap[np.isnan(Val_swap)] = min(Val_swap[~np.isnan(Val_swap)])\n",
    "    th_DG = fvals[np.argmax(Val_DG)]\n",
    "    th_infogain = fvals[np.argmax(Val_infogain)]\n",
    "\n",
    "    #plt.plot(Val_infogain)\n",
    "    #plt.show()\n",
    "    \n",
    "    #find new threshold based on how many datapoints we have in current node\n",
    "    if(len(S)<30):\n",
    "        [ql, left, qr, right] = partition(X,y,S,f,num_class_target,index_class_target,th_infogain)\n",
    "        th = th_infogain\n",
    "    else:\n",
    "        [ql, left, qr, right] = partition(X,y,S,f,num_class_target,index_class_target,th_DG)\n",
    "        th = th_DG\n",
    "        \n",
    "    if(verbos):\n",
    "        ax2.plot(ql)\n",
    "        ax2.hold(True)\n",
    "        ax2.plot(qr)\n",
    "        ax2.hold(False)\n",
    "        ax2.set_title('Dist Target Data')\n",
    "\n",
    "        ax3.plot(QL)\n",
    "        ax3.hold(True)\n",
    "        ax3.plot(QR)\n",
    "        ax3.hold(False)\n",
    "        ax3.set_title('Dist Source Data')\n",
    "        \n",
    "    return [th, ql, qr, left, right]\n",
    "\n",
    "def classify(tree, x):   \n",
    "    # if the node is a leaf node.\n",
    "    if tree['is_leaf']:\n",
    "        return tree['labels_distribution'] \n",
    "    else:\n",
    "        # split on feature.\n",
    "        val_split_feature = x[tree['splitting_feature']]\n",
    "        if val_split_feature < tree['threshold']:\n",
    "            return classify(tree['left'], x)\n",
    "        else:\n",
    "            return classify(tree['right'],x)\n",
    "\n",
    "def forest_posterior(RF,x):\n",
    "\n",
    "    T = len(RF)  #the number of trees \n",
    "\n",
    "    #infer the number of classes\n",
    "    P0 = classify(RF[0],x)\n",
    "    C = len(P0)\n",
    "    \n",
    "    Pt = np.zeros((T,C)) #matrix of posteriors from each tree (T x Nclasses)\n",
    "    Pt[0,:] = P0\n",
    "    for t in range(len(RF))[1:]:\n",
    "        Pt[t,:] = classify(RF[t],x) \n",
    "    return Pt\n",
    "\n",
    "#classify input based on majority voting of each tree prediction\n",
    "def forest_classify_majority(RF,x):\n",
    "        Pt = forest_posterior(RF,x)\n",
    "        Yt = np.argmax(Pt,axis=1)         \n",
    "        C,unique_counts = np.unique(Yt,return_counts=True) #the id of classes and number of each\n",
    "        return C[np.argmax(unique_counts)]   \n",
    "    \n",
    "#classify input by averaging posteriors \n",
    "def forest_classify_ensemble(RF,x):\n",
    "    Pt = forest_posterior(RF,x)\n",
    "    Pforest = Pt.mean(axis=0)\n",
    "    ypred = np.argmax(Pt.mean(axis=0))\n",
    "    return ypred\n",
    "\n",
    "def evaluate_classification_error(RF, X, y, method = None):  \n",
    "    # Apply the forest_classify(RF, x) to each row in your data\n",
    "    if method == None:\n",
    "        ypred = map(lambda x: forest_classify_ensemble(RF,x), X)\n",
    "        # Once you've made the predictions, calculate the classification error and return it\n",
    "        mistakes = sum(ypred != y)\n",
    "        error = mistakes/len(y)\n",
    "    return error\n",
    "\n",
    "#returning the histogram of the classes for each node in estimator. N is # of classes\n",
    "def value_for_all(estimator,N):\n",
    "    from scipy.sparse import csr_matrix\n",
    "    ch_left = estimator.tree_.children_left\n",
    "    ch_right = estimator.tree_.children_right\n",
    "    (cl,) = np.where(ch_left!=-1)\n",
    "    (cr,) = np.where(ch_right!=-1)\n",
    "    cap = estimator.tree_.capacity\n",
    "    dis_node = np.zeros((cap,estimator.tree_.n_classes))\n",
    "    A = np.zeros([cap,cap])\n",
    "    D = A\n",
    "    A = csr_matrix(A)\n",
    "    A[cl,ch_left[cl]] = 1\n",
    "    A[cr,ch_right[cr]] = 1\n",
    "    B = A\n",
    "    C = B\n",
    "    while(C.sum()!=0):\n",
    "        C = A*C\n",
    "        B = B + C\n",
    "    I,J = B.nonzero()\n",
    "    D[I,J] = 1\n",
    "    (I,) = np.where(ch_left==-1)\n",
    "    dis_node[I,:] = np.squeeze(estimator.tree_.value[I])\n",
    "    for i in I:\n",
    "        dis_node[i,:] = dis_node[i,:]/dis_node[i,:].sum()\n",
    "    (remain1,) = np.where(ch_left!=-1)\n",
    "    for i in remain1:\n",
    "        (I,) = np.where(D[i,:]==1)\n",
    "        dis_node[i,:] = np.sum(np.squeeze(estimator.tree_.value[I]),axis = 0)\n",
    "        dis_node[i,:] = dis_node[i,:]/dis_node[i,:].sum()\n",
    "    Dis_node = np.zeros((cap,N))\n",
    "    Dis_node[:,estimator.classes_.astype(int)] = dis_node\n",
    "    return Dis_node\n",
    "    \n",
    "def STRUT(Xsource,ysource,Xtarget,ytarget,n_trees,verbos = False):\n",
    "    # Assumption: ysource has all the labels of the problem \n",
    "    \n",
    "    #Train RF on Source\n",
    "    Estimator = RandomForestClassifier(n_estimators=n_trees,criterion='entropy')  \n",
    "    Estimator = Estimator.fit(Xsource, ysource)\n",
    "    #Infer classes of source and target\n",
    "    C = len(np.unique(ysource)) # Number of classes in source data\n",
    "    index_class_target = np.sort(np.unique(ytarget)) #the indices of classes in the target data\n",
    "    max_index_target = max(index_class_target)+1\n",
    "\n",
    "    # ypred = Estimator.predict(Xtarget)\n",
    "    # print sum(ypred!=ytarget)/len(ytarget)\n",
    "   \n",
    "    RF = []\n",
    "    \n",
    "    # Looping through all the trees in the forest RF\n",
    "    for rf in range(Estimator.n_estimators):\n",
    "        estimator = Estimator.estimators_[rf] \n",
    "        #print '#leaves before STRUT = %s'%(estimator.tree_.node_count)\n",
    "\n",
    "        dis_node = value_for_all(estimator,C)  #Histogram of classes for source (row: node index, col: class)\n",
    "        \n",
    "        #if the target data contains a different # of classes than source\n",
    "        if len(index_class_target) < C:\n",
    "            dis_node = dis_node[:,index_class_target]/np.sum(dis_node[:,index_class_target],axis=1)[:,None]\n",
    "        dis_node[np.isnan(dis_node)] = 1/len(index_class_target)\n",
    "        #if(np.any(np.isnan(dis_node))):\n",
    "         #   print 'nan found'    \n",
    "            \n",
    "        LF = estimator.tree_.children_left  #indices of left nodes \n",
    "        LR = estimator.tree_.children_right #indices of right nodes\n",
    "        Features = estimator.tree_.feature\n",
    "        num_nodes = estimator.tree_.capacity\n",
    "        P = list(np.zeros(num_nodes)) #maintain a list of the target data indices at each node (0 is root) - capacity is node_count\n",
    "        P[0] = range(len(ytarget))\n",
    "        Q = np.zeros((num_nodes,len(index_class_target))) #Histogram of target data indices at each node\n",
    "        Q[0,:] = dis_node[0,:]\n",
    "        thresh = np.zeros(num_nodes) #init vector with new threshold at each node\n",
    "        remain = [0]    #indexing the remaining nodes as we move from top-down\n",
    "        subset = []     #maintains a list of the nodes that are reached from target data\n",
    "        #looping through the nodes\n",
    "        while(len(remain)!=0):\n",
    "            i = remain[0]\n",
    "            subset.append(i)  #updating the list of nodes reached by target data with current node index\n",
    "            index_left = LF[i] \n",
    "            index_right = LR[i]\n",
    "            #check if node is leaf\n",
    "            if(index_left!=-1):\n",
    "                QL = dis_node[index_left,:]  #distribution of labels in children nodes\n",
    "                QR = dis_node[index_right,:]\n",
    "                f = Features[i]  #feature of parent node\n",
    "                [th, ql, qr, left, right] = threshold_selection(Xtarget,ytarget,np.array(P[i]),f,QL,QR,max_index_target,index_class_target,verbos)\n",
    "                thresh[i] = th\n",
    "                P[index_left] = left\n",
    "                P[index_right] = right\n",
    "                Q[index_left,:] = ql\n",
    "                Q[index_right,:] = qr\n",
    "                \n",
    "                #if no target datapoints reach either the left or right children we make the parent node a leaf\n",
    "                if(len(left)>0 and len(right)>0):\n",
    "                    remain = np.append(remain,index_left)\n",
    "                    remain = np.append(remain,index_right)\n",
    "            remain = remain[1:]\n",
    "\n",
    "        subset = np.sort(subset)\n",
    "        lf =  LF[subset]\n",
    "        lr =  LR[subset]\n",
    "        (ch_lf,ch_lr) = treesubset(subset,lf,lr)\n",
    "        Qnew = np.zeros((Q.shape[0],C))\n",
    "        Qnew[:,index_class_target] = Q  #Histogram of target data on the full set of class labels (includes the missing classes)\n",
    "        ST = convert_from_scikit_learn_to_dic_strut(Features[subset],thresh[subset],C,Qnew[subset,:],ch_lf.astype(int),ch_lr.astype(int))\n",
    "        #print 'tree trained'\n",
    "        RF.append(ST)\n",
    "        #print '#leaves after STRUT = %s'%(sum(lf==-1))\n",
    "\n",
    "    return RF"
   ]
  },
  {
   "cell_type": "markdown",
   "metadata": {},
   "source": [
    "### Train on Source (Healthy) only\n",
    "should test on 3 sessions and keep 1 (target) out -> Cross validation with leave one session out"
   ]
  },
  {
   "cell_type": "code",
   "execution_count": 93,
   "metadata": {
    "collapsed": false,
    "scrolled": true
   },
   "outputs": [
    {
     "name": "stdout",
     "output_type": "stream",
     "text": [
      "Test on Patient 1\n",
      "Train samples = 8375, Test samples = 1177\n",
      "BAcc = 0.555726292849\n",
      "Test on Patient 2\n",
      "Train samples = 8375, Test samples = 1228\n",
      "BAcc = 0.377441031866\n",
      "Test on Patient 5\n",
      "Train samples = 8375, Test samples = 1468\n",
      "BAcc = 0.465669752731\n",
      "Test on Patient 6\n",
      "Train samples = 8375, Test samples = 2246\n",
      "BAcc = 0.64759832697\n",
      "Test on Patient 8\n",
      "Train samples = 8375, Test samples = 926\n",
      "BAcc = 0.330893427138\n",
      "Test on Patient 11\n",
      "Train samples = 8375, Test samples = 1207\n",
      "BAcc = 0.541083476303\n",
      "Test on Patient 14\n",
      "Train samples = 8375, Test samples = 1527\n",
      "BAcc = 0.512157711979\n",
      "Test on Patient 15\n",
      "Train samples = 8375, Test samples = 3177\n",
      "BAcc = 0.398813339568\n",
      "Test on Patient 16\n",
      "Train samples = 8375, Test samples = 1354\n",
      "BAcc = 0.630856102007\n",
      "Test on Patient 19\n",
      "Train samples = 8375, Test samples = 1328\n",
      "BAcc = 0.616665828333\n",
      "\n",
      "mean acc Source only = 0.507690528974\n"
     ]
    }
   ],
   "source": [
    "col_names = HealthyData.column_names()\n",
    "label_cols = col_names[-1:] #the : is used to return a list with one element \n",
    "feature_cols = col_names[2:-1]\n",
    "\n",
    "Xtrain = HealthyData.select_columns(feature_cols).to_numpy()\n",
    "ytrain = HealthyData.select_columns(label_cols).to_numpy()\n",
    "ytrain = ytrain.reshape(-1) #to squeeze last dimension and obtain a 1D array\n",
    "\n",
    "RF = RandomForestClassifier(n_estimators=50,criterion='entropy')\n",
    "RF = RF.fit(Xtrain,ytrain)\n",
    "\n",
    "#test on each patient (CBR)\n",
    "#PatientCodes = CBRData['SubjID'].unique()\n",
    "#PatientCodes = PatientCodes.sort()\n",
    "PatientCodes = np.array([1, 2, 5, 6, 8, 11, 14, 15, 16, 19]) #all patient with 4 sessions in CBR (06 Missing Stairs UP!)\n",
    "SOacc = np.zeros(len(PatientCodes))\n",
    "k = 0\n",
    "\n",
    "for s in PatientCodes:\n",
    "    test = CBRData[(CBRData['SubjID'] == s)  & (CBRData['Session'] != 1)] #keep out one session (used later for target)\n",
    "    Xtest = test.select_columns(feature_cols).to_numpy()\n",
    "    ytest = test.select_columns(label_cols).to_numpy()\n",
    "    ytest = ytest.reshape(-1) #to squeeze last dimension and obtain a 1D array\n",
    "\n",
    "    print 'Test on Patient %s'%s\n",
    "    print 'Train samples = %s, Test samples = %s'%(len(ytrain),len(ytest))\n",
    "    ypred = RF.predict(Xtest)\n",
    "\n",
    "    #    acc = sum(ypred == ytest)\n",
    "    #    CVacc[k] = acc/len(ytest)\n",
    "\n",
    "    #balanced accuracy\n",
    "    acc_c = 0\n",
    "    for c in np.unique(ytest):\n",
    "        i = ytest == c\n",
    "        correct = ypred[i] == ytest[i]\n",
    "        acc_c += sum(correct)/len(correct)\n",
    "    \n",
    "    BAcc = acc_c/len(np.unique(ytest))\n",
    "    SOacc[k] = BAcc\n",
    "\n",
    "    print 'BAcc = %s'%SOacc[k]\n",
    "    k = k+1\n",
    "\n",
    "print '\\nmean acc Source only = %s'%SOacc.mean()\n"
   ]
  },
  {
   "cell_type": "code",
   "execution_count": 98,
   "metadata": {
    "collapsed": false
   },
   "outputs": [],
   "source": [
    "first_RF = RF.estimators_[0]\n",
    "tree.export_graphviz(first_RF,out_file='tree.dot')"
   ]
  },
  {
   "cell_type": "code",
   "execution_count": 107,
   "metadata": {
    "collapsed": false
   },
   "outputs": [
    {
     "ename": "AttributeError",
     "evalue": "'list' object has no attribute 'draw'",
     "output_type": "error",
     "traceback": [
      "\u001b[0;31m---------------------------------------------------------------------------\u001b[0m",
      "\u001b[0;31mAttributeError\u001b[0m                            Traceback (most recent call last)",
      "\u001b[0;32m<ipython-input-107-4156edbd7001>\u001b[0m in \u001b[0;36m<module>\u001b[0;34m()\u001b[0m\n\u001b[1;32m      2\u001b[0m \u001b[0;34m\u001b[0m\u001b[0m\n\u001b[1;32m      3\u001b[0m \u001b[0mgraph\u001b[0m \u001b[0;34m=\u001b[0m \u001b[0mpydot\u001b[0m\u001b[0;34m.\u001b[0m\u001b[0mgraph_from_dot_file\u001b[0m\u001b[0;34m(\u001b[0m\u001b[0;34m'tree.dot'\u001b[0m\u001b[0;34m)\u001b[0m\u001b[0;34m\u001b[0m\u001b[0m\n\u001b[0;32m----> 4\u001b[0;31m \u001b[0mgraph\u001b[0m\u001b[0;34m.\u001b[0m\u001b[0mdraw\u001b[0m\u001b[0;34m(\u001b[0m\u001b[0;34m'tree.png'\u001b[0m\u001b[0;34m)\u001b[0m\u001b[0;34m\u001b[0m\u001b[0m\n\u001b[0m",
      "\u001b[0;31mAttributeError\u001b[0m: 'list' object has no attribute 'draw'"
     ]
    }
   ],
   "source": [
    "import pydot\n",
    "\n",
    "graph = pydot.graph_from_dot_file('tree.dot')\n",
    "graph.draw('tree.png')"
   ]
  },
  {
   "cell_type": "markdown",
   "metadata": {},
   "source": [
    "### Train on Target only \n",
    "Cross validate accuracy across 4 sessions"
   ]
  },
  {
   "cell_type": "code",
   "execution_count": 87,
   "metadata": {
    "collapsed": false
   },
   "outputs": [
    {
     "name": "stdout",
     "output_type": "stream",
     "text": [
      "Patient 1, BAcc = 0.722447300256, minBAcc = 0.671538610828, MaxBAcc = 0.755486902214\n",
      "Patient 2, BAcc = 0.494336216856, minBAcc = 0.40024701991, MaxBAcc = 0.556349558394\n",
      "Patient 5, BAcc = 0.574907031792, minBAcc = 0.485104633769, MaxBAcc = 0.626916317157\n",
      "Patient 6, BAcc = 0.641982488209, minBAcc = 0.56514930611, MaxBAcc = 0.795453301286\n",
      "Patient 8, BAcc = 0.54941457379, minBAcc = 0.355171738298, MaxBAcc = 0.802850501396\n",
      "Patient 11, BAcc = 0.50263134572, minBAcc = 0.448155307611, MaxBAcc = 0.547991852882\n",
      "Patient 14, BAcc = 0.546563286175, minBAcc = 0.474667238911, MaxBAcc = 0.652963965564\n",
      "Patient 15, BAcc = 0.591226289777, minBAcc = 0.563559247211, MaxBAcc = 0.640750711309\n",
      "Patient 16, BAcc = 0.549580162512, minBAcc = 0.483028082066, MaxBAcc = 0.584499475677\n",
      "Patient 19, BAcc = 0.760919107694, minBAcc = 0.676548530206, MaxBAcc = 0.857307692308\n",
      "\n",
      "mean acc Target only (over 4 sessions) = 0.593400780278\n"
     ]
    }
   ],
   "source": [
    "PatientCodes = np.array([1, 2, 5, 6, 8, 11, 14, 15, 16, 19]) #all patient with 4 sessions in CBR (06 Missing Stairs UP!)\n",
    "\n",
    "TOacc = np.zeros(len(PatientCodes))\n",
    "TOacc_all = np.zeros((len(PatientCodes),4)) #store accuracy for each target session \n",
    "Ntarget = np.zeros((len(PatientCodes),4)) #store # of target datapoints in each session\n",
    "k = 0\n",
    "                   \n",
    "for s in PatientCodes:\n",
    "    for session in range(4):\n",
    "        target = CBRData[(CBRData['SubjID'] == s) & (CBRData['Session'] == session+1)]\n",
    "        test = CBRData[(CBRData['SubjID'] == s) & (CBRData['Session'] != session+1)]\n",
    "        Nclasses = len(target['Label'].unique()) #How many activities we have for this patient\n",
    "\n",
    "        Xtarget = target.select_columns(feature_cols).to_numpy()\n",
    "        ytarget = target.select_columns(label_cols).to_numpy()\n",
    "        ytarget = ytarget.reshape(-1)\n",
    "        Xtest = test.select_columns(feature_cols).to_numpy()\n",
    "        ytest = test.select_columns(label_cols).to_numpy()\n",
    "        ytest = ytest.reshape(-1)\n",
    "        Ntarget[k,session] = len(ytarget)\n",
    "\n",
    "        RF = RandomForestClassifier(n_estimators=50,criterion='entropy')\n",
    "        RF = RF.fit(Xtarget,ytarget)\n",
    "        ypred = RF.predict(Xtest)\n",
    "        #acc = sum(ypred == ytest)/len(ytest)\n",
    "        #balanced accuracy\n",
    "        acc_c = 0\n",
    "        for c in np.unique(ytest):\n",
    "            i = ytest == c\n",
    "            correct = ypred[i] == ytest[i]\n",
    "            acc_c += sum(correct)/len(correct)\n",
    "        BAcc = acc_c/len(np.unique(ytest))           \n",
    "        TOacc_all[k,session] = BAcc\n",
    "                   \n",
    "    TOacc[k]=TOacc_all[k,:].mean()           \n",
    "                   \n",
    "    print 'Patient %s, BAcc = %s, minBAcc = %s, MaxBAcc = %s'%(s,TOacc[k],TOacc_all[k,:].min(),TOacc_all[k,:].max())\n",
    "    k = k+1\n",
    "\n",
    "print '\\nmean acc Target only (over 4 sessions) = %s'%TOacc.mean()\n"
   ]
  },
  {
   "cell_type": "code",
   "execution_count": 28,
   "metadata": {
    "collapsed": false
   },
   "outputs": [
    {
     "data": {
      "text/plain": [
       "array([[ 0.79482343,  0.65128006,  0.75549007,  0.76986329],\n",
       "       [ 0.55340304,  0.48643066,  0.62132595,  0.42604523],\n",
       "       [ 0.67472489,  0.40590593,  0.57551819,  0.59620935],\n",
       "       [ 0.55868205,  0.60388233,  0.80081383,  0.67035833],\n",
       "       [ 0.50790282,  0.36516413,  0.54570097,  0.78749603],\n",
       "       [ 0.49814657,  0.6580722 ,  0.44532979,  0.55536752],\n",
       "       [ 0.5748007 ,  0.52376489,  0.76509815,  0.4128761 ],\n",
       "       [ 0.58102664,  0.67962344,  0.5624992 ,  0.76761456],\n",
       "       [ 0.55361336,  0.57542696,  0.61361111,  0.60491849],\n",
       "       [ 0.66901938,  0.79675243,  0.78949877,  0.85971411]])"
      ]
     },
     "execution_count": 28,
     "metadata": {},
     "output_type": "execute_result"
    }
   ],
   "source": [
    "TOacc_all"
   ]
  },
  {
   "cell_type": "markdown",
   "metadata": {},
   "source": [
    "## Now test the STRUT - Use one session of data from each patient as target and the remaining as his test\n",
    "* Need to compute CV error on each session"
   ]
  },
  {
   "cell_type": "code",
   "execution_count": 111,
   "metadata": {
    "collapsed": false,
    "scrolled": false
   },
   "outputs": [
    {
     "name": "stderr",
     "output_type": "stream",
     "text": [
      "/Users/luca/anaconda/lib/python2.7/site-packages/ipykernel/__main__.py:266: DeprecationWarning: converting an array with ndim > 0 to an index will result in an error in the future\n"
     ]
    },
    {
     "name": "stdout",
     "output_type": "stream",
     "text": [
      "Patient 1,  \n",
      "# of classes = 5\n",
      "Source samples = 8375, Target samples = 390, Test samples = 1288\n",
      "Acc Target Only = 0.722447300256, Acc w STRUT = 0.583314162904, minAcc_STRUT = 0.444913785169, MaxAcc_STRUT = 0.708157856791\n",
      "\n",
      "Patient 2,  \n",
      "# of classes = 5\n",
      "Source samples = 8375, Target samples = 467, Test samples = 991\n",
      "Acc Target Only = 0.494336216856, Acc w STRUT = 0.432891107213, minAcc_STRUT = 0.413027404534, MaxAcc_STRUT = 0.454944056165\n",
      "\n",
      "Patient 5,  \n",
      "# of classes = 5\n",
      "Source samples = 8375, Target samples = 415, Test samples = 1358\n",
      "Acc Target Only = 0.574907031792, Acc w STRUT = 0.520814761315, minAcc_STRUT = 0.453629578694, MaxAcc_STRUT = 0.569293578479\n",
      "\n",
      "Patient 6,  \n",
      "# of classes = 5\n",
      "Source samples = 8375, Target samples = 881, Test samples = 2035\n",
      "Acc Target Only = 0.641982488209, Acc w STRUT = 0.531572083741, minAcc_STRUT = 0.386898504831, MaxAcc_STRUT = 0.693361073159\n",
      "\n",
      "Patient 8,  \n",
      "# of classes = 5\n",
      "Source samples = 8375, Target samples = 354, Test samples = 856\n",
      "Acc Target Only = 0.54941457379, Acc w STRUT = 0.638622163627, minAcc_STRUT = 0.440164857832, MaxAcc_STRUT = 0.856817483656\n",
      "\n",
      "Patient 11,  \n",
      "# of classes = 5\n",
      "Source samples = 8375, Target samples = 455, Test samples = 1253\n",
      "Acc Target Only = 0.50263134572, Acc w STRUT = 0.567361438148, minAcc_STRUT = 0.461469637883, MaxAcc_STRUT = 0.807728517419\n",
      "\n"
     ]
    },
    {
     "ename": "KeyboardInterrupt",
     "evalue": "",
     "output_type": "error",
     "traceback": [
      "\u001b[0;31m---------------------------------------------------------------------------\u001b[0m",
      "\u001b[0;31mKeyboardInterrupt\u001b[0m                         Traceback (most recent call last)",
      "\u001b[0;32m<ipython-input-111-5b81cbd544d5>\u001b[0m in \u001b[0;36m<module>\u001b[0;34m()\u001b[0m\n\u001b[1;32m     16\u001b[0m         \u001b[0mytest\u001b[0m \u001b[0;34m=\u001b[0m \u001b[0mytest\u001b[0m\u001b[0;34m.\u001b[0m\u001b[0mreshape\u001b[0m\u001b[0;34m(\u001b[0m\u001b[0;34m-\u001b[0m\u001b[0;36m1\u001b[0m\u001b[0;34m)\u001b[0m\u001b[0;34m\u001b[0m\u001b[0m\n\u001b[1;32m     17\u001b[0m \u001b[0;34m\u001b[0m\u001b[0m\n\u001b[0;32m---> 18\u001b[0;31m         \u001b[0mSTRUT_RF\u001b[0m \u001b[0;34m=\u001b[0m \u001b[0mSTRUT\u001b[0m\u001b[0;34m(\u001b[0m\u001b[0mXtrain\u001b[0m\u001b[0;34m,\u001b[0m\u001b[0mytrain\u001b[0m\u001b[0;34m,\u001b[0m\u001b[0mXtarget\u001b[0m\u001b[0;34m,\u001b[0m\u001b[0mytarget\u001b[0m\u001b[0;34m,\u001b[0m\u001b[0mn_trees\u001b[0m\u001b[0;34m=\u001b[0m\u001b[0;36m50\u001b[0m\u001b[0;34m,\u001b[0m\u001b[0mverbos\u001b[0m \u001b[0;34m=\u001b[0m \u001b[0mFalse\u001b[0m\u001b[0;34m)\u001b[0m\u001b[0;34m\u001b[0m\u001b[0m\n\u001b[0m\u001b[1;32m     19\u001b[0m \u001b[0;34m\u001b[0m\u001b[0m\n\u001b[1;32m     20\u001b[0m         \u001b[0;31m#balanced accuracy\u001b[0m\u001b[0;34m\u001b[0m\u001b[0;34m\u001b[0m\u001b[0m\n",
      "\u001b[0;32m<ipython-input-110-e84d0a129a37>\u001b[0m in \u001b[0;36mSTRUT\u001b[0;34m(Xsource, ysource, Xtarget, ytarget, n_trees, verbos)\u001b[0m\n\u001b[1;32m    342\u001b[0m                 \u001b[0mQR\u001b[0m \u001b[0;34m=\u001b[0m \u001b[0mdis_node\u001b[0m\u001b[0;34m[\u001b[0m\u001b[0mindex_right\u001b[0m\u001b[0;34m,\u001b[0m\u001b[0;34m:\u001b[0m\u001b[0;34m]\u001b[0m\u001b[0;34m\u001b[0m\u001b[0m\n\u001b[1;32m    343\u001b[0m                 \u001b[0mf\u001b[0m \u001b[0;34m=\u001b[0m \u001b[0mFeatures\u001b[0m\u001b[0;34m[\u001b[0m\u001b[0mi\u001b[0m\u001b[0;34m]\u001b[0m  \u001b[0;31m#feature of parent node\u001b[0m\u001b[0;34m\u001b[0m\u001b[0m\n\u001b[0;32m--> 344\u001b[0;31m                 \u001b[0;34m[\u001b[0m\u001b[0mth\u001b[0m\u001b[0;34m,\u001b[0m \u001b[0mql\u001b[0m\u001b[0;34m,\u001b[0m \u001b[0mqr\u001b[0m\u001b[0;34m,\u001b[0m \u001b[0mleft\u001b[0m\u001b[0;34m,\u001b[0m \u001b[0mright\u001b[0m\u001b[0;34m]\u001b[0m \u001b[0;34m=\u001b[0m \u001b[0mthreshold_selection\u001b[0m\u001b[0;34m(\u001b[0m\u001b[0mXtarget\u001b[0m\u001b[0;34m,\u001b[0m\u001b[0mytarget\u001b[0m\u001b[0;34m,\u001b[0m\u001b[0mnp\u001b[0m\u001b[0;34m.\u001b[0m\u001b[0marray\u001b[0m\u001b[0;34m(\u001b[0m\u001b[0mP\u001b[0m\u001b[0;34m[\u001b[0m\u001b[0mi\u001b[0m\u001b[0;34m]\u001b[0m\u001b[0;34m)\u001b[0m\u001b[0;34m,\u001b[0m\u001b[0mf\u001b[0m\u001b[0;34m,\u001b[0m\u001b[0mQL\u001b[0m\u001b[0;34m,\u001b[0m\u001b[0mQR\u001b[0m\u001b[0;34m,\u001b[0m\u001b[0mmax_index_target\u001b[0m\u001b[0;34m,\u001b[0m\u001b[0mindex_class_target\u001b[0m\u001b[0;34m,\u001b[0m\u001b[0mverbos\u001b[0m\u001b[0;34m)\u001b[0m\u001b[0;34m\u001b[0m\u001b[0m\n\u001b[0m\u001b[1;32m    345\u001b[0m                 \u001b[0mthresh\u001b[0m\u001b[0;34m[\u001b[0m\u001b[0mi\u001b[0m\u001b[0;34m]\u001b[0m \u001b[0;34m=\u001b[0m \u001b[0mth\u001b[0m\u001b[0;34m\u001b[0m\u001b[0m\n\u001b[1;32m    346\u001b[0m                 \u001b[0mP\u001b[0m\u001b[0;34m[\u001b[0m\u001b[0mindex_left\u001b[0m\u001b[0;34m]\u001b[0m \u001b[0;34m=\u001b[0m \u001b[0mleft\u001b[0m\u001b[0;34m\u001b[0m\u001b[0m\n",
      "\u001b[0;32m<ipython-input-110-e84d0a129a37>\u001b[0m in \u001b[0;36mthreshold_selection\u001b[0;34m(X, y, S, f, QL, QR, num_class_target, index_class_target, verbos)\u001b[0m\n\u001b[1;32m    161\u001b[0m         \u001b[0;31m#ax4.set_title('QprimeR')\u001b[0m\u001b[0;34m\u001b[0m\u001b[0;34m\u001b[0m\u001b[0m\n\u001b[1;32m    162\u001b[0m         \u001b[0mVal_DG\u001b[0m \u001b[0;34m=\u001b[0m \u001b[0mnp\u001b[0m\u001b[0;34m.\u001b[0m\u001b[0mappend\u001b[0m\u001b[0;34m(\u001b[0m\u001b[0mVal_DG\u001b[0m\u001b[0;34m,\u001b[0m\u001b[0mdg\u001b[0m\u001b[0;34m(\u001b[0m\u001b[0mqL\u001b[0m\u001b[0;34m,\u001b[0m\u001b[0mlen\u001b[0m\u001b[0;34m(\u001b[0m\u001b[0mleft\u001b[0m\u001b[0;34m)\u001b[0m\u001b[0;34m,\u001b[0m\u001b[0mqR\u001b[0m\u001b[0;34m,\u001b[0m\u001b[0mlen\u001b[0m\u001b[0;34m(\u001b[0m\u001b[0mright\u001b[0m\u001b[0;34m)\u001b[0m\u001b[0;34m,\u001b[0m\u001b[0mQL\u001b[0m\u001b[0;34m,\u001b[0m\u001b[0mQR\u001b[0m\u001b[0;34m)\u001b[0m\u001b[0;34m)\u001b[0m\u001b[0;34m\u001b[0m\u001b[0m\n\u001b[0;32m--> 163\u001b[0;31m         \u001b[0mVal_infogain\u001b[0m \u001b[0;34m=\u001b[0m \u001b[0mnp\u001b[0m\u001b[0;34m.\u001b[0m\u001b[0mappend\u001b[0m\u001b[0;34m(\u001b[0m\u001b[0mVal_infogain\u001b[0m\u001b[0;34m,\u001b[0m\u001b[0minfogain\u001b[0m\u001b[0;34m(\u001b[0m\u001b[0mqL\u001b[0m\u001b[0;34m,\u001b[0m\u001b[0mlen\u001b[0m\u001b[0;34m(\u001b[0m\u001b[0mleft\u001b[0m\u001b[0;34m)\u001b[0m\u001b[0;34m,\u001b[0m\u001b[0mqR\u001b[0m\u001b[0;34m,\u001b[0m\u001b[0mlen\u001b[0m\u001b[0;34m(\u001b[0m\u001b[0mright\u001b[0m\u001b[0;34m)\u001b[0m\u001b[0;34m)\u001b[0m\u001b[0;34m)\u001b[0m        \u001b[0;31m#Val_swap = np.append(Val_swap,dg(Sleft,len(left),Sright,len(right),QR,QL)) # this is the divergence measure for each threshold split\u001b[0m\u001b[0;34m\u001b[0m\u001b[0m\n\u001b[0m\u001b[1;32m    164\u001b[0m     \u001b[0;32mif\u001b[0m\u001b[0;34m(\u001b[0m\u001b[0mverbos\u001b[0m\u001b[0;34m)\u001b[0m\u001b[0;34m:\u001b[0m\u001b[0;34m\u001b[0m\u001b[0m\n\u001b[1;32m    165\u001b[0m         \u001b[0mfig\u001b[0m\u001b[0;34m,\u001b[0m \u001b[0;34m(\u001b[0m\u001b[0max1\u001b[0m\u001b[0;34m,\u001b[0m \u001b[0max2\u001b[0m\u001b[0;34m,\u001b[0m \u001b[0max3\u001b[0m\u001b[0;34m)\u001b[0m \u001b[0;34m=\u001b[0m \u001b[0mplt\u001b[0m\u001b[0;34m.\u001b[0m\u001b[0msubplots\u001b[0m\u001b[0;34m(\u001b[0m\u001b[0;36m1\u001b[0m\u001b[0;34m,\u001b[0m \u001b[0;36m3\u001b[0m\u001b[0;34m,\u001b[0m \u001b[0msharex\u001b[0m\u001b[0;34m=\u001b[0m\u001b[0;34m'col'\u001b[0m\u001b[0;34m,\u001b[0m \u001b[0msharey\u001b[0m\u001b[0;34m=\u001b[0m\u001b[0;34m'row'\u001b[0m\u001b[0;34m)\u001b[0m\u001b[0;34m\u001b[0m\u001b[0m\n",
      "\u001b[0;32m<ipython-input-110-e84d0a129a37>\u001b[0m in \u001b[0;36minfogain\u001b[0;34m(yleft, len_left, yright, len_right)\u001b[0m\n\u001b[1;32m     97\u001b[0m \u001b[0;32mdef\u001b[0m \u001b[0minfogain\u001b[0m\u001b[0;34m(\u001b[0m\u001b[0myleft\u001b[0m\u001b[0;34m,\u001b[0m\u001b[0mlen_left\u001b[0m\u001b[0;34m,\u001b[0m\u001b[0myright\u001b[0m\u001b[0;34m,\u001b[0m\u001b[0mlen_right\u001b[0m\u001b[0;34m)\u001b[0m\u001b[0;34m:\u001b[0m\u001b[0;34m\u001b[0m\u001b[0m\n\u001b[1;32m     98\u001b[0m     \u001b[0mN\u001b[0m \u001b[0;34m=\u001b[0m \u001b[0mlen_left\u001b[0m\u001b[0;34m+\u001b[0m\u001b[0mlen_right\u001b[0m\u001b[0;34m\u001b[0m\u001b[0m\n\u001b[0;32m---> 99\u001b[0;31m     \u001b[0myparent\u001b[0m \u001b[0;34m=\u001b[0m \u001b[0;34m(\u001b[0m\u001b[0mlen_left\u001b[0m\u001b[0;34m/\u001b[0m\u001b[0mN\u001b[0m\u001b[0;34m)\u001b[0m\u001b[0;34m*\u001b[0m\u001b[0myleft\u001b[0m\u001b[0;34m+\u001b[0m\u001b[0;34m(\u001b[0m\u001b[0mlen_right\u001b[0m\u001b[0;34m/\u001b[0m\u001b[0mN\u001b[0m\u001b[0;34m)\u001b[0m\u001b[0;34m*\u001b[0m\u001b[0myright\u001b[0m\u001b[0;34m\u001b[0m\u001b[0m\n\u001b[0m\u001b[1;32m    100\u001b[0m     \u001b[0;31m#compute information gain\u001b[0m\u001b[0;34m\u001b[0m\u001b[0;34m\u001b[0m\u001b[0m\n\u001b[1;32m    101\u001b[0m     \u001b[0mI\u001b[0m \u001b[0;34m=\u001b[0m \u001b[0mentropy\u001b[0m\u001b[0;34m(\u001b[0m\u001b[0myparent\u001b[0m\u001b[0;34m)\u001b[0m \u001b[0;34m-\u001b[0m\u001b[0;34m(\u001b[0m \u001b[0;34m(\u001b[0m\u001b[0mlen_left\u001b[0m\u001b[0;34m/\u001b[0m\u001b[0mN\u001b[0m\u001b[0;34m)\u001b[0m\u001b[0;34m*\u001b[0m\u001b[0mentropy\u001b[0m\u001b[0;34m(\u001b[0m\u001b[0myleft\u001b[0m\u001b[0;34m)\u001b[0m \u001b[0;34m+\u001b[0m \u001b[0;34m(\u001b[0m\u001b[0mlen_right\u001b[0m\u001b[0;34m/\u001b[0m\u001b[0mN\u001b[0m\u001b[0;34m)\u001b[0m\u001b[0;34m*\u001b[0m\u001b[0mentropy\u001b[0m\u001b[0;34m(\u001b[0m\u001b[0myright\u001b[0m\u001b[0;34m)\u001b[0m \u001b[0;34m)\u001b[0m\u001b[0;34m\u001b[0m\u001b[0m\n",
      "\u001b[0;31mKeyboardInterrupt\u001b[0m: "
     ]
    }
   ],
   "source": [
    "STRUTacc = np.zeros(len(PatientCodes)) #to store acc when using source + Target with STRUT\n",
    "STRUTacc_all = np.zeros((len(PatientCodes),4)) #store acc for each session used as target \n",
    "k = 0\n",
    "for s in PatientCodes:\n",
    "    #loop through all 4 sessions and use one as target \n",
    "    for session in range(4):\n",
    "        target = CBRData[(CBRData['SubjID'] == s) & (CBRData['Session'] == session+1)]\n",
    "        test = CBRData[(CBRData['SubjID'] == s) & (CBRData['Session'] != session+1)]\n",
    "        Nclasses = len(target['Label'].unique()) #How many activities we have for this patient\n",
    "\n",
    "        Xtarget = target.select_columns(feature_cols).to_numpy()\n",
    "        ytarget = target.select_columns(label_cols).to_numpy()\n",
    "        ytarget = ytarget.reshape(-1)\n",
    "        Xtest = test.select_columns(feature_cols).to_numpy()\n",
    "        ytest = test.select_columns(label_cols).to_numpy()\n",
    "        ytest = ytest.reshape(-1)\n",
    "\n",
    "        STRUT_RF = STRUT(Xtrain,ytrain,Xtarget,ytarget,n_trees=50,verbos = False)\n",
    "\n",
    "        #balanced accuracy\n",
    "        acc_c = 0\n",
    "        ypred = np.asarray(map(lambda x:forest_classify_ensemble(STRUT_RF,x),Xtest))\n",
    "        for c in np.unique(ytest):\n",
    "            i = ytest == c\n",
    "            correct = ypred[i] == ytest[i]\n",
    "            acc_c += sum(correct)/len(correct)\n",
    "\n",
    "        STRUTacc_all[k,session] = acc_c/Nclasses\n",
    "        \n",
    "    STRUTacc[k]=STRUTacc_all[k,:].mean()\n",
    "        \n",
    "    print 'Patient %s,  '%s\n",
    "    print '# of classes = %s'%Nclasses\n",
    "    print 'Source samples = %s, Target samples = %s, Test samples = %s'%(len(ytrain),len(ytarget),len(ytest))\n",
    "    print 'Acc Target Only = %s, Acc w STRUT = %s, minAcc_STRUT = %s, MaxAcc_STRUT = %s\\n'%(TOacc[k],STRUTacc[k],STRUTacc_all[k,:].min(),STRUTacc_all[k,:].max())\n",
    "    k = k+1\n",
    "\n",
    "\n",
    "print 'mean Acc - Source only = %s'%SOacc.mean()\n",
    "print 'mean Acc - Target only = %s'%TOacc.mean()\n",
    "print 'mean Acc w STRUT = %s'%STRUTacc.mean()"
   ]
  },
  {
   "cell_type": "code",
   "execution_count": 37,
   "metadata": {
    "collapsed": false
   },
   "outputs": [
    {
     "data": {
      "text/plain": [
       "array([[ 0.72414545,  0.60721085,  0.74233883,  0.63194684],\n",
       "       [ 0.3987342 ,  0.47282855,  0.57125398,  0.39566855],\n",
       "       [ 0.59259601,  0.4476123 ,  0.52103758,  0.50430521],\n",
       "       [ 0.63253844,  0.55933719,  0.49889184,  0.50135385],\n",
       "       [ 0.69183509,  0.59419822,  0.86740698,  0.37094853],\n",
       "       [ 0.77823482,  0.56768575,  0.51657815,  0.40184108],\n",
       "       [ 0.83480808,  0.70331428,  0.57507774,  0.54818701],\n",
       "       [ 0.92041367,  0.63492022,  0.75370896,  0.62277706],\n",
       "       [ 0.58796695,  0.56396913,  0.53697238,  0.46421793],\n",
       "       [ 0.65169433,  0.77129745,  0.74510642,  0.78298551]])"
      ]
     },
     "execution_count": 37,
     "metadata": {},
     "output_type": "execute_result"
    }
   ],
   "source": [
    "STRUTacc_all"
   ]
  },
  {
   "cell_type": "code",
   "execution_count": 33,
   "metadata": {
    "collapsed": false
   },
   "outputs": [
    {
     "data": {
      "text/plain": [
       "<matplotlib.text.Text at 0x10d91e490>"
      ]
     },
     "execution_count": 33,
     "metadata": {},
     "output_type": "execute_result"
    },
    {
     "data": {
      "image/png": "[encoded data removed]",
      "text/plain": [
       "<matplotlib.figure.Figure at 0x127b0c2d0>"
      ]
     },
     "metadata": {},
     "output_type": "display_data"
    }
   ],
   "source": [
    "#DG ONLY\n",
    "plt.figure(1)\n",
    "plt.plot(PatientCodes,STRUTacc,'ro-',PatientCodes,TOacc,'bo-')\n",
    "plt.xlabel('Patient #')\n",
    "plt.ylabel('Balanced Accuracy')"
   ]
  },
  {
   "cell_type": "code",
   "execution_count": 91,
   "metadata": {
    "collapsed": false
   },
   "outputs": [
    {
     "data": {
      "text/plain": [
       "<matplotlib.text.Text at 0x125ccaad0>"
      ]
     },
     "execution_count": 91,
     "metadata": {},
     "output_type": "execute_result"
    },
    {
     "data": {
      "image/png": "[encoded data removed]",
      "text/plain": [
       "<matplotlib.figure.Figure at 0x1272866d0>"
      ]
     },
     "metadata": {},
     "output_type": "display_data"
    }
   ],
   "source": [
    "#IG ONLY\n",
    "plt.figure(1)\n",
    "plt.plot(PatientCodes,STRUTacc,'ro-',PatientCodes,TOacc,'bo-')\n",
    "plt.xlabel('Patient #')\n",
    "plt.ylabel('Balanced Accuracy')"
   ]
  },
  {
   "cell_type": "code",
   "execution_count": 34,
   "metadata": {
    "collapsed": false
   },
   "outputs": [
    {
     "data": {
      "text/plain": [
       "<matplotlib.text.Text at 0x128ebc6d0>"
      ]
     },
     "execution_count": 34,
     "metadata": {},
     "output_type": "execute_result"
    },
    {
     "data": {
      "image/png": "[encoded data removed]",
      "text/plain": [
       "<matplotlib.figure.Figure at 0x12b99d990>"
      ]
     },
     "metadata": {},
     "output_type": "display_data"
    }
   ],
   "source": [
    "plt.figure(1)\n",
    "#plt.subplot(221)\n",
    "#plt.plot(STRUTacc-TOacc,'ro-')\n",
    "#plt.xlabel('Patient #')\n",
    "#plt.ylabel('Balanced Accuracy')\n",
    "#plt.title('(STRUT - Target_only)')\n",
    "\n",
    "#plt.subplot(223)\n",
    "plt.plot(PatientCodes,STRUTacc,'ro-',PatientCodes,TOacc,'bo-')\n",
    "plt.xlabel('Patient #')\n",
    "plt.ylabel('Balanced Accuracy')\n",
    "#plt.legend(['w SER','Target only'])\n",
    "\n",
    "#plt.subplot(222)\n",
    "#plt.plot(Ntarget)\n",
    "#plt.title('target samples per subject')\n",
    "#plt.show"
   ]
  },
  {
   "cell_type": "code",
   "execution_count": 37,
   "metadata": {
    "collapsed": false
   },
   "outputs": [
    {
     "data": {
      "text/plain": [
       "<matplotlib.text.Text at 0x128791ad0>"
      ]
     },
     "execution_count": 37,
     "metadata": {},
     "output_type": "execute_result"
    },
    {
     "data": {
      "image/png": "[encoded data removed]",
      "text/plain": [
       "<matplotlib.figure.Figure at 0x12879b790>"
      ]
     },
     "metadata": {},
     "output_type": "display_data"
    }
   ],
   "source": [
    "plt.figure(1)\n",
    "#plt.subplot(221)\n",
    "#plt.plot(STRUTacc-TOacc,'ro-')\n",
    "#plt.xlabel('Patient #')\n",
    "#plt.ylabel('Balanced Accuracy')\n",
    "#plt.title('(STRUT - Target_only)')\n",
    "\n",
    "#plt.subplot(223)\n",
    "plt.plot(PatientCodes,STRUTacc,'ro-',PatientCodes,TOacc,'bo-')\n",
    "plt.xlabel('Patient #')\n",
    "plt.ylabel('Balanced Accuracy')\n",
    "#plt.legend(['w SER','Target only'])\n",
    "\n",
    "#plt.subplot(222)\n",
    "#plt.plot(Ntarget)\n",
    "#plt.title('target samples per subject')\n",
    "#plt.show"
   ]
  },
  {
   "cell_type": "code",
   "execution_count": 40,
   "metadata": {
    "collapsed": false
   },
   "outputs": [
    {
     "data": {
      "text/plain": [
       "<matplotlib.text.Text at 0x1275c64d0>"
      ]
     },
     "execution_count": 40,
     "metadata": {},
     "output_type": "execute_result"
    },
    {
     "data": {
      "image/png": "[encoded data removed]",
      "text/plain": [
       "<matplotlib.figure.Figure at 0x120c58c50>"
      ]
     },
     "metadata": {},
     "output_type": "display_data"
    }
   ],
   "source": [
    "plt.figure(1)\n",
    "plt.plot(PatientCodes,STRUTacc,'ro-',PatientCodes,TOacc,'bo-')\n",
    "plt.xlabel('Patient #')\n",
    "plt.ylabel('Balanced Accuracy')"
   ]
  },
  {
   "cell_type": "code",
   "execution_count": 44,
   "metadata": {
    "collapsed": false
   },
   "outputs": [
    {
     "data": {
      "text/plain": [
       "<matplotlib.text.Text at 0x127ccaf90>"
      ]
     },
     "execution_count": 44,
     "metadata": {},
     "output_type": "execute_result"
    },
    {
     "data": {
      "image/png": "[encoded data removed]",
      "text/plain": [
       "<matplotlib.figure.Figure at 0x127c7c590>"
      ]
     },
     "metadata": {},
     "output_type": "display_data"
    }
   ],
   "source": [
    "plt.figure(1)\n",
    "plt.plot(PatientCodes,STRUTacc,'ro-',PatientCodes,TOacc,'bo-',PatientCodes,SOacc,'go-')\n",
    "plt.xlabel('Patient #')\n",
    "plt.ylabel('Balanced Accuracy')"
   ]
  },
  {
   "cell_type": "code",
   "execution_count": 30,
   "metadata": {
    "collapsed": false
   },
   "outputs": [
    {
     "name": "stdout",
     "output_type": "stream",
     "text": [
      "Nclass patient 1 = 5\n",
      "Nclass patient 2 = 5\n",
      "Nclass patient 5 = 5\n",
      "Nclass patient 6 = 4\n",
      "Nclass patient 8 = 3\n",
      "Nclass patient 11 = 3\n",
      "Nclass patient 14 = 3\n",
      "Nclass patient 15 = 3\n",
      "Nclass patient 16 = 5\n",
      "Nclass patient 19 = 3\n"
     ]
    }
   ],
   "source": [
    "for s in PatientCodes:\n",
    "    a = CBRData[(CBRData['SubjID'] == s) & (CBRData['Session'] == 1)]\n",
    "    print 'Nclass patient %s = %s'%(s,len(a['Label'].unique()))\n"
   ]
  },
  {
   "cell_type": "code",
   "execution_count": 10,
   "metadata": {
    "collapsed": false
   },
   "outputs": [
    {
     "data": {
      "text/plain": [
       "array([1, 2, 5])"
      ]
     },
     "execution_count": 10,
     "metadata": {},
     "output_type": "execute_result"
    }
   ],
   "source": [
    "q = np.array([1,2,3,4,5])\n",
    "ind = np.array([0,1,4])\n",
    "q[ind]"
   ]
  },
  {
   "cell_type": "code",
   "execution_count": 68,
   "metadata": {
    "collapsed": false
   },
   "outputs": [
    {
     "name": "stdout",
     "output_type": "stream",
     "text": [
      "[  1.   2.  -1.   4.  -1.   6.  -1.  -1.   9.  10.  11.  -1.  -1.  14.  -1.\n",
      "  -1.  17.  -1.  -1.]\n",
      "[  8.   3.  -1.   5.  -1.   7.  -1.  -1.  16.  13.  12.  -1.  -1.  15.  -1.\n",
      "  -1.  18.  -1.  -1.]\n"
     ]
    }
   ],
   "source": [
    "def TransferToSKLsequence(ch_left,ch_right,subset):\n",
    "    new_left = np.zeros(len(subset))\n",
    "    new_right = np.zeros(len(subset))\n",
    "    for i in range(len(subset)):\n",
    "        (I,) = np.where(subset == ch_left[subset[i]])\n",
    "        if len(I)==0:\n",
    "            new_left[i] = -1\n",
    "        else:\n",
    "            \n",
    "            new_left[i] = I\n",
    "            \n",
    "        (I,) = np.where(subset == ch_right[subset[i]])\n",
    "        if len(I)==0:\n",
    "            new_right[i] = -1\n",
    "        else:\n",
    "            new_right[i] = I\n",
    "    return (new_left,new_right)\n",
    "\n",
    "ch_left = np.array([ 1,  2,  3, -1,  5, -1, -1,  8,  9, -1, -1, 12, -1, -1, 15, 16, 17, -1, -1, 20, -1, -1, 23, 24, -1, -1, 27, -1, -1])\n",
    "ch_right = np.array([14, 7, 4, -1,  6, -1, -1, 11, 10, -1, -1, 13, -1, -1, 22, 19, 18, -1, -1, 21, -1, -1, 26, 25, -1, -1, 28, -1, -1])\n",
    "subset = np.array([ 0,  1,  2,  7,  8, 11, 12, 13, 14, 15, 16, 17, 18, 19, 20, 21, 22, 23, 26])\n",
    "(a,b) = TransferToSKLsequence(ch_left,ch_right,subset)\n",
    "print a\n",
    "print b"
   ]
  },
  {
   "cell_type": "code",
   "execution_count": 58,
   "metadata": {
    "collapsed": false
   },
   "outputs": [
    {
     "name": "stdout",
     "output_type": "stream",
     "text": [
      "2\n",
      "[False False  True False False False False False False False False False\n",
      " False False False False False False False]\n"
     ]
    }
   ],
   "source": [
    "ch_left = np.array([ 1,  2,  3, -1,  5, -1, -1,  8,  9, -1, -1, 12, -1, -1, 15, 16, 17, -1, -1, 20, -1, -1, 23, 24, -1, -1, 27, -1, -1])\n",
    "ch_right = np.array([14, 7, 4, -1,  6, -1, -1, 11, 10, -1, -1, 13, -1, -1, 22, 19, 18, -1, -1, 21, -1, -1, 26, 25, -1, -1, 28, -1, -1])\n",
    "subset = np.array([ 0,  1,  2,  7,  8, 11, 12, 13, 14, 15, 16, 17, 18, 19, 20, 21, 22, 23, 26])\n",
    "print ch_left[subset[1]]\n",
    "I = (subset == ch_left[subset[1]])\n",
    "print I\n"
   ]
  },
  {
   "cell_type": "code",
   "execution_count": 57,
   "metadata": {
    "collapsed": false
   },
   "outputs": [
    {
     "data": {
      "text/plain": [
       "list"
      ]
     },
     "execution_count": 57,
     "metadata": {},
     "output_type": "execute_result"
    }
   ],
   "source": [
    "type(subset)"
   ]
  },
  {
   "cell_type": "markdown",
   "metadata": {
    "collapsed": true
   },
   "source": [
    "## Train a forest on Target data only"
   ]
  },
  {
   "cell_type": "code",
   "execution_count": 45,
   "metadata": {
    "collapsed": false
   },
   "outputs": [
    {
     "name": "stdout",
     "output_type": "stream",
     "text": [
      "Patient 1, BAcc = 0.804935944011\n",
      "Patient 2, BAcc = 0.556784549917\n",
      "Patient 5, BAcc = 0.653978658868\n",
      "Patient 6, BAcc = 0.554037603531\n",
      "Patient 8, BAcc = 0.534470168882\n",
      "Patient 11, BAcc = 0.498515569636\n",
      "Patient 14, BAcc = 0.565454908539\n",
      "Patient 15, BAcc = 0.581813263402\n",
      "Patient 16, BAcc = 0.558014499038\n",
      "Patient 19, BAcc = 0.706019324856\n",
      "\n",
      "mean acc Target only = 0.601402449068\n"
     ]
    }
   ],
   "source": [
    "TOacc = np.zeros(len(PatientCodes)) \n",
    "Ntarget = np.zeros(len(PatientCodes))\n",
    "k = 0\n",
    "for s in PatientCodes:\n",
    "    \n",
    "    target = CBRData[(CBRData['SubjID'] == s) & (CBRData['Session'] == 1)]\n",
    "    test = CBRData[(CBRData['SubjID'] == s) & (CBRData['Session'] != 1)]\n",
    "    Nclasses = len(target['Label'].unique()) #How many activities we have for this patient\n",
    "\n",
    "    Xtarget = target.select_columns(feature_cols).to_numpy()\n",
    "    ytarget = target.select_columns(label_cols).to_numpy()\n",
    "    ytarget = ytarget.reshape(-1)\n",
    "    Xtest = test.select_columns(feature_cols).to_numpy()\n",
    "    ytest = test.select_columns(label_cols).to_numpy()\n",
    "    ytest = ytest.reshape(-1)\n",
    "    Ntarget[k] = len(ytarget)\n",
    "    \n",
    "    RF = RandomForestClassifier(n_estimators=50)\n",
    "    RF = RF.fit(Xtarget,ytarget)\n",
    "    ypred = RF.predict(Xtest)\n",
    "    #acc = sum(ypred == ytest)/len(ytest)\n",
    "    #balanced accuracy\n",
    "    acc_c = 0\n",
    "    for c in np.unique(ytest):\n",
    "        i = ytest == c\n",
    "        correct = ypred[i] == ytest[i]\n",
    "        acc_c += sum(correct)/len(correct)\n",
    "    \n",
    "    BAcc = acc_c/len(np.unique(ytest))\n",
    "    TOacc[k] = BAcc\n",
    "    print 'Patient %s, BAcc = %s'%(s,TOacc[k])\n",
    "    k = k+1\n",
    "\n",
    "print '\\nmean acc Target only = %s'%TOacc.mean()"
   ]
  },
  {
   "cell_type": "code",
   "execution_count": 52,
   "metadata": {
    "collapsed": false
   },
   "outputs": [
    {
     "data": {
      "text/plain": [
       "<function matplotlib.pyplot.show>"
      ]
     },
     "execution_count": 52,
     "metadata": {},
     "output_type": "execute_result"
    },
    {
     "data": {
      "image/png": "[encoded data removed]",
      "text/plain": [
       "<matplotlib.figure.Figure at 0x138db7310>"
      ]
     },
     "metadata": {},
     "output_type": "display_data"
    }
   ],
   "source": [
    "plt.figure(1)\n",
    "plt.subplot(221)\n",
    "plt.plot(SERacc-TOacc,'ro-')\n",
    "plt.xlabel('Patient #')\n",
    "plt.ylabel('Balanced Accuracy')\n",
    "plt.title('(SER - Target_only)')\n",
    "\n",
    "plt.subplot(223)\n",
    "plt.plot(SERacc,'ro-',TOacc,'bo-')\n",
    "plt.xlabel('Patient #')\n",
    "plt.ylabel('Balanced Accuracy')\n",
    "#plt.legend(['w SER','Target only'])\n",
    "\n",
    "plt.subplot(222)\n",
    "plt.plot(Ntarget)\n",
    "plt.title('target samples per subject')\n",
    "plt.show"
   ]
  },
  {
   "cell_type": "markdown",
   "metadata": {},
   "source": [
    "The SER can boost accuracy in some cases, while for others it is outperformed by a model trained on the target data only. Also, the target session matters (e.g. using session 4 as the target drastically decreases the results)"
   ]
  },
  {
   "cell_type": "code",
   "execution_count": 49,
   "metadata": {
    "collapsed": false
   },
   "outputs": [
    {
     "data": {
      "text/plain": [
       "array([[ 1.        ,  0.78083249],\n",
       "       [ 0.78083249,  1.        ]])"
      ]
     },
     "execution_count": 49,
     "metadata": {},
     "output_type": "execute_result"
    }
   ],
   "source": [
    "np.corrcoef(SERacc,Ntarget)"
   ]
  },
  {
   "cell_type": "markdown",
   "metadata": {},
   "source": [
    "* Need to add a confusion matrix"
   ]
  },
  {
   "cell_type": "markdown",
   "metadata": {
    "collapsed": true
   },
   "source": [
    "## Train on Source (Healthy) + Target"
   ]
  },
  {
   "cell_type": "code",
   "execution_count": 54,
   "metadata": {
    "collapsed": false
   },
   "outputs": [
    {
     "name": "stdout",
     "output_type": "stream",
     "text": [
      "Patient 1, BAcc = 0.734037168364\n",
      "Patient 2, BAcc = 0.423518372406\n",
      "Patient 5, BAcc = 0.528363990575\n",
      "Patient 6, BAcc = 0.619051650027\n",
      "Patient 8, BAcc = 0.518096439157\n",
      "Patient 11, BAcc = 0.550120727058\n",
      "Patient 14, BAcc = 0.552199311132\n",
      "Patient 15, BAcc = 0.535050986683\n",
      "Patient 16, BAcc = 0.676307113305\n",
      "Patient 19, BAcc = 0.50103847815\n",
      "Mean BAcc using Source + Target = 0.563778423686\n"
     ]
    }
   ],
   "source": [
    "XHealthy = HealthyData.select_columns(feature_cols).to_numpy()\n",
    "yHealthy = HealthyData.select_columns(label_cols).to_numpy()\n",
    "yHealthy = yHealthy.reshape(-1) #to squeeze last dimension and obtain a 1D array\n",
    "SaTacc = np.zeros(len(PatientCodes)) \n",
    "k = 0\n",
    "for s in PatientCodes:\n",
    "    \n",
    "    target = CBRData[(CBRData['SubjID'] == s) & (CBRData['Session'] == 1)]\n",
    "    test = CBRData[(CBRData['SubjID'] == s) & (CBRData['Session'] != 1)]\n",
    "    Nclasses = len(target['Label'].unique()) #How many activities we have for this patient\n",
    "\n",
    "    Xtarget = target.select_columns(feature_cols).to_numpy()\n",
    "    ytarget = target.select_columns(label_cols).to_numpy()\n",
    "    ytarget = ytarget.reshape(-1)\n",
    "    Xtest = test.select_columns(feature_cols).to_numpy()\n",
    "    ytest = test.select_columns(label_cols).to_numpy()\n",
    "    ytest = ytest.reshape(-1)\n",
    "\n",
    "    Xtrain = np.concatenate((XHealthy,Xtarget),axis=0)\n",
    "    ytrain = np.concatenate((yHealthy,ytarget),axis=0)\n",
    "    \n",
    "    RF = RandomForestClassifier(n_estimators=50)\n",
    "    RF = RF.fit(Xtrain,ytrain)\n",
    "    ypred = RF.predict(Xtest)\n",
    "    #acc = sum(ypred == ytest)/len(ytest)\n",
    "    #balanced accuracy\n",
    "    acc_c = 0\n",
    "    for c in np.unique(ytest):\n",
    "        i = ytest == c\n",
    "        correct = ypred[i] == ytest[i]\n",
    "        acc_c += sum(correct)/len(correct)\n",
    "    \n",
    "    BAcc = acc_c/len(np.unique(ytest))\n",
    "    SaTacc[k] = BAcc\n",
    "    print 'Patient %s, BAcc = %s'%(s,SaTacc[k])\n",
    "    k = k+1\n",
    "\n",
    "print 'Mean BAcc using Source + Target = %s'%SaTacc.mean()"
   ]
  },
  {
   "cell_type": "code",
   "execution_count": 55,
   "metadata": {
    "collapsed": false
   },
   "outputs": [
    {
     "name": "stdout",
     "output_type": "stream",
     "text": [
      "[[ 0.47027668  0.80493594  0.73403717  0.65589653]\n",
      " [ 0.34356476  0.55678455  0.42351837  0.36069061]\n",
      " [ 0.46302359  0.65397866  0.52836399  0.51038908]\n",
      " [ 0.58641984  0.5540376   0.61905165  0.86269511]\n",
      " [ 0.3006138   0.53447017  0.51809644  0.65068006]\n",
      " [ 0.52889891  0.49851557  0.55012073  0.88847613]\n",
      " [ 0.49995839  0.56545491  0.55219931  0.85183507]\n",
      " [ 0.44732281  0.58181326  0.53505099  0.76520909]\n",
      " [ 0.66877704  0.5580145   0.67630711  0.72132396]\n",
      " [ 0.50256238  0.70601932  0.50103848  0.46540353]]\n"
     ]
    }
   ],
   "source": [
    "SOacc = np.expand_dims(SOacc, axis=1)\n",
    "TOacc = np.expand_dims(TOacc, axis=1)\n",
    "SaTacc = np.expand_dims(SaTacc, axis=1)\n",
    "SERacc = np.expand_dims(SERacc, axis=1)\n",
    "\n",
    "AccAll = np.concatenate((SOacc,TOacc,SaTacc,SERacc),axis=1)\n",
    "print AccAll"
   ]
  },
  {
   "cell_type": "code",
   "execution_count": 56,
   "metadata": {
    "collapsed": false
   },
   "outputs": [
    {
     "data": {
      "text/plain": [
       "<function matplotlib.pyplot.show>"
      ]
     },
     "execution_count": 56,
     "metadata": {},
     "output_type": "execute_result"
    },
    {
     "data": {
      "image/png": "[encoded data removed]",
      "text/plain": [
       "<matplotlib.figure.Figure at 0x135d97ed0>"
      ]
     },
     "metadata": {},
     "output_type": "display_data"
    }
   ],
   "source": [
    "plt.boxplot(AccAll)\n",
    "plt.show"
   ]
  },
  {
   "cell_type": "markdown",
   "metadata": {},
   "source": [
    "# Classifier Specificity paper tests\n",
    "* Note: Patients currently used are 1 2 5 6 8 11 14 15 16 19\n",
    "* Current paper draft: Sessions 1,2,3 CBR are used for testing, Session 4 CBR as target\n",
    "* **Impairment Specific**: is trained on all but one SCO and tested on the remaining CBR patient\n",
    "* **Patient Specific**: is trained on all SCO data (for that patient) and tested on Sessions 1,2,3 of CBR for the same patients\n",
    "* **Device-Specific**: trained using Leave One Session Out across sessions 1,2,3 of CBR data for that patient. That means the model is trained on Sessions 1,2 and tested on 3 (and then cycles through the combinations). Session 4 was left out for target data."
   ]
  },
  {
   "cell_type": "code",
   "execution_count": 139,
   "metadata": {
    "collapsed": true
   },
   "outputs": [],
   "source": [
    "PatientCodes = np.array([1, 2, 5, 6, 8, 11, 14, 15, 16, 19])"
   ]
  },
  {
   "cell_type": "markdown",
   "metadata": {},
   "source": [
    "## Impairment specific model (Leave one subject out)"
   ]
  },
  {
   "cell_type": "code",
   "execution_count": 58,
   "metadata": {
    "collapsed": false
   },
   "outputs": [
    {
     "name": "stdout",
     "output_type": "stream",
     "text": [
      "Patient 1, Impairment specific (SCO) model - BAcc = 0.543984111501\n",
      "Patient 2, Impairment specific (SCO) model - BAcc = 0.497768337469\n",
      "Patient 5, Impairment specific (SCO) model - BAcc = 0.488253786099\n",
      "Patient 6, Impairment specific (SCO) model - BAcc = 0.550538747842\n",
      "Patient 8, Impairment specific (SCO) model - BAcc = 0.46746662647\n",
      "Patient 11, Impairment specific (SCO) model - BAcc = 0.543220688805\n",
      "Patient 14, Impairment specific (SCO) model - BAcc = 0.58054560037\n",
      "Patient 15, Impairment specific (SCO) model - BAcc = 0.571897224455\n",
      "Patient 16, Impairment specific (SCO) model - BAcc = 0.544442163861\n",
      "Patient 19, Impairment specific (SCO) model - BAcc = 0.883598427716\n",
      "Mean BAcc - Impairment Specific (SCO) = 0.567171571459\n"
     ]
    }
   ],
   "source": [
    "ISpec_acc = np.zeros(len(PatientCodes)) \n",
    "k = 0\n",
    "for s in PatientCodes:\n",
    "    \n",
    "    train = SCOData[(SCOData['SubjID'] != s)]\n",
    "    test = CBRData[(CBRData['SubjID'] == s) & (CBRData['Session'] != 4)] #test on 3 CBR sessions\n",
    "    Nclasses = len(train['Label'].unique()) #How many activities we have for this patient\n",
    "\n",
    "    Xtrain = train.select_columns(feature_cols).to_numpy()\n",
    "    ytrain = train.select_columns(label_cols).to_numpy()\n",
    "    ytrain = ytrain.reshape(-1)\n",
    "    Xtest = test.select_columns(feature_cols).to_numpy()\n",
    "    ytest = test.select_columns(label_cols).to_numpy()\n",
    "    ytest = ytest.reshape(-1)\n",
    "    \n",
    "    RF = RandomForestClassifier(n_estimators=50)\n",
    "    RF = RF.fit(Xtrain,ytrain)\n",
    "    ypred = RF.predict(Xtest)\n",
    "    #acc = sum(ypred == ytest)/len(ytest)\n",
    "    #balanced accuracy\n",
    "    acc_c = 0\n",
    "    for c in np.unique(ytest):\n",
    "        i = ytest == c\n",
    "        correct = ypred[i] == ytest[i]\n",
    "        acc_c += sum(correct)/len(correct)\n",
    "    \n",
    "    BAcc = acc_c/len(np.unique(ytest))\n",
    "    ISpec_acc[k] = BAcc\n",
    "    print 'Patient %s, Impairment specific (SCO) model - BAcc = %s'%(s,ISpec_acc[k])\n",
    "    k = k+1\n",
    "\n",
    "print 'Mean BAcc - Impairment Specific (SCO) = %s'%ISpec_acc.mean()    "
   ]
  },
  {
   "cell_type": "markdown",
   "metadata": {},
   "source": [
    "## Train on SCO and test on CBR (Patient Specific model) "
   ]
  },
  {
   "cell_type": "code",
   "execution_count": 74,
   "metadata": {
    "collapsed": false
   },
   "outputs": [
    {
     "name": "stdout",
     "output_type": "stream",
     "text": [
      "Patient 1, Nclasses = 5, Personal model (Trained on SCO) - BAcc = 0.690657930136\n",
      "Patient 2, Nclasses = 5, Personal model (Trained on SCO) - BAcc = 0.514201316211\n",
      "Patient 5, Nclasses = 5, Personal model (Trained on SCO) - BAcc = 0.641250439644\n",
      "Patient 6, Nclasses = 5, Personal model (Trained on SCO) - BAcc = 0.539390667014\n",
      "Patient 8, Nclasses = 3, Personal model (Trained on SCO) - BAcc = 0.712432565372\n",
      "Patient 11, Nclasses = 5, Personal model (Trained on SCO) - BAcc = 0.48350570923\n",
      "Patient 14, Nclasses = 5, Personal model (Trained on SCO) - BAcc = 0.489253976453\n",
      "Patient 15, Nclasses = 5, Personal model (Trained on SCO) - BAcc = 0.413609989896\n",
      "Patient 16, Nclasses = 5, Personal model (Trained on SCO) - BAcc = 0.489487962491\n",
      "Patient 19, Nclasses = 3, Personal model (Trained on SCO) - BAcc = 0.780840989076\n",
      "Mean BAcc - Patient Specific (SCO) = 0.575463154552\n"
     ]
    }
   ],
   "source": [
    "PSpec_acc = np.zeros(len(PatientCodes)) \n",
    "k = 0\n",
    "for s in PatientCodes:\n",
    "    \n",
    "    train = SCOData[(SCOData['SubjID'] == s)]\n",
    "    test = CBRData[(CBRData['SubjID'] == s) & (CBRData['Session'] != 4)]\n",
    "    Nclasses = len(test['Label'].unique()) #How many activities we have for this patient\n",
    "\n",
    "    Xtrain = train.select_columns(feature_cols).to_numpy()\n",
    "    ytrain = train.select_columns(label_cols).to_numpy()\n",
    "    ytrain = ytrain.reshape(-1)\n",
    "    Xtest = test.select_columns(feature_cols).to_numpy()\n",
    "    ytest = test.select_columns(label_cols).to_numpy()\n",
    "    ytest = ytest.reshape(-1)\n",
    "    \n",
    "    RF = RandomForestClassifier(n_estimators=50)\n",
    "    RF = RF.fit(Xtrain,ytrain)\n",
    "    ypred = RF.predict(Xtest)\n",
    "    #acc = sum(ypred == ytest)/len(ytest)\n",
    "    #balanced accuracy\n",
    "    acc_c = 0\n",
    "    for c in np.unique(ytest):\n",
    "        i = ytest == c\n",
    "        correct = ypred[i] == ytest[i]\n",
    "        acc_c += sum(correct)/len(correct)\n",
    "    \n",
    "    BAcc = acc_c/len(np.unique(ytest))\n",
    "    PSpec_acc[k] = BAcc\n",
    "    print 'Patient %s, Nclasses = %s, Personal model (Trained on SCO) - BAcc = %s'%(s,Nclasses,PSpec_acc[k])\n",
    "    k = k+1\n",
    "\n",
    "print 'Mean BAcc - Patient Specific (SCO) = %s'%PSpec_acc.mean()    "
   ]
  },
  {
   "cell_type": "markdown",
   "metadata": {
    "collapsed": true
   },
   "source": [
    "## Train and test on CBR - Device specific model (CBR)\n",
    "* Leave One Session Out of CBR \n",
    "* Keep out 1 session (#4) for target"
   ]
  },
  {
   "cell_type": "code",
   "execution_count": 65,
   "metadata": {
    "collapsed": false
   },
   "outputs": [
    {
     "name": "stdout",
     "output_type": "stream",
     "text": [
      "Patient 1, Device Specific model - BAcc = 0.803518022125\n",
      "Patient 2, Device Specific model - BAcc = 0.651113329939\n",
      "Patient 5, Device Specific model - BAcc = 0.629395231577\n",
      "Patient 6, Device Specific model - BAcc = 0.594012604338\n",
      "Patient 8, Device Specific model - BAcc = 0.881942741734\n",
      "Patient 11, Device Specific model - BAcc = 0.733450526503\n",
      "Patient 14, Device Specific model - BAcc = 0.84999289801\n",
      "Patient 15, Device Specific model - BAcc = 0.830651274766\n",
      "Patient 16, Device Specific model - BAcc = 0.661073852136\n",
      "Patient 19, Device Specific model - BAcc = 0.751907231714\n",
      "Mean BAcc - Device Specific (CBR) = 0.738705771284\n"
     ]
    }
   ],
   "source": [
    "DSpec_acc = np.zeros(len(PatientCodes)) \n",
    "k = 0\n",
    "for s in PatientCodes:\n",
    "    \n",
    "    data =  CBRData[(CBRData['SubjID'] == s) & (CBRData['Session'] != 4)] #keep out 1 session for target\n",
    "    BAcc = 0\n",
    "    for session in range(1,4):\n",
    "                  \n",
    "        test = data[data['Session'] == session]\n",
    "        train = data[data['Session'] != session]\n",
    "    \n",
    "        Nclasses = len(target['Label'].unique()) #How many activities we have for this patient\n",
    "\n",
    "        Xtrain = train.select_columns(feature_cols).to_numpy()\n",
    "        ytrain = train.select_columns(label_cols).to_numpy()\n",
    "        ytrain = ytrain.reshape(-1)\n",
    "        Xtest = test.select_columns(feature_cols).to_numpy()\n",
    "        ytest = test.select_columns(label_cols).to_numpy()\n",
    "        ytest = ytest.reshape(-1)\n",
    "\n",
    "        RF = RandomForestClassifier(n_estimators=50)\n",
    "        RF = RF.fit(Xtrain,ytrain)\n",
    "        ypred = RF.predict(Xtest)\n",
    "        #acc = sum(ypred == ytest)/len(ytest)\n",
    "        #balanced accuracy\n",
    "        acc_c = 0\n",
    "        for c in np.unique(ytest):\n",
    "            i = ytest == c\n",
    "            correct = ypred[i] == ytest[i]\n",
    "            acc_c += sum(correct)/len(correct)\n",
    "\n",
    "        BAcc += acc_c/len(np.unique(ytest)) #for current session\n",
    "        \n",
    "    DSpec_acc[k] = BAcc/3 #the CV BAcc on 3 session \n",
    "    print 'Patient %s, Device Specific model - BAcc = %s'%(s,DSpec_acc[k])\n",
    "    k = k+1\n",
    "\n",
    "print 'Mean BAcc - Device Specific (CBR) = %s'%DSpec_acc.mean()    "
   ]
  },
  {
   "cell_type": "markdown",
   "metadata": {},
   "source": [
    "## Can we boost an impairment-specific model with the Device data?"
   ]
  },
  {
   "cell_type": "code",
   "execution_count": 71,
   "metadata": {
    "collapsed": false
   },
   "outputs": [
    {
     "name": "stdout",
     "output_type": "stream",
     "text": [
      "Patient 1, BAcc Impairment specific only = 0.57835963364, Bacc w SER = 0.595887038601\n",
      "Patient 2, BAcc Impairment specific only = 0.496082636568, Bacc w SER = 0.501462995569\n",
      "Patient 5, BAcc Impairment specific only = 0.482115943604, Bacc w SER = 0.498647282775\n",
      "Patient 6, BAcc Impairment specific only = 0.563228464701, Bacc w SER = 0.612659708275\n",
      "Patient 8, BAcc Impairment specific only = 0.46743938817, Bacc w SER = 0.752075664297\n",
      "Patient 11, BAcc Impairment specific only = 0.545551923753, Bacc w SER = 0.559630930743\n",
      "Patient 14, BAcc Impairment specific only = 0.616396651843, Bacc w SER = 0.616396651843\n",
      "Patient 15, BAcc Impairment specific only = 0.588985299386, Bacc w SER = 0.617322711911\n",
      "Patient 16, BAcc Impairment specific only = 0.532580984444, Bacc w SER = 0.540313477055\n",
      "Patient 19, BAcc Impairment specific only = 0.891267425385, Bacc w SER = 0.891267425385\n",
      "Mean BAcc - Impairment Specific only = 0.576200835149\n",
      "Mean BAcc - Impairment Specific w SER = 0.618566388645\n"
     ]
    }
   ],
   "source": [
    "ISpecSER_acc = np.zeros(len(PatientCodes)) \n",
    "ISpecSO_acc = np.zeros(len(PatientCodes)) \n",
    "k = 0\n",
    "for s in PatientCodes:\n",
    "    \n",
    "    train = SCOData[(SCOData['SubjID'] != s)]\n",
    "    test = CBRData[(CBRData['SubjID'] == s) & (CBRData['Session'] != 4)] #test on 3 CBR sessions\n",
    "    target = CBRData[(CBRData['SubjID'] == s) & (CBRData['Session'] == 4)] \n",
    "\n",
    "    Nclasses = len(train['Label'].unique()) #How many activities we have for this patient\n",
    "\n",
    "    Xtrain = train.select_columns(feature_cols).to_numpy()\n",
    "    ytrain = train.select_columns(label_cols).to_numpy()\n",
    "    ytrain = ytrain.reshape(-1)\n",
    "    Xtarget = target.select_columns(feature_cols).to_numpy()\n",
    "    ytarget = target.select_columns(label_cols).to_numpy()\n",
    "    ytarget = ytarget.reshape(-1)\n",
    "    Xtest = test.select_columns(feature_cols).to_numpy()\n",
    "    ytest = test.select_columns(label_cols).to_numpy()\n",
    "    ytest = ytest.reshape(-1)\n",
    "    \n",
    "    RF = RandomForestClassifier(n_estimators=50)\n",
    "    RF = RF.fit(Xtrain,ytrain)\n",
    "    ypred = RF.predict(Xtest)\n",
    "    \n",
    "    #balanced accuracy - Source only\n",
    "    acc_c = 0\n",
    "    for c in np.unique(ytest):\n",
    "        i = ytest == c\n",
    "        correct = ypred[i] == ytest[i]\n",
    "        acc_c += sum(correct)/len(correct)    \n",
    "    ISpecSO_acc[k] = acc_c/len(np.unique(ytest))\n",
    "    \n",
    "    #combining source w target data\n",
    "    newRF = SERfuncs.forest_convert(RF)\n",
    "    expRF = SERfuncs.forest_SER(newRF,Xtarget,ytarget,C=Nclasses) #refine RF on current data (C is the # of classes on the source)\n",
    "      \n",
    "    #balanced accuracy\n",
    "    acc_c = 0\n",
    "    ypred = np.asarray(map(lambda x:SERfuncs.forest_classify_ensemble(expRF,x),Xtest))\n",
    "    for c in np.unique(ytest):\n",
    "        i = ytest == c\n",
    "        correct = ypred[i] == ytest[i]\n",
    "        acc_c += sum(correct)/len(correct)\n",
    "    BAcc = acc_c/len(np.unique(ytest))\n",
    "    ISpecSER_acc[k] = BAcc\n",
    "        \n",
    "    print 'Patient %s, BAcc Impairment specific only = %s, Bacc w SER = %s'%(s,ISpecSO_acc[k],ISpecSER_acc[k])\n",
    "    k = k+1\n",
    "\n",
    "print 'Mean BAcc - Impairment Specific only = %s'%ISpecSO_acc.mean()    \n",
    "print 'Mean BAcc - Impairment Specific w SER = %s'%ISpecSER_acc.mean()    "
   ]
  },
  {
   "cell_type": "markdown",
   "metadata": {},
   "source": [
    "No significant boost "
   ]
  },
  {
   "cell_type": "code",
   "execution_count": 75,
   "metadata": {
    "collapsed": false
   },
   "outputs": [
    {
     "data": {
      "text/plain": [
       "<function matplotlib.pyplot.show>"
      ]
     },
     "execution_count": 75,
     "metadata": {},
     "output_type": "execute_result"
    },
    {
     "data": {
      "image/png": "[encoded data removed]",
      "text/plain": [
       "<matplotlib.figure.Figure at 0x12dd86c50>"
      ]
     },
     "metadata": {},
     "output_type": "display_data"
    }
   ],
   "source": [
    "plt.boxplot(Xtrain)\n",
    "plt.show\n"
   ]
  },
  {
   "cell_type": "code",
   "execution_count": null,
   "metadata": {
    "collapsed": true
   },
   "outputs": [],
   "source": []
  }
 ],
 "metadata": {
  "kernelspec": {
   "display_name": "Python 2",
   "language": "python",
   "name": "python2"
  },
  "language_info": {
   "codemirror_mode": {
    "name": "ipython",
    "version": 2
   },
   "file_extension": ".py",
   "mimetype": "text/x-python",
   "name": "python",
   "nbconvert_exporter": "python",
   "pygments_lexer": "ipython2",
   "version": "2.7.11"
  }
 },
 "nbformat": 4,
 "nbformat_minor": 0
}
